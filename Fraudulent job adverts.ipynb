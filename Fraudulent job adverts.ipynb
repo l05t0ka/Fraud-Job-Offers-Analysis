{
 "cells": [
  {
   "cell_type": "markdown",
   "metadata": {},
   "source": [
    "# Detect fraudulent job offers with Pandas and ML"
   ]
  },
  {
   "cell_type": "markdown",
   "metadata": {},
   "source": [
    "Notebook accompying the Medium post"
   ]
  },
  {
   "cell_type": "markdown",
   "metadata": {},
   "source": [
    "Data comes from kaggle https://www.kaggle.com/shivamb/real-or-fake-fake-jobposting-prediction / http://emscad.samos.aegean.gr/\n",
    "    "
   ]
  },
  {
   "cell_type": "markdown",
   "metadata": {},
   "source": [
    "Notebook structure\n",
    "1. Import libraries and define functions\n",
    "2. General look at the data\n",
    "3. Specify questions\n",
    "4. Exploration, data preprocessing, feature engineering\n",
    "5. Model"
   ]
  },
  {
   "cell_type": "markdown",
   "metadata": {},
   "source": [
    "## Import libraries and defined functions:"
   ]
  },
  {
   "cell_type": "code",
   "execution_count": 1,
   "metadata": {},
   "outputs": [],
   "source": [
    "import numpy as np \n",
    "import pandas as pd\n",
    "import missingno as msno \n",
    "import matplotlib.pyplot as plt\n",
    "import seaborn as sns\n",
    "import os\n",
    "import re\n",
    "import string\n",
    "from sklearn.model_selection import train_test_split\n",
    "from imblearn.over_sampling import SMOTE\n",
    "from sklearn.ensemble import RandomForestClassifier\n",
    "from sklearn.metrics import roc_auc_score, classification_report, confusion_matrix\n"
   ]
  },
  {
   "cell_type": "code",
   "execution_count": 2,
   "metadata": {},
   "outputs": [],
   "source": [
    "sns.set(style=\"whitegrid\")"
   ]
  },
  {
   "cell_type": "code",
   "execution_count": 3,
   "metadata": {},
   "outputs": [],
   "source": [
    "def find_work_from_home(desc):\n",
    "    '''looks up bigrams made from strings and returns 1 if there's a remark of work from home in the field\n",
    "    INPUT: text column with job offer description\n",
    "    OUTPUT: Returns 1 if text contains bigrams mentioning remote work, else 0'''\n",
    "    phrases = ['own place','from home', 'work remotely'\n",
    "                 ,'their homes', 'remote job']\n",
    "    words = desc.split()\n",
    "    pairs = [words[i:i + 2] for i in range(len(words))]\n",
    "    result = [\" \".join(pair) for pair in pairs if len(pair) > 1]\n",
    "    result = [''.join(c for c in s if c not in string.punctuation) for s in result]\n",
    "    if any(x in phrases for x in result):\n",
    "        return 1\n",
    "    else:\n",
    "        return 0"
   ]
  },
  {
   "cell_type": "code",
   "execution_count": 4,
   "metadata": {},
   "outputs": [],
   "source": [
    "def signal_phrases(desc):\n",
    "    ''' INPUT: desc - text column with job offer description\n",
    "    OUTPUT: Returns 1 if fraud-like phrases (bigrams) are encountered in the text, else 0'''\n",
    "    \n",
    "    suspicious = ['free time',  'data entry', 'in hand', 'cash paying',\n",
    "                  'for everyone', 'get started', 'become wealthy', 'pay daily'\n",
    "                  , 'make money', 'online job']\n",
    "    words = desc.split()\n",
    "    pairs = [words[i:i + 2] for i in range(len(words))]\n",
    "    result = [\" \".join(pair) for pair in pairs if len(pair) > 1]\n",
    "    result = [''.join(c for c in s if c not in string.punctuation) for s in result]\n",
    "    if any(x in suspicious for x in result):\n",
    "        return 1\n",
    "    else:\n",
    "        return 0"
   ]
  },
  {
   "cell_type": "code",
   "execution_count": 5,
   "metadata": {},
   "outputs": [],
   "source": [
    "def find_links(desc):\n",
    "    '''INPUT: desc - text column with job offer description\n",
    "    OUTPUT: Number of URLs found in the description field (URLs have been encoded in the dataset as #url)'''\n",
    "    links = re.findall(r'(#url_\\S+)', desc)\n",
    "    return len(links)\n"
   ]
  },
  {
   "cell_type": "code",
   "execution_count": 6,
   "metadata": {},
   "outputs": [],
   "source": [
    "def find_email(desc):\n",
    "    '''INPUT:text column with job offer description\n",
    "    OUTPUT: Number of email addresses found in the description field (Emails have been encoded in the dataset as #email)'''\n",
    "    email = re.findall(r'(#email_\\S+)',desc)\n",
    "    return len(email)"
   ]
  },
  {
   "cell_type": "code",
   "execution_count": 7,
   "metadata": {},
   "outputs": [],
   "source": [
    "def categorical_nans(columns, df, na_replacement=\"unknown\"):\n",
    "    \"\"\"INPUT: \n",
    "        df : Pandas DataFrame\n",
    "        columns: categorical columns to handle\n",
    "        na_replacement: value for NA\n",
    "        Output:\n",
    "        df : preprocessed Pandas DataFrame \"\"\"\n",
    "    for col in columns:\n",
    "        if df.dtypes[col]==\"object\":\n",
    "            df[col]=df[col].fillna(na_replacement)\n",
    "    return df\n",
    "    "
   ]
  },
  {
   "cell_type": "code",
   "execution_count": 8,
   "metadata": {},
   "outputs": [],
   "source": [
    "def higher_ed(formal_ed_str):\n",
    "    '''\n",
    "    INPUT:formal_ed_str - a string of one of the values from the Formal Education column\n",
    "    OUTPUT: return 1 if the string is  in (\"Master's degree\", \"Doctoral\", \"Professional degree\")\n",
    "        return 0 otherwise\n",
    "    \n",
    "    '''\n",
    "    if formal_ed_str in (\"Associate Degree\", \"Bachelor's Degree\", \"Master's Degree\", \"Professional\", \"Doctorate\"):\n",
    "        return 1\n",
    "    else:\n",
    "        return 0\n",
    "    "
   ]
  },
  {
   "cell_type": "code",
   "execution_count": 9,
   "metadata": {},
   "outputs": [],
   "source": [
    "def create_dummy_df(df, cat_cols):\n",
    "    '''\n",
    "    INPUT:\n",
    "    df - pandas dataframe with categorical variables you want to dummy\n",
    "    cat_cols - list of strings that are associated with names of the categorical columns\n",
    "    dummy_na - Bool holding whether you want to dummy NA vals of categorical columns or not\n",
    "    \n",
    "    OUTPUT:\n",
    "    df - a new dataframe that has the following characteristics:\n",
    "            1. contains all columns that were not specified as categorical\n",
    "            2. removes all the original columns in cat_cols\n",
    "            3. dummy columns for each of the categorical columns in cat_cols\n",
    "            4. if dummy_na is True - it also contains dummy columns for the NaN values\n",
    "            5. Use a prefix of the column name with an underscore (_) for separating \n",
    "    '''\n",
    "    for col in  cat_cols:\n",
    "        try:\n",
    "            # for each cat add dummy var, drop original column\n",
    "            df = pd.concat([df.drop(col, axis=1), pd.get_dummies(df[col], prefix=col, prefix_sep='_', drop_first=True, dummy_na=True)], axis=1)\n",
    "        except:\n",
    "            continue\n",
    "    return df"
   ]
  },
  {
   "cell_type": "code",
   "execution_count": 11,
   "metadata": {},
   "outputs": [],
   "source": [
    "filename = 'real-or-fake-fake-jobposting-prediction.zip'\n"
   ]
  },
  {
   "cell_type": "code",
   "execution_count": 12,
   "metadata": {},
   "outputs": [],
   "source": [
    "job_data = pd.read_csv(os.getcwd()+'/'+filename)"
   ]
  },
  {
   "cell_type": "markdown",
   "metadata": {},
   "source": [
    "## First peek at the data"
   ]
  },
  {
   "cell_type": "code",
   "execution_count": 13,
   "metadata": {},
   "outputs": [
    {
     "data": {
      "text/plain": [
       "(17880, 18)"
      ]
     },
     "execution_count": 13,
     "metadata": {},
     "output_type": "execute_result"
    }
   ],
   "source": [
    "job_data.shape"
   ]
  },
  {
   "cell_type": "code",
   "execution_count": 14,
   "metadata": {
    "scrolled": true
   },
   "outputs": [
    {
     "data": {
      "text/html": [
       "<div>\n",
       "<style scoped>\n",
       "    .dataframe tbody tr th:only-of-type {\n",
       "        vertical-align: middle;\n",
       "    }\n",
       "\n",
       "    .dataframe tbody tr th {\n",
       "        vertical-align: top;\n",
       "    }\n",
       "\n",
       "    .dataframe thead th {\n",
       "        text-align: right;\n",
       "    }\n",
       "</style>\n",
       "<table border=\"1\" class=\"dataframe\">\n",
       "  <thead>\n",
       "    <tr style=\"text-align: right;\">\n",
       "      <th></th>\n",
       "      <th>job_id</th>\n",
       "      <th>title</th>\n",
       "      <th>location</th>\n",
       "      <th>department</th>\n",
       "      <th>salary_range</th>\n",
       "      <th>company_profile</th>\n",
       "      <th>description</th>\n",
       "      <th>requirements</th>\n",
       "      <th>benefits</th>\n",
       "      <th>telecommuting</th>\n",
       "      <th>has_company_logo</th>\n",
       "      <th>has_questions</th>\n",
       "      <th>employment_type</th>\n",
       "      <th>required_experience</th>\n",
       "      <th>required_education</th>\n",
       "      <th>industry</th>\n",
       "      <th>function</th>\n",
       "      <th>fraudulent</th>\n",
       "    </tr>\n",
       "  </thead>\n",
       "  <tbody>\n",
       "    <tr>\n",
       "      <td>0</td>\n",
       "      <td>1</td>\n",
       "      <td>Marketing Intern</td>\n",
       "      <td>US, NY, New York</td>\n",
       "      <td>Marketing</td>\n",
       "      <td>NaN</td>\n",
       "      <td>We're Food52, and we've created a groundbreaki...</td>\n",
       "      <td>Food52, a fast-growing, James Beard Award-winn...</td>\n",
       "      <td>Experience with content management systems a m...</td>\n",
       "      <td>NaN</td>\n",
       "      <td>0</td>\n",
       "      <td>1</td>\n",
       "      <td>0</td>\n",
       "      <td>Other</td>\n",
       "      <td>Internship</td>\n",
       "      <td>NaN</td>\n",
       "      <td>NaN</td>\n",
       "      <td>Marketing</td>\n",
       "      <td>0</td>\n",
       "    </tr>\n",
       "    <tr>\n",
       "      <td>1</td>\n",
       "      <td>2</td>\n",
       "      <td>Customer Service - Cloud Video Production</td>\n",
       "      <td>NZ, , Auckland</td>\n",
       "      <td>Success</td>\n",
       "      <td>NaN</td>\n",
       "      <td>90 Seconds, the worlds Cloud Video Production ...</td>\n",
       "      <td>Organised - Focused - Vibrant - Awesome!Do you...</td>\n",
       "      <td>What we expect from you:Your key responsibilit...</td>\n",
       "      <td>What you will get from usThrough being part of...</td>\n",
       "      <td>0</td>\n",
       "      <td>1</td>\n",
       "      <td>0</td>\n",
       "      <td>Full-time</td>\n",
       "      <td>Not Applicable</td>\n",
       "      <td>NaN</td>\n",
       "      <td>Marketing and Advertising</td>\n",
       "      <td>Customer Service</td>\n",
       "      <td>0</td>\n",
       "    </tr>\n",
       "    <tr>\n",
       "      <td>2</td>\n",
       "      <td>3</td>\n",
       "      <td>Commissioning Machinery Assistant (CMA)</td>\n",
       "      <td>US, IA, Wever</td>\n",
       "      <td>NaN</td>\n",
       "      <td>NaN</td>\n",
       "      <td>Valor Services provides Workforce Solutions th...</td>\n",
       "      <td>Our client, located in Houston, is actively se...</td>\n",
       "      <td>Implement pre-commissioning and commissioning ...</td>\n",
       "      <td>NaN</td>\n",
       "      <td>0</td>\n",
       "      <td>1</td>\n",
       "      <td>0</td>\n",
       "      <td>NaN</td>\n",
       "      <td>NaN</td>\n",
       "      <td>NaN</td>\n",
       "      <td>NaN</td>\n",
       "      <td>NaN</td>\n",
       "      <td>0</td>\n",
       "    </tr>\n",
       "    <tr>\n",
       "      <td>3</td>\n",
       "      <td>4</td>\n",
       "      <td>Account Executive - Washington DC</td>\n",
       "      <td>US, DC, Washington</td>\n",
       "      <td>Sales</td>\n",
       "      <td>NaN</td>\n",
       "      <td>Our passion for improving quality of life thro...</td>\n",
       "      <td>THE COMPANY: ESRI – Environmental Systems Rese...</td>\n",
       "      <td>EDUCATION: Bachelor’s or Master’s in GIS, busi...</td>\n",
       "      <td>Our culture is anything but corporate—we have ...</td>\n",
       "      <td>0</td>\n",
       "      <td>1</td>\n",
       "      <td>0</td>\n",
       "      <td>Full-time</td>\n",
       "      <td>Mid-Senior level</td>\n",
       "      <td>Bachelor's Degree</td>\n",
       "      <td>Computer Software</td>\n",
       "      <td>Sales</td>\n",
       "      <td>0</td>\n",
       "    </tr>\n",
       "    <tr>\n",
       "      <td>4</td>\n",
       "      <td>5</td>\n",
       "      <td>Bill Review Manager</td>\n",
       "      <td>US, FL, Fort Worth</td>\n",
       "      <td>NaN</td>\n",
       "      <td>NaN</td>\n",
       "      <td>SpotSource Solutions LLC is a Global Human Cap...</td>\n",
       "      <td>JOB TITLE: Itemization Review ManagerLOCATION:...</td>\n",
       "      <td>QUALIFICATIONS:RN license in the State of Texa...</td>\n",
       "      <td>Full Benefits Offered</td>\n",
       "      <td>0</td>\n",
       "      <td>1</td>\n",
       "      <td>1</td>\n",
       "      <td>Full-time</td>\n",
       "      <td>Mid-Senior level</td>\n",
       "      <td>Bachelor's Degree</td>\n",
       "      <td>Hospital &amp; Health Care</td>\n",
       "      <td>Health Care Provider</td>\n",
       "      <td>0</td>\n",
       "    </tr>\n",
       "    <tr>\n",
       "      <td>5</td>\n",
       "      <td>6</td>\n",
       "      <td>Accounting Clerk</td>\n",
       "      <td>US, MD,</td>\n",
       "      <td>NaN</td>\n",
       "      <td>NaN</td>\n",
       "      <td>NaN</td>\n",
       "      <td>Job OverviewApex is an environmental consultin...</td>\n",
       "      <td>NaN</td>\n",
       "      <td>NaN</td>\n",
       "      <td>0</td>\n",
       "      <td>0</td>\n",
       "      <td>0</td>\n",
       "      <td>NaN</td>\n",
       "      <td>NaN</td>\n",
       "      <td>NaN</td>\n",
       "      <td>NaN</td>\n",
       "      <td>NaN</td>\n",
       "      <td>0</td>\n",
       "    </tr>\n",
       "    <tr>\n",
       "      <td>6</td>\n",
       "      <td>7</td>\n",
       "      <td>Head of Content (m/f)</td>\n",
       "      <td>DE, BE, Berlin</td>\n",
       "      <td>ANDROIDPIT</td>\n",
       "      <td>20000-28000</td>\n",
       "      <td>Founded in 2009, the Fonpit AG rose with its i...</td>\n",
       "      <td>Your Responsibilities: Manage the English-spea...</td>\n",
       "      <td>Your Know-How:                                ...</td>\n",
       "      <td>Your Benefits: Being part of a fast-growing co...</td>\n",
       "      <td>0</td>\n",
       "      <td>1</td>\n",
       "      <td>1</td>\n",
       "      <td>Full-time</td>\n",
       "      <td>Mid-Senior level</td>\n",
       "      <td>Master's Degree</td>\n",
       "      <td>Online Media</td>\n",
       "      <td>Management</td>\n",
       "      <td>0</td>\n",
       "    </tr>\n",
       "    <tr>\n",
       "      <td>7</td>\n",
       "      <td>8</td>\n",
       "      <td>Lead Guest Service Specialist</td>\n",
       "      <td>US, CA, San Francisco</td>\n",
       "      <td>NaN</td>\n",
       "      <td>NaN</td>\n",
       "      <td>Airenvy’s mission is to provide lucrative yet ...</td>\n",
       "      <td>Who is Airenvy?Hey there! We are seasoned entr...</td>\n",
       "      <td>Experience with CRM software, live chat, and p...</td>\n",
       "      <td>Competitive Pay. You'll be able to eat steak e...</td>\n",
       "      <td>0</td>\n",
       "      <td>1</td>\n",
       "      <td>1</td>\n",
       "      <td>NaN</td>\n",
       "      <td>NaN</td>\n",
       "      <td>NaN</td>\n",
       "      <td>NaN</td>\n",
       "      <td>NaN</td>\n",
       "      <td>0</td>\n",
       "    </tr>\n",
       "    <tr>\n",
       "      <td>8</td>\n",
       "      <td>9</td>\n",
       "      <td>HP BSM SME</td>\n",
       "      <td>US, FL, Pensacola</td>\n",
       "      <td>NaN</td>\n",
       "      <td>NaN</td>\n",
       "      <td>Solutions3 is a woman-owned small business who...</td>\n",
       "      <td>Implementation/Configuration/Testing/Training ...</td>\n",
       "      <td>MUST BE A US CITIZEN.An active TS/SCI clearanc...</td>\n",
       "      <td>NaN</td>\n",
       "      <td>0</td>\n",
       "      <td>1</td>\n",
       "      <td>1</td>\n",
       "      <td>Full-time</td>\n",
       "      <td>Associate</td>\n",
       "      <td>NaN</td>\n",
       "      <td>Information Technology and Services</td>\n",
       "      <td>NaN</td>\n",
       "      <td>0</td>\n",
       "    </tr>\n",
       "    <tr>\n",
       "      <td>9</td>\n",
       "      <td>10</td>\n",
       "      <td>Customer Service Associate - Part Time</td>\n",
       "      <td>US, AZ, Phoenix</td>\n",
       "      <td>NaN</td>\n",
       "      <td>NaN</td>\n",
       "      <td>Novitex Enterprise Solutions, formerly Pitney ...</td>\n",
       "      <td>The Customer Service Associate will be based i...</td>\n",
       "      <td>Minimum Requirements:Minimum of 6 months custo...</td>\n",
       "      <td>NaN</td>\n",
       "      <td>0</td>\n",
       "      <td>1</td>\n",
       "      <td>0</td>\n",
       "      <td>Part-time</td>\n",
       "      <td>Entry level</td>\n",
       "      <td>High School or equivalent</td>\n",
       "      <td>Financial Services</td>\n",
       "      <td>Customer Service</td>\n",
       "      <td>0</td>\n",
       "    </tr>\n",
       "    <tr>\n",
       "      <td>10</td>\n",
       "      <td>11</td>\n",
       "      <td>ASP.net Developer Job opportunity at United St...</td>\n",
       "      <td>US, NJ, Jersey City</td>\n",
       "      <td>NaN</td>\n",
       "      <td>100000-120000</td>\n",
       "      <td>NaN</td>\n",
       "      <td>Position : #URL_86fd830a95a64e2b30ceed829e63fd...</td>\n",
       "      <td>Position : #URL_86fd830a95a64e2b30ceed829e63fd...</td>\n",
       "      <td>Benefits - FullBonus Eligible - YesInterview T...</td>\n",
       "      <td>0</td>\n",
       "      <td>0</td>\n",
       "      <td>0</td>\n",
       "      <td>Full-time</td>\n",
       "      <td>Mid-Senior level</td>\n",
       "      <td>Bachelor's Degree</td>\n",
       "      <td>Information Technology and Services</td>\n",
       "      <td>Information Technology</td>\n",
       "      <td>0</td>\n",
       "    </tr>\n",
       "    <tr>\n",
       "      <td>11</td>\n",
       "      <td>12</td>\n",
       "      <td>Talent Sourcer (6 months fixed-term contract)</td>\n",
       "      <td>GB, LND, London</td>\n",
       "      <td>HR</td>\n",
       "      <td>NaN</td>\n",
       "      <td>Want to build a 21st century financial service...</td>\n",
       "      <td>TransferWise is the clever new way to move mon...</td>\n",
       "      <td>We’re looking for someone who:Proven track rec...</td>\n",
       "      <td>You will join one of Europe’s most hotly tippe...</td>\n",
       "      <td>0</td>\n",
       "      <td>1</td>\n",
       "      <td>0</td>\n",
       "      <td>NaN</td>\n",
       "      <td>NaN</td>\n",
       "      <td>NaN</td>\n",
       "      <td>NaN</td>\n",
       "      <td>NaN</td>\n",
       "      <td>0</td>\n",
       "    </tr>\n",
       "    <tr>\n",
       "      <td>12</td>\n",
       "      <td>13</td>\n",
       "      <td>Applications Developer, Digital</td>\n",
       "      <td>US, CT, Stamford</td>\n",
       "      <td>NaN</td>\n",
       "      <td>NaN</td>\n",
       "      <td>Novitex Enterprise Solutions, formerly Pitney ...</td>\n",
       "      <td>The Applications Developer, Digital will devel...</td>\n",
       "      <td>Requirements:4 – 5 years’ experience in develo...</td>\n",
       "      <td>NaN</td>\n",
       "      <td>0</td>\n",
       "      <td>1</td>\n",
       "      <td>0</td>\n",
       "      <td>Full-time</td>\n",
       "      <td>Associate</td>\n",
       "      <td>Bachelor's Degree</td>\n",
       "      <td>Management Consulting</td>\n",
       "      <td>Information Technology</td>\n",
       "      <td>0</td>\n",
       "    </tr>\n",
       "    <tr>\n",
       "      <td>13</td>\n",
       "      <td>14</td>\n",
       "      <td>Installers</td>\n",
       "      <td>US, FL, Orlando</td>\n",
       "      <td>NaN</td>\n",
       "      <td>NaN</td>\n",
       "      <td>Growing event production company providing sta...</td>\n",
       "      <td>Event Industry Installers Needed!! (Orlando, F...</td>\n",
       "      <td>Valid driver's license,Somewhat Clean driving ...</td>\n",
       "      <td>NaN</td>\n",
       "      <td>0</td>\n",
       "      <td>1</td>\n",
       "      <td>1</td>\n",
       "      <td>Full-time</td>\n",
       "      <td>Not Applicable</td>\n",
       "      <td>Unspecified</td>\n",
       "      <td>Events Services</td>\n",
       "      <td>Other</td>\n",
       "      <td>0</td>\n",
       "    </tr>\n",
       "    <tr>\n",
       "      <td>14</td>\n",
       "      <td>15</td>\n",
       "      <td>Account Executive - Sydney</td>\n",
       "      <td>AU, NSW, Sydney</td>\n",
       "      <td>Sales</td>\n",
       "      <td>NaN</td>\n",
       "      <td>Adthena is the UK’s leading competitive intell...</td>\n",
       "      <td>Are you interested in a satisfying and financi...</td>\n",
       "      <td>You’ll need to be smart and passionate and hav...</td>\n",
       "      <td>In return we'll pay you well, give you some ow...</td>\n",
       "      <td>0</td>\n",
       "      <td>1</td>\n",
       "      <td>0</td>\n",
       "      <td>Full-time</td>\n",
       "      <td>Associate</td>\n",
       "      <td>Bachelor's Degree</td>\n",
       "      <td>Internet</td>\n",
       "      <td>Sales</td>\n",
       "      <td>0</td>\n",
       "    </tr>\n",
       "    <tr>\n",
       "      <td>15</td>\n",
       "      <td>16</td>\n",
       "      <td>VP of Sales - Vault Dragon</td>\n",
       "      <td>SG, 01, Singapore</td>\n",
       "      <td>Sales</td>\n",
       "      <td>120000-150000</td>\n",
       "      <td>Jungle Ventures is the leading Singapore based...</td>\n",
       "      <td>About Vault Dragon Vault Dragon is Dropbox for...</td>\n",
       "      <td>Key Superpowers3-5 years of high-pressure sale...</td>\n",
       "      <td>Basic: SGD 120,000Equity negotiable for a rock...</td>\n",
       "      <td>0</td>\n",
       "      <td>1</td>\n",
       "      <td>1</td>\n",
       "      <td>Full-time</td>\n",
       "      <td>Executive</td>\n",
       "      <td>Bachelor's Degree</td>\n",
       "      <td>Facilities Services</td>\n",
       "      <td>Sales</td>\n",
       "      <td>0</td>\n",
       "    </tr>\n",
       "    <tr>\n",
       "      <td>16</td>\n",
       "      <td>17</td>\n",
       "      <td>Hands-On QA Leader</td>\n",
       "      <td>IL, , Tel Aviv, Israel</td>\n",
       "      <td>R&amp;D</td>\n",
       "      <td>NaN</td>\n",
       "      <td>At HoneyBook we’re re-imagining the events ind...</td>\n",
       "      <td>We are looking for a Hands-On QA Leader for ou...</td>\n",
       "      <td>Previous experience in client &amp;amp; server tes...</td>\n",
       "      <td>NaN</td>\n",
       "      <td>0</td>\n",
       "      <td>1</td>\n",
       "      <td>0</td>\n",
       "      <td>Full-time</td>\n",
       "      <td>Mid-Senior level</td>\n",
       "      <td>NaN</td>\n",
       "      <td>Internet</td>\n",
       "      <td>Engineering</td>\n",
       "      <td>0</td>\n",
       "    </tr>\n",
       "    <tr>\n",
       "      <td>17</td>\n",
       "      <td>18</td>\n",
       "      <td>Southend-on-Sea Traineeships Under NAS 16-18 Y...</td>\n",
       "      <td>GB, SOS, Southend-on-Sea</td>\n",
       "      <td>NaN</td>\n",
       "      <td>NaN</td>\n",
       "      <td>Established on the principles that full time e...</td>\n",
       "      <td>Government funding is only available for 16-18...</td>\n",
       "      <td>16-18 year olds only due to government funding...</td>\n",
       "      <td>Career prospects.</td>\n",
       "      <td>0</td>\n",
       "      <td>1</td>\n",
       "      <td>1</td>\n",
       "      <td>NaN</td>\n",
       "      <td>NaN</td>\n",
       "      <td>NaN</td>\n",
       "      <td>NaN</td>\n",
       "      <td>NaN</td>\n",
       "      <td>0</td>\n",
       "    </tr>\n",
       "    <tr>\n",
       "      <td>18</td>\n",
       "      <td>19</td>\n",
       "      <td>Visual Designer</td>\n",
       "      <td>US, NY, New York</td>\n",
       "      <td>NaN</td>\n",
       "      <td>NaN</td>\n",
       "      <td>Kettle is an independent digital agency based ...</td>\n",
       "      <td>Kettle is hiring a Visual Designer!Job Locatio...</td>\n",
       "      <td>NaN</td>\n",
       "      <td>NaN</td>\n",
       "      <td>0</td>\n",
       "      <td>1</td>\n",
       "      <td>0</td>\n",
       "      <td>NaN</td>\n",
       "      <td>NaN</td>\n",
       "      <td>NaN</td>\n",
       "      <td>NaN</td>\n",
       "      <td>NaN</td>\n",
       "      <td>0</td>\n",
       "    </tr>\n",
       "    <tr>\n",
       "      <td>19</td>\n",
       "      <td>20</td>\n",
       "      <td>Process Controls Engineer - DCS PLC MS Office ...</td>\n",
       "      <td>US, PA, USA Northeast</td>\n",
       "      <td>NaN</td>\n",
       "      <td>NaN</td>\n",
       "      <td>We Provide Full Time Permanent Positions for m...</td>\n",
       "      <td>Experienced Process Controls Engineer is requi...</td>\n",
       "      <td>Must have 5 or more years of experience with D...</td>\n",
       "      <td>NaN</td>\n",
       "      <td>0</td>\n",
       "      <td>0</td>\n",
       "      <td>0</td>\n",
       "      <td>Full-time</td>\n",
       "      <td>NaN</td>\n",
       "      <td>NaN</td>\n",
       "      <td>NaN</td>\n",
       "      <td>NaN</td>\n",
       "      <td>0</td>\n",
       "    </tr>\n",
       "  </tbody>\n",
       "</table>\n",
       "</div>"
      ],
      "text/plain": [
       "    job_id                                              title  \\\n",
       "0        1                                   Marketing Intern   \n",
       "1        2          Customer Service - Cloud Video Production   \n",
       "2        3            Commissioning Machinery Assistant (CMA)   \n",
       "3        4                  Account Executive - Washington DC   \n",
       "4        5                                Bill Review Manager   \n",
       "5        6                                   Accounting Clerk   \n",
       "6        7                              Head of Content (m/f)   \n",
       "7        8                   Lead Guest Service Specialist      \n",
       "8        9                                         HP BSM SME   \n",
       "9       10            Customer Service Associate - Part Time    \n",
       "10      11  ASP.net Developer Job opportunity at United St...   \n",
       "11      12      Talent Sourcer (6 months fixed-term contract)   \n",
       "12      13                   Applications Developer, Digital    \n",
       "13      14                                         Installers   \n",
       "14      15                         Account Executive - Sydney   \n",
       "15      16                         VP of Sales - Vault Dragon   \n",
       "16      17                                Hands-On QA Leader    \n",
       "17      18  Southend-on-Sea Traineeships Under NAS 16-18 Y...   \n",
       "18      19                                    Visual Designer   \n",
       "19      20  Process Controls Engineer - DCS PLC MS Office ...   \n",
       "\n",
       "                    location  department   salary_range  \\\n",
       "0           US, NY, New York   Marketing            NaN   \n",
       "1             NZ, , Auckland     Success            NaN   \n",
       "2              US, IA, Wever         NaN            NaN   \n",
       "3         US, DC, Washington       Sales            NaN   \n",
       "4         US, FL, Fort Worth         NaN            NaN   \n",
       "5                   US, MD,          NaN            NaN   \n",
       "6             DE, BE, Berlin  ANDROIDPIT    20000-28000   \n",
       "7      US, CA, San Francisco         NaN            NaN   \n",
       "8          US, FL, Pensacola         NaN            NaN   \n",
       "9            US, AZ, Phoenix         NaN            NaN   \n",
       "10       US, NJ, Jersey City         NaN  100000-120000   \n",
       "11           GB, LND, London          HR            NaN   \n",
       "12          US, CT, Stamford         NaN            NaN   \n",
       "13           US, FL, Orlando         NaN            NaN   \n",
       "14           AU, NSW, Sydney       Sales            NaN   \n",
       "15         SG, 01, Singapore       Sales  120000-150000   \n",
       "16    IL, , Tel Aviv, Israel         R&D            NaN   \n",
       "17  GB, SOS, Southend-on-Sea         NaN            NaN   \n",
       "18          US, NY, New York         NaN            NaN   \n",
       "19     US, PA, USA Northeast         NaN            NaN   \n",
       "\n",
       "                                      company_profile  \\\n",
       "0   We're Food52, and we've created a groundbreaki...   \n",
       "1   90 Seconds, the worlds Cloud Video Production ...   \n",
       "2   Valor Services provides Workforce Solutions th...   \n",
       "3   Our passion for improving quality of life thro...   \n",
       "4   SpotSource Solutions LLC is a Global Human Cap...   \n",
       "5                                                 NaN   \n",
       "6   Founded in 2009, the Fonpit AG rose with its i...   \n",
       "7   Airenvy’s mission is to provide lucrative yet ...   \n",
       "8   Solutions3 is a woman-owned small business who...   \n",
       "9   Novitex Enterprise Solutions, formerly Pitney ...   \n",
       "10                                                NaN   \n",
       "11  Want to build a 21st century financial service...   \n",
       "12  Novitex Enterprise Solutions, formerly Pitney ...   \n",
       "13  Growing event production company providing sta...   \n",
       "14  Adthena is the UK’s leading competitive intell...   \n",
       "15  Jungle Ventures is the leading Singapore based...   \n",
       "16  At HoneyBook we’re re-imagining the events ind...   \n",
       "17  Established on the principles that full time e...   \n",
       "18  Kettle is an independent digital agency based ...   \n",
       "19  We Provide Full Time Permanent Positions for m...   \n",
       "\n",
       "                                          description  \\\n",
       "0   Food52, a fast-growing, James Beard Award-winn...   \n",
       "1   Organised - Focused - Vibrant - Awesome!Do you...   \n",
       "2   Our client, located in Houston, is actively se...   \n",
       "3   THE COMPANY: ESRI – Environmental Systems Rese...   \n",
       "4   JOB TITLE: Itemization Review ManagerLOCATION:...   \n",
       "5   Job OverviewApex is an environmental consultin...   \n",
       "6   Your Responsibilities: Manage the English-spea...   \n",
       "7   Who is Airenvy?Hey there! We are seasoned entr...   \n",
       "8   Implementation/Configuration/Testing/Training ...   \n",
       "9   The Customer Service Associate will be based i...   \n",
       "10  Position : #URL_86fd830a95a64e2b30ceed829e63fd...   \n",
       "11  TransferWise is the clever new way to move mon...   \n",
       "12  The Applications Developer, Digital will devel...   \n",
       "13  Event Industry Installers Needed!! (Orlando, F...   \n",
       "14  Are you interested in a satisfying and financi...   \n",
       "15  About Vault Dragon Vault Dragon is Dropbox for...   \n",
       "16  We are looking for a Hands-On QA Leader for ou...   \n",
       "17  Government funding is only available for 16-18...   \n",
       "18  Kettle is hiring a Visual Designer!Job Locatio...   \n",
       "19  Experienced Process Controls Engineer is requi...   \n",
       "\n",
       "                                         requirements  \\\n",
       "0   Experience with content management systems a m...   \n",
       "1   What we expect from you:Your key responsibilit...   \n",
       "2   Implement pre-commissioning and commissioning ...   \n",
       "3   EDUCATION: Bachelor’s or Master’s in GIS, busi...   \n",
       "4   QUALIFICATIONS:RN license in the State of Texa...   \n",
       "5                                                 NaN   \n",
       "6   Your Know-How:                                ...   \n",
       "7   Experience with CRM software, live chat, and p...   \n",
       "8   MUST BE A US CITIZEN.An active TS/SCI clearanc...   \n",
       "9   Minimum Requirements:Minimum of 6 months custo...   \n",
       "10  Position : #URL_86fd830a95a64e2b30ceed829e63fd...   \n",
       "11  We’re looking for someone who:Proven track rec...   \n",
       "12  Requirements:4 – 5 years’ experience in develo...   \n",
       "13  Valid driver's license,Somewhat Clean driving ...   \n",
       "14  You’ll need to be smart and passionate and hav...   \n",
       "15  Key Superpowers3-5 years of high-pressure sale...   \n",
       "16  Previous experience in client &amp; server tes...   \n",
       "17  16-18 year olds only due to government funding...   \n",
       "18                                                NaN   \n",
       "19  Must have 5 or more years of experience with D...   \n",
       "\n",
       "                                             benefits  telecommuting  \\\n",
       "0                                                 NaN              0   \n",
       "1   What you will get from usThrough being part of...              0   \n",
       "2                                                 NaN              0   \n",
       "3   Our culture is anything but corporate—we have ...              0   \n",
       "4                               Full Benefits Offered              0   \n",
       "5                                                 NaN              0   \n",
       "6   Your Benefits: Being part of a fast-growing co...              0   \n",
       "7   Competitive Pay. You'll be able to eat steak e...              0   \n",
       "8                                                 NaN              0   \n",
       "9                                                 NaN              0   \n",
       "10  Benefits - FullBonus Eligible - YesInterview T...              0   \n",
       "11  You will join one of Europe’s most hotly tippe...              0   \n",
       "12                                                NaN              0   \n",
       "13                                                NaN              0   \n",
       "14  In return we'll pay you well, give you some ow...              0   \n",
       "15  Basic: SGD 120,000Equity negotiable for a rock...              0   \n",
       "16                                                NaN              0   \n",
       "17                                  Career prospects.              0   \n",
       "18                                                NaN              0   \n",
       "19                                                NaN              0   \n",
       "\n",
       "    has_company_logo  has_questions employment_type required_experience  \\\n",
       "0                  1              0           Other          Internship   \n",
       "1                  1              0       Full-time      Not Applicable   \n",
       "2                  1              0             NaN                 NaN   \n",
       "3                  1              0       Full-time    Mid-Senior level   \n",
       "4                  1              1       Full-time    Mid-Senior level   \n",
       "5                  0              0             NaN                 NaN   \n",
       "6                  1              1       Full-time    Mid-Senior level   \n",
       "7                  1              1             NaN                 NaN   \n",
       "8                  1              1       Full-time           Associate   \n",
       "9                  1              0       Part-time         Entry level   \n",
       "10                 0              0       Full-time    Mid-Senior level   \n",
       "11                 1              0             NaN                 NaN   \n",
       "12                 1              0       Full-time           Associate   \n",
       "13                 1              1       Full-time      Not Applicable   \n",
       "14                 1              0       Full-time           Associate   \n",
       "15                 1              1       Full-time           Executive   \n",
       "16                 1              0       Full-time    Mid-Senior level   \n",
       "17                 1              1             NaN                 NaN   \n",
       "18                 1              0             NaN                 NaN   \n",
       "19                 0              0       Full-time                 NaN   \n",
       "\n",
       "           required_education                             industry  \\\n",
       "0                         NaN                                  NaN   \n",
       "1                         NaN            Marketing and Advertising   \n",
       "2                         NaN                                  NaN   \n",
       "3           Bachelor's Degree                    Computer Software   \n",
       "4           Bachelor's Degree               Hospital & Health Care   \n",
       "5                         NaN                                  NaN   \n",
       "6             Master's Degree                         Online Media   \n",
       "7                         NaN                                  NaN   \n",
       "8                         NaN  Information Technology and Services   \n",
       "9   High School or equivalent                   Financial Services   \n",
       "10          Bachelor's Degree  Information Technology and Services   \n",
       "11                        NaN                                  NaN   \n",
       "12          Bachelor's Degree                Management Consulting   \n",
       "13                Unspecified                      Events Services   \n",
       "14          Bachelor's Degree                             Internet   \n",
       "15          Bachelor's Degree                  Facilities Services   \n",
       "16                        NaN                             Internet   \n",
       "17                        NaN                                  NaN   \n",
       "18                        NaN                                  NaN   \n",
       "19                        NaN                                  NaN   \n",
       "\n",
       "                  function  fraudulent  \n",
       "0                Marketing           0  \n",
       "1         Customer Service           0  \n",
       "2                      NaN           0  \n",
       "3                    Sales           0  \n",
       "4     Health Care Provider           0  \n",
       "5                      NaN           0  \n",
       "6               Management           0  \n",
       "7                      NaN           0  \n",
       "8                      NaN           0  \n",
       "9         Customer Service           0  \n",
       "10  Information Technology           0  \n",
       "11                     NaN           0  \n",
       "12  Information Technology           0  \n",
       "13                   Other           0  \n",
       "14                   Sales           0  \n",
       "15                   Sales           0  \n",
       "16             Engineering           0  \n",
       "17                     NaN           0  \n",
       "18                     NaN           0  \n",
       "19                     NaN           0  "
      ]
     },
     "execution_count": 14,
     "metadata": {},
     "output_type": "execute_result"
    }
   ],
   "source": [
    "job_data.head(20)"
   ]
  },
  {
   "cell_type": "code",
   "execution_count": 15,
   "metadata": {},
   "outputs": [
    {
     "data": {
      "text/plain": [
       "'90 Seconds, the worlds Cloud Video Production Service.90 Seconds is the worlds Cloud Video Production Service enabling brands and agencies to get high quality online video content shot and produced anywhere in the world. 90 Seconds makes video production fast, affordable, and all managed seamlessly in the cloud from purchase to publish. http://90#URL_fbe6559afac620a3cd2c22281f7b8d0eef56a73e3d9a311e2f1ca13d081dd630#90 Seconds removes the hassle, cost, risk and speed issues of working with regular video production companies by managing every aspect of video projects in a beautiful online experience. With a growing global network of over 2,000 rated video professionals in over 50 countries managed by dedicated production success teams in 5 countries, 90 Seconds provides a 100% success guarantee.90 Seconds has produced almost 4,000 videos in over 30 Countries for over 500 Global brands including some of the worlds largest including Paypal, L’Oreal, Sony and Barclays and has offices in Auckland, London, Sydney, Tokyo and Singapore.http://90#URL_fbe6559afac620a3cd2c22281f7b8d0eef56a73e3d9a311e2f1ca13d081dd630#\\xa0|\\xa0http://90#URL_e2ad0bde3f09a0913a486abdbb1e6ac373bb3310f64b1fbcf550049bcba4a17b#\\xa0| http://90#URL_8c5dd1806f97ab90876d9daebeb430f682dbc87e2f01549b47e96c7bff2ea17e#\\xa0'"
      ]
     },
     "execution_count": 15,
     "metadata": {},
     "output_type": "execute_result"
    }
   ],
   "source": [
    "job_data.company_profile[1]"
   ]
  },
  {
   "cell_type": "code",
   "execution_count": 16,
   "metadata": {
    "scrolled": false
   },
   "outputs": [
    {
     "data": {
      "text/plain": [
       "fraudulent\n",
       "0    17014\n",
       "1      866\n",
       "dtype: int64"
      ]
     },
     "execution_count": 16,
     "metadata": {},
     "output_type": "execute_result"
    }
   ],
   "source": [
    "job_data.groupby(\"fraudulent\").count()['job_id'].rename(columns={\"job_id\":\"count\"})"
   ]
  },
  {
   "cell_type": "markdown",
   "metadata": {},
   "source": [
    "First, let's take a look at the job adverts that are marked as \"fraudulent\".\n",
    "Example fraudulent offers:"
   ]
  },
  {
   "cell_type": "code",
   "execution_count": 17,
   "metadata": {
    "scrolled": true
   },
   "outputs": [
    {
     "data": {
      "text/html": [
       "<div>\n",
       "<style scoped>\n",
       "    .dataframe tbody tr th:only-of-type {\n",
       "        vertical-align: middle;\n",
       "    }\n",
       "\n",
       "    .dataframe tbody tr th {\n",
       "        vertical-align: top;\n",
       "    }\n",
       "\n",
       "    .dataframe thead th {\n",
       "        text-align: right;\n",
       "    }\n",
       "</style>\n",
       "<table border=\"1\" class=\"dataframe\">\n",
       "  <thead>\n",
       "    <tr style=\"text-align: right;\">\n",
       "      <th></th>\n",
       "      <th>job_id</th>\n",
       "      <th>title</th>\n",
       "      <th>location</th>\n",
       "      <th>department</th>\n",
       "      <th>salary_range</th>\n",
       "      <th>company_profile</th>\n",
       "      <th>description</th>\n",
       "      <th>requirements</th>\n",
       "      <th>benefits</th>\n",
       "      <th>telecommuting</th>\n",
       "      <th>has_company_logo</th>\n",
       "      <th>has_questions</th>\n",
       "      <th>employment_type</th>\n",
       "      <th>required_experience</th>\n",
       "      <th>required_education</th>\n",
       "      <th>industry</th>\n",
       "      <th>function</th>\n",
       "      <th>fraudulent</th>\n",
       "    </tr>\n",
       "  </thead>\n",
       "  <tbody>\n",
       "    <tr>\n",
       "      <td>0</td>\n",
       "      <td>17638</td>\n",
       "      <td>Cruise Staff Wanted *URGENT*</td>\n",
       "      <td>US, IL, CHICAGO</td>\n",
       "      <td>NaN</td>\n",
       "      <td>NaN</td>\n",
       "      <td>NaN</td>\n",
       "      <td>6* Ultra Luxury American Cruise Company is urg...</td>\n",
       "      <td>Certification &amp;amp; Experience: Previous exper...</td>\n",
       "      <td>Benefits: On board en suite accommodation and ...</td>\n",
       "      <td>0</td>\n",
       "      <td>0</td>\n",
       "      <td>1</td>\n",
       "      <td>Full-time</td>\n",
       "      <td>NaN</td>\n",
       "      <td>NaN</td>\n",
       "      <td>Leisure, Travel &amp; Tourism</td>\n",
       "      <td>NaN</td>\n",
       "      <td>1</td>\n",
       "    </tr>\n",
       "    <tr>\n",
       "      <td>1</td>\n",
       "      <td>17570</td>\n",
       "      <td>CASH JOBS, Part Time Workers Needed.</td>\n",
       "      <td>AU, NSW, Sydney</td>\n",
       "      <td>NaN</td>\n",
       "      <td>NaN</td>\n",
       "      <td>NaN</td>\n",
       "      <td>CASH JOBS, Part Time Workers Needed.Work Minim...</td>\n",
       "      <td>Work Minimum 1-2 Hours Per Day Anytime.</td>\n",
       "      <td>Suitable For Both Male And Female.</td>\n",
       "      <td>0</td>\n",
       "      <td>0</td>\n",
       "      <td>0</td>\n",
       "      <td>Part-time</td>\n",
       "      <td>NaN</td>\n",
       "      <td>NaN</td>\n",
       "      <td>NaN</td>\n",
       "      <td>NaN</td>\n",
       "      <td>1</td>\n",
       "    </tr>\n",
       "    <tr>\n",
       "      <td>2</td>\n",
       "      <td>2078</td>\n",
       "      <td>Piping Material Engineer</td>\n",
       "      <td>US, TX, Houston</td>\n",
       "      <td>NaN</td>\n",
       "      <td>NaN</td>\n",
       "      <td>Aker Solutions is a global provider of product...</td>\n",
       "      <td>Corporate overviewAker Solutions is a global p...</td>\n",
       "      <td>Qualifications &amp;amp; personal attributes• High...</td>\n",
       "      <td>NaN</td>\n",
       "      <td>0</td>\n",
       "      <td>1</td>\n",
       "      <td>0</td>\n",
       "      <td>Full-time</td>\n",
       "      <td>Mid-Senior level</td>\n",
       "      <td>Master's Degree</td>\n",
       "      <td>Oil &amp; Energy</td>\n",
       "      <td>Engineering</td>\n",
       "      <td>1</td>\n",
       "    </tr>\n",
       "    <tr>\n",
       "      <td>3</td>\n",
       "      <td>17653</td>\n",
       "      <td>Clerical Assistant</td>\n",
       "      <td>US, NY, ALBANY</td>\n",
       "      <td>Admin/Clerical</td>\n",
       "      <td>40000-60000</td>\n",
       "      <td>NaN</td>\n",
       "      <td>The Clerical Assistant will be responsible for...</td>\n",
       "      <td>Who we're Looking For:- Motivated, detail orie...</td>\n",
       "      <td>This is a full-time salary position that offer...</td>\n",
       "      <td>0</td>\n",
       "      <td>0</td>\n",
       "      <td>0</td>\n",
       "      <td>Full-time</td>\n",
       "      <td>Not Applicable</td>\n",
       "      <td>High School or equivalent</td>\n",
       "      <td>Civil Engineering</td>\n",
       "      <td>Administrative</td>\n",
       "      <td>1</td>\n",
       "    </tr>\n",
       "    <tr>\n",
       "      <td>4</td>\n",
       "      <td>7184</td>\n",
       "      <td>CUSTOMER SERVICE AGENT</td>\n",
       "      <td>US, TX, DALLAS</td>\n",
       "      <td>CALL CENTER SP</td>\n",
       "      <td>30000-38000</td>\n",
       "      <td>Aegis is a global business services provider i...</td>\n",
       "      <td>Location DALLAS, TX , USAJob DescriptionRepres...</td>\n",
       "      <td>HIGH SCHOOL DIPLOMA</td>\n",
       "      <td>HEALTH CARE,DENTAL INSURANCE, LIFE INSURANCE, ...</td>\n",
       "      <td>0</td>\n",
       "      <td>1</td>\n",
       "      <td>1</td>\n",
       "      <td>Full-time</td>\n",
       "      <td>Entry level</td>\n",
       "      <td>High School or equivalent</td>\n",
       "      <td>Consumer Services</td>\n",
       "      <td>Customer Service</td>\n",
       "      <td>1</td>\n",
       "    </tr>\n",
       "    <tr>\n",
       "      <td>5</td>\n",
       "      <td>17693</td>\n",
       "      <td>Administrative Assistant</td>\n",
       "      <td>US, ,</td>\n",
       "      <td>ADMIN</td>\n",
       "      <td>34000-42000</td>\n",
       "      <td>NaN</td>\n",
       "      <td>Administrative AssistantEssential Duties and R...</td>\n",
       "      <td>Qualification/Requirements: * Proficient in Mi...</td>\n",
       "      <td>Health, Dental, Life and AD&amp;amp;D Insurance, E...</td>\n",
       "      <td>0</td>\n",
       "      <td>0</td>\n",
       "      <td>0</td>\n",
       "      <td>Full-time</td>\n",
       "      <td>Entry level</td>\n",
       "      <td>NaN</td>\n",
       "      <td>Accounting</td>\n",
       "      <td>Administrative</td>\n",
       "      <td>1</td>\n",
       "    </tr>\n",
       "    <tr>\n",
       "      <td>6</td>\n",
       "      <td>11539</td>\n",
       "      <td>Research Engineer Data Science</td>\n",
       "      <td>US, CA, San Mateo</td>\n",
       "      <td>Engineering</td>\n",
       "      <td>NaN</td>\n",
       "      <td>Aptitude Staffing Solutions has redesigned the...</td>\n",
       "      <td>Research Engineer | Data Science | San Mateo, ...</td>\n",
       "      <td>Position requirements: Quickly learning new ar...</td>\n",
       "      <td>The BenefitsGenerous paid time off to help you...</td>\n",
       "      <td>0</td>\n",
       "      <td>1</td>\n",
       "      <td>1</td>\n",
       "      <td>Full-time</td>\n",
       "      <td>Mid-Senior level</td>\n",
       "      <td>Master's Degree</td>\n",
       "      <td>Marketing and Advertising</td>\n",
       "      <td>Engineering</td>\n",
       "      <td>1</td>\n",
       "    </tr>\n",
       "    <tr>\n",
       "      <td>7</td>\n",
       "      <td>1701</td>\n",
       "      <td>Cruise Staff Wanted *URGENT*</td>\n",
       "      <td>US, NY, MANHATTAN</td>\n",
       "      <td>NaN</td>\n",
       "      <td>NaN</td>\n",
       "      <td>NaN</td>\n",
       "      <td>6* Ultra Luxury American Cruise Company is urg...</td>\n",
       "      <td>Certification &amp;amp; Experience: Previous exper...</td>\n",
       "      <td>Benefits: On board en suite accommodation and ...</td>\n",
       "      <td>0</td>\n",
       "      <td>0</td>\n",
       "      <td>0</td>\n",
       "      <td>Full-time</td>\n",
       "      <td>NaN</td>\n",
       "      <td>NaN</td>\n",
       "      <td>Leisure, Travel &amp; Tourism</td>\n",
       "      <td>NaN</td>\n",
       "      <td>1</td>\n",
       "    </tr>\n",
       "    <tr>\n",
       "      <td>8</td>\n",
       "      <td>17747</td>\n",
       "      <td>Network Marketing</td>\n",
       "      <td>US, CA,</td>\n",
       "      <td>NaN</td>\n",
       "      <td>7200-1380000</td>\n",
       "      <td>NaN</td>\n",
       "      <td>Are you looking to make anywhere from 600-115,...</td>\n",
       "      <td>An ambition to succeed, A desire to be the bes...</td>\n",
       "      <td>Residual Income, Travel dollars, Car Dollars, ...</td>\n",
       "      <td>0</td>\n",
       "      <td>0</td>\n",
       "      <td>0</td>\n",
       "      <td>Full-time</td>\n",
       "      <td>Not Applicable</td>\n",
       "      <td>Unspecified</td>\n",
       "      <td>Marketing and Advertising</td>\n",
       "      <td>NaN</td>\n",
       "      <td>1</td>\n",
       "    </tr>\n",
       "    <tr>\n",
       "      <td>9</td>\n",
       "      <td>4578</td>\n",
       "      <td>Senior Sales Professionals</td>\n",
       "      <td>US, IN, Indianapolis</td>\n",
       "      <td>Sales/Marketing</td>\n",
       "      <td>NaN</td>\n",
       "      <td>NaN</td>\n",
       "      <td>Do YOU have the sales skills or entrepreneuria...</td>\n",
       "      <td>NaN</td>\n",
       "      <td>NaN</td>\n",
       "      <td>0</td>\n",
       "      <td>0</td>\n",
       "      <td>0</td>\n",
       "      <td>NaN</td>\n",
       "      <td>NaN</td>\n",
       "      <td>High School or equivalent</td>\n",
       "      <td>NaN</td>\n",
       "      <td>Sales</td>\n",
       "      <td>1</td>\n",
       "    </tr>\n",
       "    <tr>\n",
       "      <td>10</td>\n",
       "      <td>6129</td>\n",
       "      <td>Accounting/Bookkeeping</td>\n",
       "      <td>US, MA, salisbury</td>\n",
       "      <td>NaN</td>\n",
       "      <td>NaN</td>\n",
       "      <td>NaN</td>\n",
       "      <td>Hello Applicant,What is your situation? Are yo...</td>\n",
       "      <td>NaN</td>\n",
       "      <td>NaN</td>\n",
       "      <td>0</td>\n",
       "      <td>0</td>\n",
       "      <td>0</td>\n",
       "      <td>Temporary</td>\n",
       "      <td>Entry level</td>\n",
       "      <td>Unspecified</td>\n",
       "      <td>Accounting</td>\n",
       "      <td>Accounting/Auditing</td>\n",
       "      <td>1</td>\n",
       "    </tr>\n",
       "    <tr>\n",
       "      <td>11</td>\n",
       "      <td>17729</td>\n",
       "      <td>Executive Assistant</td>\n",
       "      <td>US, CO, DENVER</td>\n",
       "      <td>Data Entry</td>\n",
       "      <td>0-0</td>\n",
       "      <td>NaN</td>\n",
       "      <td>Fast paced company in need of both Full-Part t...</td>\n",
       "      <td>SKILLS &amp;amp; REQUIREMENTS-Ability to multi tas...</td>\n",
       "      <td>NaN</td>\n",
       "      <td>1</td>\n",
       "      <td>0</td>\n",
       "      <td>0</td>\n",
       "      <td>Full-time</td>\n",
       "      <td>Executive</td>\n",
       "      <td>Master's Degree</td>\n",
       "      <td>Consumer Services</td>\n",
       "      <td>Administrative</td>\n",
       "      <td>1</td>\n",
       "    </tr>\n",
       "    <tr>\n",
       "      <td>12</td>\n",
       "      <td>17583</td>\n",
       "      <td>RNFA - St. Joseph Medical Center</td>\n",
       "      <td>US, ,</td>\n",
       "      <td>NaN</td>\n",
       "      <td>NaN</td>\n",
       "      <td>NaN</td>\n",
       "      <td>Apply using below link#URL_56ff6e6f6d7ee1c8962...</td>\n",
       "      <td>NaN</td>\n",
       "      <td>NaN</td>\n",
       "      <td>0</td>\n",
       "      <td>0</td>\n",
       "      <td>0</td>\n",
       "      <td>Full-time</td>\n",
       "      <td>NaN</td>\n",
       "      <td>NaN</td>\n",
       "      <td>Hospital &amp; Health Care</td>\n",
       "      <td>NaN</td>\n",
       "      <td>1</td>\n",
       "    </tr>\n",
       "    <tr>\n",
       "      <td>13</td>\n",
       "      <td>12434</td>\n",
       "      <td>Sales Professional- SMB</td>\n",
       "      <td>US, MD, Baltimore</td>\n",
       "      <td>Sales and Research</td>\n",
       "      <td>21600-31200</td>\n",
       "      <td>Making Mobile Device Management Clear is Clear...</td>\n",
       "      <td>- Maintain a high level of Clearmark solution ...</td>\n",
       "      <td>Job Requirements High School Diploma or GEDPas...</td>\n",
       "      <td>401kHealth InsurancePaid Time OffVacation Time...</td>\n",
       "      <td>0</td>\n",
       "      <td>1</td>\n",
       "      <td>0</td>\n",
       "      <td>Part-time</td>\n",
       "      <td>Entry level</td>\n",
       "      <td>High School or equivalent</td>\n",
       "      <td>Computer &amp; Network Security</td>\n",
       "      <td>Sales</td>\n",
       "      <td>1</td>\n",
       "    </tr>\n",
       "    <tr>\n",
       "      <td>14</td>\n",
       "      <td>17805</td>\n",
       "      <td>Account Manager</td>\n",
       "      <td>US, CA, Los Angeles</td>\n",
       "      <td>sales</td>\n",
       "      <td>NaN</td>\n",
       "      <td>NaN</td>\n",
       "      <td>Account ManagerJoin a growing team that combin...</td>\n",
       "      <td>Requirements  High School Diploma  Current 3...</td>\n",
       "      <td>NaN</td>\n",
       "      <td>0</td>\n",
       "      <td>0</td>\n",
       "      <td>0</td>\n",
       "      <td>Part-time</td>\n",
       "      <td>NaN</td>\n",
       "      <td>High School or equivalent</td>\n",
       "      <td>E-Learning</td>\n",
       "      <td>Sales</td>\n",
       "      <td>1</td>\n",
       "    </tr>\n",
       "    <tr>\n",
       "      <td>15</td>\n",
       "      <td>6560</td>\n",
       "      <td>Optical / Sales</td>\n",
       "      <td>US, PA, Mt. Pocono</td>\n",
       "      <td>NaN</td>\n",
       "      <td>NaN</td>\n",
       "      <td>NaN</td>\n",
       "      <td>We are a long term well established Optometric...</td>\n",
       "      <td>NaN</td>\n",
       "      <td>We offer a competitive compensation package, w...</td>\n",
       "      <td>0</td>\n",
       "      <td>0</td>\n",
       "      <td>0</td>\n",
       "      <td>Full-time</td>\n",
       "      <td>NaN</td>\n",
       "      <td>NaN</td>\n",
       "      <td>Health, Wellness and Fitness</td>\n",
       "      <td>Sales</td>\n",
       "      <td>1</td>\n",
       "    </tr>\n",
       "    <tr>\n",
       "      <td>16</td>\n",
       "      <td>9749</td>\n",
       "      <td>Lawn and Maintenance Contractors</td>\n",
       "      <td>US, MD, College Park</td>\n",
       "      <td>NaN</td>\n",
       "      <td>NaN</td>\n",
       "      <td>NaN</td>\n",
       "      <td>We are looking for a contractors/individual wh...</td>\n",
       "      <td>**NOTE: You must have the necessary tools for...</td>\n",
       "      <td>As per job</td>\n",
       "      <td>0</td>\n",
       "      <td>0</td>\n",
       "      <td>0</td>\n",
       "      <td>Contract</td>\n",
       "      <td>NaN</td>\n",
       "      <td>NaN</td>\n",
       "      <td>Real Estate</td>\n",
       "      <td>NaN</td>\n",
       "      <td>1</td>\n",
       "    </tr>\n",
       "    <tr>\n",
       "      <td>17</td>\n",
       "      <td>17731</td>\n",
       "      <td>Licensed Life Insurance Agent</td>\n",
       "      <td>US, WA, Seattle</td>\n",
       "      <td>Sales</td>\n",
       "      <td>NaN</td>\n",
       "      <td>NaN</td>\n",
       "      <td>We need someone who is smart, funny, great wit...</td>\n",
       "      <td>NaN</td>\n",
       "      <td>NaN</td>\n",
       "      <td>0</td>\n",
       "      <td>1</td>\n",
       "      <td>0</td>\n",
       "      <td>Full-time</td>\n",
       "      <td>Not Applicable</td>\n",
       "      <td>High School or equivalent</td>\n",
       "      <td>Insurance</td>\n",
       "      <td>Sales</td>\n",
       "      <td>1</td>\n",
       "    </tr>\n",
       "    <tr>\n",
       "      <td>18</td>\n",
       "      <td>17777</td>\n",
       "      <td>Administrative Assistant</td>\n",
       "      <td>US, TX, Houston</td>\n",
       "      <td>NaN</td>\n",
       "      <td>NaN</td>\n",
       "      <td>Founded in 1993, our group has, in a few short...</td>\n",
       "      <td>Duties / Responsibilities:- Data entry, genera...</td>\n",
       "      <td>- Flexible Schedule- Minimum 2 years’ experien...</td>\n",
       "      <td>Compensation: 12.00 per hour as starting pay +...</td>\n",
       "      <td>0</td>\n",
       "      <td>1</td>\n",
       "      <td>1</td>\n",
       "      <td>Full-time</td>\n",
       "      <td>Entry level</td>\n",
       "      <td>Unspecified</td>\n",
       "      <td>Media Production</td>\n",
       "      <td>Administrative</td>\n",
       "      <td>1</td>\n",
       "    </tr>\n",
       "    <tr>\n",
       "      <td>19</td>\n",
       "      <td>17562</td>\n",
       "      <td>Well Paid Cash Jobs To Start Immediately.</td>\n",
       "      <td>AU, NSW, Sydney</td>\n",
       "      <td>NaN</td>\n",
       "      <td>NaN</td>\n",
       "      <td>NaN</td>\n",
       "      <td>Well Paid Cash Jobs To Start Immediately. No E...</td>\n",
       "      <td>NaN</td>\n",
       "      <td>NaN</td>\n",
       "      <td>0</td>\n",
       "      <td>0</td>\n",
       "      <td>0</td>\n",
       "      <td>Part-time</td>\n",
       "      <td>NaN</td>\n",
       "      <td>NaN</td>\n",
       "      <td>NaN</td>\n",
       "      <td>NaN</td>\n",
       "      <td>1</td>\n",
       "    </tr>\n",
       "    <tr>\n",
       "      <td>20</td>\n",
       "      <td>17786</td>\n",
       "      <td>(Work from Home) $20/hr</td>\n",
       "      <td>US, NY,</td>\n",
       "      <td>NaN</td>\n",
       "      <td>NaN</td>\n",
       "      <td>NaN</td>\n",
       "      <td>We are seeking professionals from all walks of...</td>\n",
       "      <td>Entry level Traders should have at least some ...</td>\n",
       "      <td>Upon completion of training, each representati...</td>\n",
       "      <td>0</td>\n",
       "      <td>0</td>\n",
       "      <td>0</td>\n",
       "      <td>Full-time</td>\n",
       "      <td>Entry level</td>\n",
       "      <td>High School or equivalent</td>\n",
       "      <td>Accounting</td>\n",
       "      <td>Finance</td>\n",
       "      <td>1</td>\n",
       "    </tr>\n",
       "    <tr>\n",
       "      <td>21</td>\n",
       "      <td>2931</td>\n",
       "      <td>Data Entry Clerk</td>\n",
       "      <td>US</td>\n",
       "      <td>HR Manager</td>\n",
       "      <td>20-3075</td>\n",
       "      <td>NaN</td>\n",
       "      <td>CPI Data Services has partnered with a growing...</td>\n",
       "      <td>NaN</td>\n",
       "      <td>Wage rate per hours</td>\n",
       "      <td>0</td>\n",
       "      <td>0</td>\n",
       "      <td>0</td>\n",
       "      <td>Part-time</td>\n",
       "      <td>Not Applicable</td>\n",
       "      <td>Unspecified</td>\n",
       "      <td>Accounting</td>\n",
       "      <td>Administrative</td>\n",
       "      <td>1</td>\n",
       "    </tr>\n",
       "    <tr>\n",
       "      <td>22</td>\n",
       "      <td>17804</td>\n",
       "      <td>Data Entry Admin/Clerical Positions - Work Fro...</td>\n",
       "      <td>US, TX, McAllen</td>\n",
       "      <td>NaN</td>\n",
       "      <td>NaN</td>\n",
       "      <td>NaN</td>\n",
       "      <td>ACCEPTING ONLINE APPLICATIONS ONLYClick Here T...</td>\n",
       "      <td>NaN</td>\n",
       "      <td>NaN</td>\n",
       "      <td>0</td>\n",
       "      <td>0</td>\n",
       "      <td>0</td>\n",
       "      <td>NaN</td>\n",
       "      <td>NaN</td>\n",
       "      <td>NaN</td>\n",
       "      <td>NaN</td>\n",
       "      <td>NaN</td>\n",
       "      <td>1</td>\n",
       "    </tr>\n",
       "    <tr>\n",
       "      <td>23</td>\n",
       "      <td>17773</td>\n",
       "      <td>Sales professionals</td>\n",
       "      <td>AU, QLD, Gold coast</td>\n",
       "      <td>NaN</td>\n",
       "      <td>NaN</td>\n",
       "      <td>NaN</td>\n",
       "      <td>International media company looking for motiva...</td>\n",
       "      <td>highly motivated to create successprofessional...</td>\n",
       "      <td>potential to earn an executive level incomewor...</td>\n",
       "      <td>0</td>\n",
       "      <td>0</td>\n",
       "      <td>1</td>\n",
       "      <td>Other</td>\n",
       "      <td>Not Applicable</td>\n",
       "      <td>Unspecified</td>\n",
       "      <td>Marketing and Advertising</td>\n",
       "      <td>NaN</td>\n",
       "      <td>1</td>\n",
       "    </tr>\n",
       "    <tr>\n",
       "      <td>24</td>\n",
       "      <td>741</td>\n",
       "      <td>Health + Safety Professional</td>\n",
       "      <td>US, CA, Bakersfield</td>\n",
       "      <td>HSE (Health Safety Environmental)</td>\n",
       "      <td>80000-120000</td>\n",
       "      <td>...</td>\n",
       "      <td>Health &amp;amp; Safety Professional | Bakersfield...</td>\n",
       "      <td>Duties and Responsibilities:Provides safety po...</td>\n",
       "      <td>What is offered:Competitive compensation packa...</td>\n",
       "      <td>0</td>\n",
       "      <td>1</td>\n",
       "      <td>1</td>\n",
       "      <td>Full-time</td>\n",
       "      <td>Mid-Senior level</td>\n",
       "      <td>Bachelor's Degree</td>\n",
       "      <td>Oil &amp; Energy</td>\n",
       "      <td>Other</td>\n",
       "      <td>1</td>\n",
       "    </tr>\n",
       "    <tr>\n",
       "      <td>25</td>\n",
       "      <td>11549</td>\n",
       "      <td>Mobile Developer-Back End</td>\n",
       "      <td>US, CA, San Francisco</td>\n",
       "      <td>Information Technology</td>\n",
       "      <td>NaN</td>\n",
       "      <td>Aptitude Staffing Solutions has redesigned the...</td>\n",
       "      <td>Our mission is to help all the world’s people ...</td>\n",
       "      <td>What You Offer:Experience in writing clean and...</td>\n",
       "      <td>NaN</td>\n",
       "      <td>0</td>\n",
       "      <td>1</td>\n",
       "      <td>1</td>\n",
       "      <td>Full-time</td>\n",
       "      <td>Mid-Senior level</td>\n",
       "      <td>Bachelor's Degree</td>\n",
       "      <td>Environmental Services</td>\n",
       "      <td>Information Technology</td>\n",
       "      <td>1</td>\n",
       "    </tr>\n",
       "    <tr>\n",
       "      <td>26</td>\n",
       "      <td>17652</td>\n",
       "      <td>Part time Agents wanted</td>\n",
       "      <td>US, ,</td>\n",
       "      <td>NaN</td>\n",
       "      <td>NaN</td>\n",
       "      <td>NaN</td>\n",
       "      <td>We have the demand. We are looking for people ...</td>\n",
       "      <td>NaN</td>\n",
       "      <td>NaN</td>\n",
       "      <td>0</td>\n",
       "      <td>0</td>\n",
       "      <td>0</td>\n",
       "      <td>NaN</td>\n",
       "      <td>NaN</td>\n",
       "      <td>NaN</td>\n",
       "      <td>NaN</td>\n",
       "      <td>NaN</td>\n",
       "      <td>1</td>\n",
       "    </tr>\n",
       "    <tr>\n",
       "      <td>27</td>\n",
       "      <td>8588</td>\n",
       "      <td>PACU RN</td>\n",
       "      <td>US, NV,</td>\n",
       "      <td>NaN</td>\n",
       "      <td>NaN</td>\n",
       "      <td>NaN</td>\n",
       "      <td>Find more jobs at #URL_1efb08d6a6da1c56afb2d0c...</td>\n",
       "      <td>NaN</td>\n",
       "      <td>NaN</td>\n",
       "      <td>0</td>\n",
       "      <td>0</td>\n",
       "      <td>0</td>\n",
       "      <td>Full-time</td>\n",
       "      <td>NaN</td>\n",
       "      <td>NaN</td>\n",
       "      <td>Hospital &amp; Health Care</td>\n",
       "      <td>NaN</td>\n",
       "      <td>1</td>\n",
       "    </tr>\n",
       "    <tr>\n",
       "      <td>28</td>\n",
       "      <td>7144</td>\n",
       "      <td>Health and Safety Manager</td>\n",
       "      <td>US, TX, Houston</td>\n",
       "      <td>ENGINEERING</td>\n",
       "      <td>NaN</td>\n",
       "      <td>NaN</td>\n",
       "      <td>DescriptionSet standards, define processes and...</td>\n",
       "      <td>Key experience and qualification requirements:...</td>\n",
       "      <td>NaN</td>\n",
       "      <td>0</td>\n",
       "      <td>0</td>\n",
       "      <td>0</td>\n",
       "      <td>Full-time</td>\n",
       "      <td>NaN</td>\n",
       "      <td>NaN</td>\n",
       "      <td>Oil &amp; Energy</td>\n",
       "      <td>Engineering</td>\n",
       "      <td>1</td>\n",
       "    </tr>\n",
       "    <tr>\n",
       "      <td>29</td>\n",
       "      <td>5520</td>\n",
       "      <td>Home Based Payroll Typist/Data Entry Clerks Po...</td>\n",
       "      <td>US, TX, Abernathy</td>\n",
       "      <td>Clerical</td>\n",
       "      <td>NaN</td>\n",
       "      <td>NaN</td>\n",
       "      <td>We have several openings available in this are...</td>\n",
       "      <td>Basic computer and typing skills, ability to s...</td>\n",
       "      <td>All you need is access to the Internet and you...</td>\n",
       "      <td>0</td>\n",
       "      <td>0</td>\n",
       "      <td>0</td>\n",
       "      <td>NaN</td>\n",
       "      <td>NaN</td>\n",
       "      <td>NaN</td>\n",
       "      <td>NaN</td>\n",
       "      <td>NaN</td>\n",
       "      <td>1</td>\n",
       "    </tr>\n",
       "    <tr>\n",
       "      <td>30</td>\n",
       "      <td>17557</td>\n",
       "      <td>Customer Service Representative to Enroll Peop...</td>\n",
       "      <td>US, AR, Little Rock</td>\n",
       "      <td>Customer Service</td>\n",
       "      <td>NaN</td>\n",
       "      <td>Join the Your Phone Connect team and earn mone...</td>\n",
       "      <td>Normal  0      false  false  false         ...</td>\n",
       "      <td>NaN</td>\n",
       "      <td>NaN</td>\n",
       "      <td>0</td>\n",
       "      <td>1</td>\n",
       "      <td>0</td>\n",
       "      <td>Contract</td>\n",
       "      <td>Not Applicable</td>\n",
       "      <td>Unspecified</td>\n",
       "      <td>Telecommunications</td>\n",
       "      <td>Customer Service</td>\n",
       "      <td>1</td>\n",
       "    </tr>\n",
       "    <tr>\n",
       "      <td>31</td>\n",
       "      <td>15929</td>\n",
       "      <td>Administrative Positions</td>\n",
       "      <td>US, CA, Long Beach</td>\n",
       "      <td>NaN</td>\n",
       "      <td>3000-4000</td>\n",
       "      <td>NaN</td>\n",
       "      <td>Compensation: $18.00 per hour We are looking f...</td>\n",
       "      <td>NaN</td>\n",
       "      <td>Benefits for eligible worker include:  Health,...</td>\n",
       "      <td>0</td>\n",
       "      <td>0</td>\n",
       "      <td>0</td>\n",
       "      <td>Part-time</td>\n",
       "      <td>Entry level</td>\n",
       "      <td>High School or equivalent</td>\n",
       "      <td>Business Supplies and Equipment</td>\n",
       "      <td>Accounting/Auditing</td>\n",
       "      <td>1</td>\n",
       "    </tr>\n",
       "    <tr>\n",
       "      <td>32</td>\n",
       "      <td>8253</td>\n",
       "      <td>Civil Engineer II</td>\n",
       "      <td>US, TX, Houston</td>\n",
       "      <td>NaN</td>\n",
       "      <td>NaN</td>\n",
       "      <td>NaN</td>\n",
       "      <td>Why Choose AECOM? Imagine working for a truly ...</td>\n",
       "      <td>Minimum Requirements: Bachelor's Degree in Civ...</td>\n",
       "      <td>NaN</td>\n",
       "      <td>0</td>\n",
       "      <td>0</td>\n",
       "      <td>0</td>\n",
       "      <td>Full-time</td>\n",
       "      <td>NaN</td>\n",
       "      <td>NaN</td>\n",
       "      <td>Oil &amp; Energy</td>\n",
       "      <td>NaN</td>\n",
       "      <td>1</td>\n",
       "    </tr>\n",
       "    <tr>\n",
       "      <td>33</td>\n",
       "      <td>5871</td>\n",
       "      <td>Receptionist Office Asst.</td>\n",
       "      <td>US, FL, Jacksonville</td>\n",
       "      <td>Administration</td>\n",
       "      <td>NaN</td>\n",
       "      <td>UAH is a full service multi-divisional private...</td>\n",
       "      <td>Company DescriptionUrban Asset Holdings (UAH) ...</td>\n",
       "      <td>Responsibilities Include:Work along side our p...</td>\n",
       "      <td>Compensation Package:$16.25 per hour (Biweekly...</td>\n",
       "      <td>0</td>\n",
       "      <td>1</td>\n",
       "      <td>1</td>\n",
       "      <td>Full-time</td>\n",
       "      <td>Entry level</td>\n",
       "      <td>High School or equivalent</td>\n",
       "      <td>Real Estate</td>\n",
       "      <td>Administrative</td>\n",
       "      <td>1</td>\n",
       "    </tr>\n",
       "    <tr>\n",
       "      <td>34</td>\n",
       "      <td>11757</td>\n",
       "      <td>UST Testing Technician III</td>\n",
       "      <td>US, CA, Bakersfield, CA</td>\n",
       "      <td>Oil &amp; Energy</td>\n",
       "      <td>70000-80000</td>\n",
       "      <td>...</td>\n",
       "      <td>UST Testing Technician IIIBakersfield, CALocal...</td>\n",
       "      <td>Responsibilities &amp;amp; Position Requirements:T...</td>\n",
       "      <td>Competitive compensation package including bas...</td>\n",
       "      <td>0</td>\n",
       "      <td>1</td>\n",
       "      <td>1</td>\n",
       "      <td>Full-time</td>\n",
       "      <td>Mid-Senior level</td>\n",
       "      <td>Certification</td>\n",
       "      <td>Oil &amp; Energy</td>\n",
       "      <td>Other</td>\n",
       "      <td>1</td>\n",
       "    </tr>\n",
       "    <tr>\n",
       "      <td>35</td>\n",
       "      <td>17527</td>\n",
       "      <td>Cruise Staff Wanted *URGENT*</td>\n",
       "      <td>US, TX, DALLAS</td>\n",
       "      <td>NaN</td>\n",
       "      <td>NaN</td>\n",
       "      <td>NaN</td>\n",
       "      <td>6* Ultra Luxury American Cruise Company is urg...</td>\n",
       "      <td>Certification &amp;amp; Experience: Previous exper...</td>\n",
       "      <td>Benefits: On board en suite accommodation and ...</td>\n",
       "      <td>0</td>\n",
       "      <td>0</td>\n",
       "      <td>1</td>\n",
       "      <td>NaN</td>\n",
       "      <td>NaN</td>\n",
       "      <td>NaN</td>\n",
       "      <td>Leisure, Travel &amp; Tourism</td>\n",
       "      <td>NaN</td>\n",
       "      <td>1</td>\n",
       "    </tr>\n",
       "    <tr>\n",
       "      <td>36</td>\n",
       "      <td>7483</td>\n",
       "      <td>Licensed Practical Nurse</td>\n",
       "      <td>US, KY,</td>\n",
       "      <td>NaN</td>\n",
       "      <td>NaN</td>\n",
       "      <td>NaN</td>\n",
       "      <td>Apply using below link#URL_80c8ea5f0db2d88ff77...</td>\n",
       "      <td>NaN</td>\n",
       "      <td>NaN</td>\n",
       "      <td>0</td>\n",
       "      <td>0</td>\n",
       "      <td>0</td>\n",
       "      <td>Full-time</td>\n",
       "      <td>NaN</td>\n",
       "      <td>NaN</td>\n",
       "      <td>Hospital &amp; Health Care</td>\n",
       "      <td>NaN</td>\n",
       "      <td>1</td>\n",
       "    </tr>\n",
       "    <tr>\n",
       "      <td>37</td>\n",
       "      <td>6057</td>\n",
       "      <td>Payroll Data Entry Clerk Position - Earn $100...</td>\n",
       "      <td>US, PA, Aaronsburg</td>\n",
       "      <td>Clerical</td>\n",
       "      <td>250000-500000</td>\n",
       "      <td>NaN</td>\n",
       "      <td>This job requires you to have the ability to o...</td>\n",
       "      <td>We are seeking only honest, self-motivated peo...</td>\n",
       "      <td>This position is high paying and you will be p...</td>\n",
       "      <td>1</td>\n",
       "      <td>0</td>\n",
       "      <td>0</td>\n",
       "      <td>Full-time</td>\n",
       "      <td>Not Applicable</td>\n",
       "      <td>High School or equivalent</td>\n",
       "      <td>Staffing and Recruiting</td>\n",
       "      <td>Administrative</td>\n",
       "      <td>1</td>\n",
       "    </tr>\n",
       "    <tr>\n",
       "      <td>38</td>\n",
       "      <td>9761</td>\n",
       "      <td>Property Preservation Field Crews</td>\n",
       "      <td>US, MD, Rockville</td>\n",
       "      <td>NaN</td>\n",
       "      <td>NaN</td>\n",
       "      <td>NaN</td>\n",
       "      <td>We are looking for a contractors/individual wh...</td>\n",
       "      <td>**NOTE: You must have the necessary tools for...</td>\n",
       "      <td>As per job</td>\n",
       "      <td>0</td>\n",
       "      <td>0</td>\n",
       "      <td>0</td>\n",
       "      <td>Contract</td>\n",
       "      <td>NaN</td>\n",
       "      <td>NaN</td>\n",
       "      <td>Real Estate</td>\n",
       "      <td>NaN</td>\n",
       "      <td>1</td>\n",
       "    </tr>\n",
       "    <tr>\n",
       "      <td>39</td>\n",
       "      <td>17632</td>\n",
       "      <td>Property Preservation Field Crews</td>\n",
       "      <td>US, MD, Frederick</td>\n",
       "      <td>NaN</td>\n",
       "      <td>NaN</td>\n",
       "      <td>NaN</td>\n",
       "      <td>We are looking for a contractors/individual wh...</td>\n",
       "      <td>**NOTE: You must have the necessary tools for...</td>\n",
       "      <td>As per job</td>\n",
       "      <td>0</td>\n",
       "      <td>0</td>\n",
       "      <td>0</td>\n",
       "      <td>Contract</td>\n",
       "      <td>NaN</td>\n",
       "      <td>NaN</td>\n",
       "      <td>Real Estate</td>\n",
       "      <td>NaN</td>\n",
       "      <td>1</td>\n",
       "    </tr>\n",
       "    <tr>\n",
       "      <td>40</td>\n",
       "      <td>4005</td>\n",
       "      <td>Administrative Assistant</td>\n",
       "      <td>US, NY, New York</td>\n",
       "      <td>NaN</td>\n",
       "      <td>12000-17000</td>\n",
       "      <td>NaN</td>\n",
       "      <td>Position Summary:Performs data entry via on-li...</td>\n",
       "      <td>Principle Duties:Must be able to operate on-li...</td>\n",
       "      <td>Health and welfare coverage, domestic partner ...</td>\n",
       "      <td>0</td>\n",
       "      <td>0</td>\n",
       "      <td>0</td>\n",
       "      <td>Full-time</td>\n",
       "      <td>Entry level</td>\n",
       "      <td>Unspecified</td>\n",
       "      <td>Accounting</td>\n",
       "      <td>Administrative</td>\n",
       "      <td>1</td>\n",
       "    </tr>\n",
       "    <tr>\n",
       "      <td>41</td>\n",
       "      <td>8707</td>\n",
       "      <td>Receptionist Entry Level position</td>\n",
       "      <td>US, NC, Raleigh</td>\n",
       "      <td>NaN</td>\n",
       "      <td>NaN</td>\n",
       "      <td>NaN</td>\n",
       "      <td>We are seeking individuals to be connected wit...</td>\n",
       "      <td>Home Office SuppliesComputer with internet acc...</td>\n",
       "      <td>NaN</td>\n",
       "      <td>1</td>\n",
       "      <td>0</td>\n",
       "      <td>0</td>\n",
       "      <td>NaN</td>\n",
       "      <td>Entry level</td>\n",
       "      <td>Some High School Coursework</td>\n",
       "      <td>NaN</td>\n",
       "      <td>Administrative</td>\n",
       "      <td>1</td>\n",
       "    </tr>\n",
       "    <tr>\n",
       "      <td>42</td>\n",
       "      <td>11542</td>\n",
       "      <td>QA Engineer</td>\n",
       "      <td>US, CA, San Jose</td>\n",
       "      <td>Engineering</td>\n",
       "      <td>NaN</td>\n",
       "      <td>Aptitude Staffing Solutions has redesigned the...</td>\n",
       "      <td>QA Manager (Cable)Job Summary  ",
       "As a member of ...</td>\n",
       "      <td>Skills and RequirementsIntimately familiar wit...</td>\n",
       "      <td>What Our Company Offers:Broad responsibility, ...</td>\n",
       "      <td>0</td>\n",
       "      <td>1</td>\n",
       "      <td>1</td>\n",
       "      <td>Full-time</td>\n",
       "      <td>Mid-Senior level</td>\n",
       "      <td>Bachelor's Degree</td>\n",
       "      <td>Computer Networking</td>\n",
       "      <td>Engineering</td>\n",
       "      <td>1</td>\n",
       "    </tr>\n",
       "    <tr>\n",
       "      <td>43</td>\n",
       "      <td>7020</td>\n",
       "      <td>QC Inspector</td>\n",
       "      <td>US, TX, Houston</td>\n",
       "      <td>NaN</td>\n",
       "      <td>NaN</td>\n",
       "      <td>NaN</td>\n",
       "      <td>Corporate overviewAker Solutions is a global p...</td>\n",
       "      <td>Qualifications &amp;amp; personal attributes• Rele...</td>\n",
       "      <td>NaN</td>\n",
       "      <td>0</td>\n",
       "      <td>0</td>\n",
       "      <td>0</td>\n",
       "      <td>NaN</td>\n",
       "      <td>NaN</td>\n",
       "      <td>NaN</td>\n",
       "      <td>Oil &amp; Energy</td>\n",
       "      <td>Engineering</td>\n",
       "      <td>1</td>\n",
       "    </tr>\n",
       "    <tr>\n",
       "      <td>44</td>\n",
       "      <td>17537</td>\n",
       "      <td>Data Entry</td>\n",
       "      <td>US, MD, BALTIMORE</td>\n",
       "      <td>NaN</td>\n",
       "      <td>NaN</td>\n",
       "      <td>NaN</td>\n",
       "      <td>A medical company is seeking a Data Entry/Offi...</td>\n",
       "      <td>NaN</td>\n",
       "      <td>NaN</td>\n",
       "      <td>0</td>\n",
       "      <td>0</td>\n",
       "      <td>0</td>\n",
       "      <td>Full-time</td>\n",
       "      <td>Entry level</td>\n",
       "      <td>Unspecified</td>\n",
       "      <td>Medical Devices</td>\n",
       "      <td>Administrative</td>\n",
       "      <td>1</td>\n",
       "    </tr>\n",
       "    <tr>\n",
       "      <td>45</td>\n",
       "      <td>17144</td>\n",
       "      <td>Offering CASH Positions, Immediate Start.</td>\n",
       "      <td>US, CA, Los Angeles</td>\n",
       "      <td>NaN</td>\n",
       "      <td>NaN</td>\n",
       "      <td>NaN</td>\n",
       "      <td>Offering CASH Positions, Immediate Start.Work ...</td>\n",
       "      <td>Only basic knowledge of computer and Internet ...</td>\n",
       "      <td>Free to join.</td>\n",
       "      <td>0</td>\n",
       "      <td>0</td>\n",
       "      <td>0</td>\n",
       "      <td>Part-time</td>\n",
       "      <td>Internship</td>\n",
       "      <td>High School or equivalent</td>\n",
       "      <td>Marketing and Advertising</td>\n",
       "      <td>Marketing</td>\n",
       "      <td>1</td>\n",
       "    </tr>\n",
       "    <tr>\n",
       "      <td>46</td>\n",
       "      <td>99</td>\n",
       "      <td>IC&amp;E Technician</td>\n",
       "      <td>US, , Stocton, CA</td>\n",
       "      <td>Oil &amp; Energy</td>\n",
       "      <td>95000-115000</td>\n",
       "      <td>...</td>\n",
       "      <td>IC&amp;amp;E Technician | Bakersfield, CA Mt. Poso...</td>\n",
       "      <td>QualificationsKnowledge, Skills &amp;amp; Abilitie...</td>\n",
       "      <td>BENEFITSWhat is offered:Competitive compensati...</td>\n",
       "      <td>0</td>\n",
       "      <td>1</td>\n",
       "      <td>1</td>\n",
       "      <td>Full-time</td>\n",
       "      <td>Mid-Senior level</td>\n",
       "      <td>High School or equivalent</td>\n",
       "      <td>Oil &amp; Energy</td>\n",
       "      <td>Other</td>\n",
       "      <td>1</td>\n",
       "    </tr>\n",
       "    <tr>\n",
       "      <td>47</td>\n",
       "      <td>5511</td>\n",
       "      <td>Payroll Data Coordinator Positions - Earn $100...</td>\n",
       "      <td>US, LA, Abbeville</td>\n",
       "      <td>NaN</td>\n",
       "      <td>NaN</td>\n",
       "      <td>NaN</td>\n",
       "      <td>We are a full-service marketing and staffing f...</td>\n",
       "      <td>RequirementsAll you need is access to the Inte...</td>\n",
       "      <td>This is an entry level position and we offer f...</td>\n",
       "      <td>0</td>\n",
       "      <td>0</td>\n",
       "      <td>0</td>\n",
       "      <td>NaN</td>\n",
       "      <td>NaN</td>\n",
       "      <td>NaN</td>\n",
       "      <td>NaN</td>\n",
       "      <td>NaN</td>\n",
       "      <td>1</td>\n",
       "    </tr>\n",
       "    <tr>\n",
       "      <td>48</td>\n",
       "      <td>6529</td>\n",
       "      <td>CALL CENTER REP</td>\n",
       "      <td>US, TX, AUSTIN</td>\n",
       "      <td>CALLCENTER</td>\n",
       "      <td>30000-40000</td>\n",
       "      <td>The Accion  story began more than 100 years ag...</td>\n",
       "      <td>Our Call Center Rep would be expected to be ex...</td>\n",
       "      <td>Requirements:The qualifications for this posi...</td>\n",
       "      <td>100% coverage of dental, vision and life insur...</td>\n",
       "      <td>0</td>\n",
       "      <td>1</td>\n",
       "      <td>1</td>\n",
       "      <td>Full-time</td>\n",
       "      <td>Associate</td>\n",
       "      <td>High School or equivalent</td>\n",
       "      <td>Financial Services</td>\n",
       "      <td>Customer Service</td>\n",
       "      <td>1</td>\n",
       "    </tr>\n",
       "    <tr>\n",
       "      <td>49</td>\n",
       "      <td>17806</td>\n",
       "      <td>Receptionist</td>\n",
       "      <td>GB, ,</td>\n",
       "      <td>NaN</td>\n",
       "      <td>NaN</td>\n",
       "      <td>NaN</td>\n",
       "      <td>We the Montcalm Hotel are looking for the posi...</td>\n",
       "      <td>Good Requirement</td>\n",
       "      <td>Package: Basic salary ranges from GBP2500 - 60...</td>\n",
       "      <td>0</td>\n",
       "      <td>0</td>\n",
       "      <td>0</td>\n",
       "      <td>Full-time</td>\n",
       "      <td>Entry level</td>\n",
       "      <td>NaN</td>\n",
       "      <td>Hospitality</td>\n",
       "      <td>NaN</td>\n",
       "      <td>1</td>\n",
       "    </tr>\n",
       "  </tbody>\n",
       "</table>\n",
       "</div>"
      ],
      "text/plain": [
       "    job_id                                              title  \\\n",
       "0    17638                       Cruise Staff Wanted *URGENT*   \n",
       "1    17570               CASH JOBS, Part Time Workers Needed.   \n",
       "2     2078                           Piping Material Engineer   \n",
       "3    17653                                 Clerical Assistant   \n",
       "4     7184                            CUSTOMER SERVICE AGENT    \n",
       "5    17693                           Administrative Assistant   \n",
       "6    11539                     Research Engineer Data Science   \n",
       "7     1701                       Cruise Staff Wanted *URGENT*   \n",
       "8    17747                                  Network Marketing   \n",
       "9     4578                         Senior Sales Professionals   \n",
       "10    6129                             Accounting/Bookkeeping   \n",
       "11   17729                                Executive Assistant   \n",
       "12   17583                 RNFA - St. Joseph Medical Center     \n",
       "13   12434                            Sales Professional- SMB   \n",
       "14   17805                                    Account Manager   \n",
       "15    6560                                    Optical / Sales   \n",
       "16    9749                  Lawn and Maintenance Contractors    \n",
       "17   17731                      Licensed Life Insurance Agent   \n",
       "18   17777                          Administrative Assistant    \n",
       "19   17562         Well Paid Cash Jobs To Start Immediately.    \n",
       "20   17786                            (Work from Home) $20/hr   \n",
       "21    2931                                   Data Entry Clerk   \n",
       "22   17804  Data Entry Admin/Clerical Positions - Work Fro...   \n",
       "23   17773                                Sales professionals   \n",
       "24     741                       Health + Safety Professional   \n",
       "25   11549                         Mobile Developer-Back End    \n",
       "26   17652                            Part time Agents wanted   \n",
       "27    8588                                          PACU RN     \n",
       "28    7144                          Health and Safety Manager   \n",
       "29    5520  Home Based Payroll Typist/Data Entry Clerks Po...   \n",
       "30   17557  Customer Service Representative to Enroll Peop...   \n",
       "31   15929                           Administrative Positions   \n",
       "32    8253                                  Civil Engineer II   \n",
       "33    5871                          Receptionist Office Asst.   \n",
       "34   11757                         UST Testing Technician III   \n",
       "35   17527                       Cruise Staff Wanted *URGENT*   \n",
       "36    7483                         Licensed Practical Nurse     \n",
       "37    6057   Payroll Data Entry Clerk Position - Earn $100...   \n",
       "38    9761                  Property Preservation Field Crews   \n",
       "39   17632                  Property Preservation Field Crews   \n",
       "40    4005                           Administrative Assistant   \n",
       "41    8707                  Receptionist Entry Level position   \n",
       "42   11542                                        QA Engineer   \n",
       "43    7020                                       QC Inspector   \n",
       "44   17537                                         Data Entry   \n",
       "45   17144          Offering CASH Positions, Immediate Start.   \n",
       "46      99                                    IC&E Technician   \n",
       "47    5511  Payroll Data Coordinator Positions - Earn $100...   \n",
       "48    6529                                    CALL CENTER REP   \n",
       "49   17806                                       Receptionist   \n",
       "\n",
       "                   location                         department   salary_range  \\\n",
       "0           US, IL, CHICAGO                                NaN            NaN   \n",
       "1           AU, NSW, Sydney                                NaN            NaN   \n",
       "2           US, TX, Houston                                NaN            NaN   \n",
       "3            US, NY, ALBANY                     Admin/Clerical    40000-60000   \n",
       "4            US, TX, DALLAS                     CALL CENTER SP    30000-38000   \n",
       "5                    US, ,                               ADMIN    34000-42000   \n",
       "6         US, CA, San Mateo                        Engineering            NaN   \n",
       "7         US, NY, MANHATTAN                                NaN            NaN   \n",
       "8                  US, CA,                                 NaN   7200-1380000   \n",
       "9      US, IN, Indianapolis                    Sales/Marketing            NaN   \n",
       "10        US, MA, salisbury                                NaN            NaN   \n",
       "11          US, CO, DENVER                          Data Entry            0-0   \n",
       "12                   US, ,                                 NaN            NaN   \n",
       "13        US, MD, Baltimore                 Sales and Research    21600-31200   \n",
       "14      US, CA, Los Angeles                              sales            NaN   \n",
       "15       US, PA, Mt. Pocono                                NaN            NaN   \n",
       "16     US, MD, College Park                                NaN            NaN   \n",
       "17          US, WA, Seattle                              Sales            NaN   \n",
       "18          US, TX, Houston                                NaN            NaN   \n",
       "19          AU, NSW, Sydney                                NaN            NaN   \n",
       "20                 US, NY,                                 NaN            NaN   \n",
       "21                       US                         HR Manager        20-3075   \n",
       "22          US, TX, McAllen                                NaN            NaN   \n",
       "23      AU, QLD, Gold coast                                NaN            NaN   \n",
       "24      US, CA, Bakersfield  HSE (Health Safety Environmental)   80000-120000   \n",
       "25    US, CA, San Francisco             Information Technology            NaN   \n",
       "26                   US, ,                                 NaN            NaN   \n",
       "27                 US, NV,                                 NaN            NaN   \n",
       "28          US, TX, Houston                        ENGINEERING            NaN   \n",
       "29       US, TX, Abernathy                            Clerical            NaN   \n",
       "30      US, AR, Little Rock                   Customer Service            NaN   \n",
       "31       US, CA, Long Beach                                NaN      3000-4000   \n",
       "32          US, TX, Houston                                NaN            NaN   \n",
       "33     US, FL, Jacksonville                     Administration            NaN   \n",
       "34  US, CA, Bakersfield, CA                      Oil & Energy     70000-80000   \n",
       "35           US, TX, DALLAS                                NaN            NaN   \n",
       "36                 US, KY,                                 NaN            NaN   \n",
       "37      US, PA, Aaronsburg                            Clerical  250000-500000   \n",
       "38        US, MD, Rockville                                NaN            NaN   \n",
       "39        US, MD, Frederick                                NaN            NaN   \n",
       "40         US, NY, New York                                NaN    12000-17000   \n",
       "41          US, NC, Raleigh                                NaN            NaN   \n",
       "42         US, CA, San Jose                        Engineering            NaN   \n",
       "43          US, TX, Houston                                NaN            NaN   \n",
       "44        US, MD, BALTIMORE                                NaN            NaN   \n",
       "45      US, CA, Los Angeles                                NaN            NaN   \n",
       "46        US, , Stocton, CA                       Oil & Energy   95000-115000   \n",
       "47      US, LA, Abbeville                                  NaN            NaN   \n",
       "48           US, TX, AUSTIN                        CALLCENTER     30000-40000   \n",
       "49                   GB, ,                                 NaN            NaN   \n",
       "\n",
       "                                      company_profile  \\\n",
       "0                                                 NaN   \n",
       "1                                                 NaN   \n",
       "2   Aker Solutions is a global provider of product...   \n",
       "3                                                 NaN   \n",
       "4   Aegis is a global business services provider i...   \n",
       "5                                                 NaN   \n",
       "6   Aptitude Staffing Solutions has redesigned the...   \n",
       "7                                                 NaN   \n",
       "8                                                 NaN   \n",
       "9                                                 NaN   \n",
       "10                                                NaN   \n",
       "11                                                NaN   \n",
       "12                                                NaN   \n",
       "13  Making Mobile Device Management Clear is Clear...   \n",
       "14                                                NaN   \n",
       "15                                                NaN   \n",
       "16                                                NaN   \n",
       "17                                                NaN   \n",
       "18  Founded in 1993, our group has, in a few short...   \n",
       "19                                                NaN   \n",
       "20                                                NaN   \n",
       "21                                                NaN   \n",
       "22                                                NaN   \n",
       "23                                                NaN   \n",
       "24                                                ...   \n",
       "25  Aptitude Staffing Solutions has redesigned the...   \n",
       "26                                                NaN   \n",
       "27                                                NaN   \n",
       "28                                                NaN   \n",
       "29                                                NaN   \n",
       "30  Join the Your Phone Connect team and earn mone...   \n",
       "31                                                NaN   \n",
       "32                                                NaN   \n",
       "33  UAH is a full service multi-divisional private...   \n",
       "34                                                ...   \n",
       "35                                                NaN   \n",
       "36                                                NaN   \n",
       "37                                                NaN   \n",
       "38                                                NaN   \n",
       "39                                                NaN   \n",
       "40                                                NaN   \n",
       "41                                                NaN   \n",
       "42  Aptitude Staffing Solutions has redesigned the...   \n",
       "43                                                NaN   \n",
       "44                                                NaN   \n",
       "45                                                NaN   \n",
       "46                                                ...   \n",
       "47                                                NaN   \n",
       "48  The Accion  story began more than 100 years ag...   \n",
       "49                                                NaN   \n",
       "\n",
       "                                          description  \\\n",
       "0   6* Ultra Luxury American Cruise Company is urg...   \n",
       "1   CASH JOBS, Part Time Workers Needed.Work Minim...   \n",
       "2   Corporate overviewAker Solutions is a global p...   \n",
       "3   The Clerical Assistant will be responsible for...   \n",
       "4   Location DALLAS, TX , USAJob DescriptionRepres...   \n",
       "5   Administrative AssistantEssential Duties and R...   \n",
       "6   Research Engineer | Data Science | San Mateo, ...   \n",
       "7   6* Ultra Luxury American Cruise Company is urg...   \n",
       "8   Are you looking to make anywhere from 600-115,...   \n",
       "9   Do YOU have the sales skills or entrepreneuria...   \n",
       "10  Hello Applicant,What is your situation? Are yo...   \n",
       "11  Fast paced company in need of both Full-Part t...   \n",
       "12  Apply using below link#URL_56ff6e6f6d7ee1c8962...   \n",
       "13  - Maintain a high level of Clearmark solution ...   \n",
       "14  Account ManagerJoin a growing team that combin...   \n",
       "15  We are a long term well established Optometric...   \n",
       "16  We are looking for a contractors/individual wh...   \n",
       "17  We need someone who is smart, funny, great wit...   \n",
       "18  Duties / Responsibilities:- Data entry, genera...   \n",
       "19  Well Paid Cash Jobs To Start Immediately. No E...   \n",
       "20  We are seeking professionals from all walks of...   \n",
       "21  CPI Data Services has partnered with a growing...   \n",
       "22  ACCEPTING ONLINE APPLICATIONS ONLYClick Here T...   \n",
       "23  International media company looking for motiva...   \n",
       "24  Health &amp; Safety Professional | Bakersfield...   \n",
       "25  Our mission is to help all the world’s people ...   \n",
       "26  We have the demand. We are looking for people ...   \n",
       "27  Find more jobs at #URL_1efb08d6a6da1c56afb2d0c...   \n",
       "28  DescriptionSet standards, define processes and...   \n",
       "29  We have several openings available in this are...   \n",
       "30     Normal  0      false  false  false         ...   \n",
       "31  Compensation: $18.00 per hour We are looking f...   \n",
       "32  Why Choose AECOM? Imagine working for a truly ...   \n",
       "33  Company DescriptionUrban Asset Holdings (UAH) ...   \n",
       "34  UST Testing Technician IIIBakersfield, CALocal...   \n",
       "35  6* Ultra Luxury American Cruise Company is urg...   \n",
       "36  Apply using below link#URL_80c8ea5f0db2d88ff77...   \n",
       "37  This job requires you to have the ability to o...   \n",
       "38  We are looking for a contractors/individual wh...   \n",
       "39  We are looking for a contractors/individual wh...   \n",
       "40  Position Summary:Performs data entry via on-li...   \n",
       "41  We are seeking individuals to be connected wit...   \n",
       "42  QA Manager (Cable)Job Summary \n",
       "As a member of ...   \n",
       "43  Corporate overviewAker Solutions is a global p...   \n",
       "44  A medical company is seeking a Data Entry/Offi...   \n",
       "45  Offering CASH Positions, Immediate Start.Work ...   \n",
       "46  IC&amp;E Technician | Bakersfield, CA Mt. Poso...   \n",
       "47  We are a full-service marketing and staffing f...   \n",
       "48  Our Call Center Rep would be expected to be ex...   \n",
       "49  We the Montcalm Hotel are looking for the posi...   \n",
       "\n",
       "                                         requirements  \\\n",
       "0   Certification &amp; Experience: Previous exper...   \n",
       "1             Work Minimum 1-2 Hours Per Day Anytime.   \n",
       "2   Qualifications &amp; personal attributes• High...   \n",
       "3   Who we're Looking For:- Motivated, detail orie...   \n",
       "4                                 HIGH SCHOOL DIPLOMA   \n",
       "5   Qualification/Requirements: * Proficient in Mi...   \n",
       "6   Position requirements: Quickly learning new ar...   \n",
       "7   Certification &amp; Experience: Previous exper...   \n",
       "8   An ambition to succeed, A desire to be the bes...   \n",
       "9                                                 NaN   \n",
       "10                                                NaN   \n",
       "11  SKILLS &amp; REQUIREMENTS-Ability to multi tas...   \n",
       "12                                                NaN   \n",
       "13  Job Requirements High School Diploma or GEDPas...   \n",
       "14  Requirements  High School Diploma  Current 3...   \n",
       "15                                                NaN   \n",
       "16   **NOTE: You must have the necessary tools for...   \n",
       "17                                                NaN   \n",
       "18  - Flexible Schedule- Minimum 2 years’ experien...   \n",
       "19                                                NaN   \n",
       "20  Entry level Traders should have at least some ...   \n",
       "21                                                NaN   \n",
       "22                                                NaN   \n",
       "23  highly motivated to create successprofessional...   \n",
       "24  Duties and Responsibilities:Provides safety po...   \n",
       "25  What You Offer:Experience in writing clean and...   \n",
       "26                                                NaN   \n",
       "27                                                NaN   \n",
       "28  Key experience and qualification requirements:...   \n",
       "29  Basic computer and typing skills, ability to s...   \n",
       "30                                                NaN   \n",
       "31                                                NaN   \n",
       "32  Minimum Requirements: Bachelor's Degree in Civ...   \n",
       "33  Responsibilities Include:Work along side our p...   \n",
       "34  Responsibilities &amp; Position Requirements:T...   \n",
       "35  Certification &amp; Experience: Previous exper...   \n",
       "36                                                NaN   \n",
       "37  We are seeking only honest, self-motivated peo...   \n",
       "38   **NOTE: You must have the necessary tools for...   \n",
       "39   **NOTE: You must have the necessary tools for...   \n",
       "40  Principle Duties:Must be able to operate on-li...   \n",
       "41  Home Office SuppliesComputer with internet acc...   \n",
       "42  Skills and RequirementsIntimately familiar wit...   \n",
       "43  Qualifications &amp; personal attributes• Rele...   \n",
       "44                                                NaN   \n",
       "45  Only basic knowledge of computer and Internet ...   \n",
       "46  QualificationsKnowledge, Skills &amp; Abilitie...   \n",
       "47  RequirementsAll you need is access to the Inte...   \n",
       "48   Requirements:The qualifications for this posi...   \n",
       "49                                   Good Requirement   \n",
       "\n",
       "                                             benefits  telecommuting  \\\n",
       "0   Benefits: On board en suite accommodation and ...              0   \n",
       "1                  Suitable For Both Male And Female.              0   \n",
       "2                                                 NaN              0   \n",
       "3   This is a full-time salary position that offer...              0   \n",
       "4   HEALTH CARE,DENTAL INSURANCE, LIFE INSURANCE, ...              0   \n",
       "5   Health, Dental, Life and AD&amp;D Insurance, E...              0   \n",
       "6   The BenefitsGenerous paid time off to help you...              0   \n",
       "7   Benefits: On board en suite accommodation and ...              0   \n",
       "8   Residual Income, Travel dollars, Car Dollars, ...              0   \n",
       "9                                                 NaN              0   \n",
       "10                                                NaN              0   \n",
       "11                                                NaN              1   \n",
       "12                                                NaN              0   \n",
       "13  401kHealth InsurancePaid Time OffVacation Time...              0   \n",
       "14                                                NaN              0   \n",
       "15  We offer a competitive compensation package, w...              0   \n",
       "16                                         As per job              0   \n",
       "17                                                NaN              0   \n",
       "18  Compensation: 12.00 per hour as starting pay +...              0   \n",
       "19                                                NaN              0   \n",
       "20  Upon completion of training, each representati...              0   \n",
       "21                                Wage rate per hours              0   \n",
       "22                                                NaN              0   \n",
       "23  potential to earn an executive level incomewor...              0   \n",
       "24  What is offered:Competitive compensation packa...              0   \n",
       "25                                                NaN              0   \n",
       "26                                                NaN              0   \n",
       "27                                                NaN              0   \n",
       "28                                                NaN              0   \n",
       "29  All you need is access to the Internet and you...              0   \n",
       "30                                                NaN              0   \n",
       "31  Benefits for eligible worker include:  Health,...              0   \n",
       "32                                                NaN              0   \n",
       "33  Compensation Package:$16.25 per hour (Biweekly...              0   \n",
       "34  Competitive compensation package including bas...              0   \n",
       "35  Benefits: On board en suite accommodation and ...              0   \n",
       "36                                                NaN              0   \n",
       "37  This position is high paying and you will be p...              1   \n",
       "38                                         As per job              0   \n",
       "39                                         As per job              0   \n",
       "40  Health and welfare coverage, domestic partner ...              0   \n",
       "41                                                NaN              1   \n",
       "42  What Our Company Offers:Broad responsibility, ...              0   \n",
       "43                                                NaN              0   \n",
       "44                                                NaN              0   \n",
       "45                                      Free to join.              0   \n",
       "46  BENEFITSWhat is offered:Competitive compensati...              0   \n",
       "47  This is an entry level position and we offer f...              0   \n",
       "48  100% coverage of dental, vision and life insur...              0   \n",
       "49  Package: Basic salary ranges from GBP2500 - 60...              0   \n",
       "\n",
       "    has_company_logo  has_questions employment_type required_experience  \\\n",
       "0                  0              1       Full-time                 NaN   \n",
       "1                  0              0       Part-time                 NaN   \n",
       "2                  1              0       Full-time    Mid-Senior level   \n",
       "3                  0              0       Full-time      Not Applicable   \n",
       "4                  1              1       Full-time         Entry level   \n",
       "5                  0              0       Full-time         Entry level   \n",
       "6                  1              1       Full-time    Mid-Senior level   \n",
       "7                  0              0       Full-time                 NaN   \n",
       "8                  0              0       Full-time      Not Applicable   \n",
       "9                  0              0             NaN                 NaN   \n",
       "10                 0              0       Temporary         Entry level   \n",
       "11                 0              0       Full-time           Executive   \n",
       "12                 0              0       Full-time                 NaN   \n",
       "13                 1              0       Part-time         Entry level   \n",
       "14                 0              0       Part-time                 NaN   \n",
       "15                 0              0       Full-time                 NaN   \n",
       "16                 0              0        Contract                 NaN   \n",
       "17                 1              0       Full-time      Not Applicable   \n",
       "18                 1              1       Full-time         Entry level   \n",
       "19                 0              0       Part-time                 NaN   \n",
       "20                 0              0       Full-time         Entry level   \n",
       "21                 0              0       Part-time      Not Applicable   \n",
       "22                 0              0             NaN                 NaN   \n",
       "23                 0              1           Other      Not Applicable   \n",
       "24                 1              1       Full-time    Mid-Senior level   \n",
       "25                 1              1       Full-time    Mid-Senior level   \n",
       "26                 0              0             NaN                 NaN   \n",
       "27                 0              0       Full-time                 NaN   \n",
       "28                 0              0       Full-time                 NaN   \n",
       "29                 0              0             NaN                 NaN   \n",
       "30                 1              0        Contract      Not Applicable   \n",
       "31                 0              0       Part-time         Entry level   \n",
       "32                 0              0       Full-time                 NaN   \n",
       "33                 1              1       Full-time         Entry level   \n",
       "34                 1              1       Full-time    Mid-Senior level   \n",
       "35                 0              1             NaN                 NaN   \n",
       "36                 0              0       Full-time                 NaN   \n",
       "37                 0              0       Full-time      Not Applicable   \n",
       "38                 0              0        Contract                 NaN   \n",
       "39                 0              0        Contract                 NaN   \n",
       "40                 0              0       Full-time         Entry level   \n",
       "41                 0              0             NaN         Entry level   \n",
       "42                 1              1       Full-time    Mid-Senior level   \n",
       "43                 0              0             NaN                 NaN   \n",
       "44                 0              0       Full-time         Entry level   \n",
       "45                 0              0       Part-time          Internship   \n",
       "46                 1              1       Full-time    Mid-Senior level   \n",
       "47                 0              0             NaN                 NaN   \n",
       "48                 1              1       Full-time           Associate   \n",
       "49                 0              0       Full-time         Entry level   \n",
       "\n",
       "             required_education                         industry  \\\n",
       "0                           NaN        Leisure, Travel & Tourism   \n",
       "1                           NaN                              NaN   \n",
       "2               Master's Degree                     Oil & Energy   \n",
       "3     High School or equivalent                Civil Engineering   \n",
       "4     High School or equivalent                Consumer Services   \n",
       "5                           NaN                       Accounting   \n",
       "6               Master's Degree        Marketing and Advertising   \n",
       "7                           NaN        Leisure, Travel & Tourism   \n",
       "8                   Unspecified        Marketing and Advertising   \n",
       "9     High School or equivalent                              NaN   \n",
       "10                  Unspecified                       Accounting   \n",
       "11              Master's Degree                Consumer Services   \n",
       "12                          NaN           Hospital & Health Care   \n",
       "13    High School or equivalent      Computer & Network Security   \n",
       "14    High School or equivalent                       E-Learning   \n",
       "15                          NaN     Health, Wellness and Fitness   \n",
       "16                          NaN                      Real Estate   \n",
       "17    High School or equivalent                        Insurance   \n",
       "18                  Unspecified                 Media Production   \n",
       "19                          NaN                              NaN   \n",
       "20    High School or equivalent                       Accounting   \n",
       "21                  Unspecified                       Accounting   \n",
       "22                          NaN                              NaN   \n",
       "23                  Unspecified        Marketing and Advertising   \n",
       "24            Bachelor's Degree                     Oil & Energy   \n",
       "25            Bachelor's Degree           Environmental Services   \n",
       "26                          NaN                              NaN   \n",
       "27                          NaN           Hospital & Health Care   \n",
       "28                          NaN                     Oil & Energy   \n",
       "29                          NaN                              NaN   \n",
       "30                  Unspecified               Telecommunications   \n",
       "31    High School or equivalent  Business Supplies and Equipment   \n",
       "32                          NaN                     Oil & Energy   \n",
       "33    High School or equivalent                      Real Estate   \n",
       "34                Certification                     Oil & Energy   \n",
       "35                          NaN        Leisure, Travel & Tourism   \n",
       "36                          NaN           Hospital & Health Care   \n",
       "37    High School or equivalent          Staffing and Recruiting   \n",
       "38                          NaN                      Real Estate   \n",
       "39                          NaN                      Real Estate   \n",
       "40                  Unspecified                       Accounting   \n",
       "41  Some High School Coursework                              NaN   \n",
       "42            Bachelor's Degree              Computer Networking   \n",
       "43                          NaN                     Oil & Energy   \n",
       "44                  Unspecified                  Medical Devices   \n",
       "45    High School or equivalent        Marketing and Advertising   \n",
       "46    High School or equivalent                     Oil & Energy   \n",
       "47                          NaN                              NaN   \n",
       "48    High School or equivalent               Financial Services   \n",
       "49                          NaN                      Hospitality   \n",
       "\n",
       "                  function  fraudulent  \n",
       "0                      NaN           1  \n",
       "1                      NaN           1  \n",
       "2              Engineering           1  \n",
       "3           Administrative           1  \n",
       "4         Customer Service           1  \n",
       "5           Administrative           1  \n",
       "6              Engineering           1  \n",
       "7                      NaN           1  \n",
       "8                      NaN           1  \n",
       "9                    Sales           1  \n",
       "10     Accounting/Auditing           1  \n",
       "11          Administrative           1  \n",
       "12                     NaN           1  \n",
       "13                   Sales           1  \n",
       "14                   Sales           1  \n",
       "15                   Sales           1  \n",
       "16                     NaN           1  \n",
       "17                   Sales           1  \n",
       "18          Administrative           1  \n",
       "19                     NaN           1  \n",
       "20                 Finance           1  \n",
       "21          Administrative           1  \n",
       "22                     NaN           1  \n",
       "23                     NaN           1  \n",
       "24                   Other           1  \n",
       "25  Information Technology           1  \n",
       "26                     NaN           1  \n",
       "27                     NaN           1  \n",
       "28             Engineering           1  \n",
       "29                     NaN           1  \n",
       "30        Customer Service           1  \n",
       "31     Accounting/Auditing           1  \n",
       "32                     NaN           1  \n",
       "33          Administrative           1  \n",
       "34                   Other           1  \n",
       "35                     NaN           1  \n",
       "36                     NaN           1  \n",
       "37          Administrative           1  \n",
       "38                     NaN           1  \n",
       "39                     NaN           1  \n",
       "40          Administrative           1  \n",
       "41          Administrative           1  \n",
       "42             Engineering           1  \n",
       "43             Engineering           1  \n",
       "44          Administrative           1  \n",
       "45               Marketing           1  \n",
       "46                   Other           1  \n",
       "47                     NaN           1  \n",
       "48        Customer Service           1  \n",
       "49                     NaN           1  "
      ]
     },
     "execution_count": 17,
     "metadata": {},
     "output_type": "execute_result"
    }
   ],
   "source": [
    "sample_frauds =job_data[job_data['fraudulent'] == 1].sample(50).reset_index(drop=True)\n",
    "sample_frauds"
   ]
  },
  {
   "cell_type": "code",
   "execution_count": 18,
   "metadata": {},
   "outputs": [
    {
     "data": {
      "text/plain": [
       "'Well Paid Cash Jobs To Start Immediately. No Experience Required And Never Any Fees.Work Anytime 1 To 2 Hrs Daily In Free Time.Earn Easily $350 To $400 Extra Per Day.Totally Free To Join &amp; Suitable For All.Take Action &amp; Get Started Here:-#URL_7045495b1ed4944c22f2b385d32cd015de8d94e25f1d4a6232fa3139286ffdd9#'"
      ]
     },
     "execution_count": 18,
     "metadata": {},
     "output_type": "execute_result"
    }
   ],
   "source": [
    "sample_frauds.description[19]"
   ]
  },
  {
   "cell_type": "code",
   "execution_count": 19,
   "metadata": {},
   "outputs": [
    {
     "data": {
      "text/plain": [
       "'Fast paced company in need of both Full-Part time, Executive Assistant. Must be computer literate, highly organized, able to deal with high stress situations, and have excellent negotiating skills. Also must have accounting,customer service and data entry background.Duties include but are not limited to:-Receiving all clients and visitors-answering phones and email correspondence-coordinating/managing schedules for several -therapists at one time-data entry-filing and sorting-copying and faxing, running errands-Assisting the customer service area as well.'"
      ]
     },
     "execution_count": 19,
     "metadata": {},
     "output_type": "execute_result"
    }
   ],
   "source": [
    "sample_frauds.description[11]"
   ]
  },
  {
   "cell_type": "markdown",
   "metadata": {},
   "source": [
    "The job description field looks fairly authentic for most of the fraud offers. From the examination of this variable for a subset of frauds the function \"signal_phrases()\" has been created to flag the offers which contain some 'fraud-looking' bigrams."
   ]
  },
  {
   "cell_type": "markdown",
   "metadata": {},
   "source": [
    "## Questions to answer with the data"
   ]
  },
  {
   "cell_type": "markdown",
   "metadata": {},
   "source": [
    "1. In which country are offered the highest salaries?\n",
    "2. Do fraudulent job listings offer higher salary than real ones?\n",
    "3. Which country has the largest ratio of fraudulent job adverts?\n",
    "4. What types of employment do the scammers prefer?\n",
    "5. Is it possible to create an accurate classification model to detect scam job offers with simple feature engineering?"
   ]
  },
  {
   "cell_type": "markdown",
   "metadata": {},
   "source": [
    "## Exploration, data cleaning and new features"
   ]
  },
  {
   "cell_type": "markdown",
   "metadata": {},
   "source": [
    "a) check for missing values"
   ]
  },
  {
   "cell_type": "code",
   "execution_count": 20,
   "metadata": {},
   "outputs": [
    {
     "data": {
      "text/plain": [
       "<matplotlib.axes._subplots.AxesSubplot at 0x7f3fa7fbf4d0>"
      ]
     },
     "execution_count": 20,
     "metadata": {},
     "output_type": "execute_result"
    },
    {
     "data": {
      "image/png": "[encoded data removed]",
      "text/plain": [
       "<Figure size 1728x720 with 3 Axes>"
      ]
     },
     "metadata": {},
     "output_type": "display_data"
    }
   ],
   "source": [
    "msno.bar(job_data) "
   ]
  },
  {
   "cell_type": "markdown",
   "metadata": {},
   "source": [
    "b) Check for duplicates  & add feature depicting number of postings and removal of duplicate job listings "
   ]
  },
  {
   "cell_type": "code",
   "execution_count": 21,
   "metadata": {},
   "outputs": [],
   "source": [
    "job_data[\"country\"] = job_data[job_data['location'].notnull()][\"location\"].apply(lambda x: x.split(',')[0])\n",
    "\n",
    "\n",
    "job_data_cleaned_cats = categorical_nans([\"department\",\"company_profile\", \"description\", \"requirements\", \"benefits\", \"employment_type\"\n",
    "                            , \"required_experience\", \"required_education\", \"industry\", \"function\", \"country\"], df=job_data)\n"
   ]
  },
  {
   "cell_type": "code",
   "execution_count": 22,
   "metadata": {
    "scrolled": true
   },
   "outputs": [
    {
     "data": {
      "text/html": [
       "<div>\n",
       "<style scoped>\n",
       "    .dataframe tbody tr th:only-of-type {\n",
       "        vertical-align: middle;\n",
       "    }\n",
       "\n",
       "    .dataframe tbody tr th {\n",
       "        vertical-align: top;\n",
       "    }\n",
       "\n",
       "    .dataframe thead th {\n",
       "        text-align: right;\n",
       "    }\n",
       "</style>\n",
       "<table border=\"1\" class=\"dataframe\">\n",
       "  <thead>\n",
       "    <tr style=\"text-align: right;\">\n",
       "      <th></th>\n",
       "      <th>name</th>\n",
       "      <th>number_offers</th>\n",
       "    </tr>\n",
       "  </thead>\n",
       "  <tbody>\n",
       "    <tr>\n",
       "      <td>0</td>\n",
       "      <td>0_English Teacher Abroad _US_unknown_Universit...</td>\n",
       "      <td>295</td>\n",
       "    </tr>\n",
       "    <tr>\n",
       "      <td>1</td>\n",
       "      <td>0_Graduates: English Teacher Abroad (Conversat...</td>\n",
       "      <td>144</td>\n",
       "    </tr>\n",
       "    <tr>\n",
       "      <td>2</td>\n",
       "      <td>0_English Teacher Abroad_US_unknown_University...</td>\n",
       "      <td>89</td>\n",
       "    </tr>\n",
       "    <tr>\n",
       "      <td>3</td>\n",
       "      <td>0_Beauty &amp; Fragrance consultants needed_GB_unk...</td>\n",
       "      <td>58</td>\n",
       "    </tr>\n",
       "    <tr>\n",
       "      <td>4</td>\n",
       "      <td>0_English Teacher Abroad (Conversational)_US_u...</td>\n",
       "      <td>42</td>\n",
       "    </tr>\n",
       "    <tr>\n",
       "      <td>5</td>\n",
       "      <td>0_Graduates: English Teacher Abroad _US_unknow...</td>\n",
       "      <td>38</td>\n",
       "    </tr>\n",
       "    <tr>\n",
       "      <td>6</td>\n",
       "      <td>0_Customer Service Associate _US_unknown_Minim...</td>\n",
       "      <td>31</td>\n",
       "    </tr>\n",
       "    <tr>\n",
       "      <td>7</td>\n",
       "      <td>0_Entry Level Sales_US_unknown_unknown</td>\n",
       "      <td>26</td>\n",
       "    </tr>\n",
       "    <tr>\n",
       "      <td>8</td>\n",
       "      <td>0_English Teacher Abroad (Conversational)_US_u...</td>\n",
       "      <td>25</td>\n",
       "    </tr>\n",
       "    <tr>\n",
       "      <td>9</td>\n",
       "      <td>1_Data Entry Admin/Clerical Positions - Work F...</td>\n",
       "      <td>21</td>\n",
       "    </tr>\n",
       "  </tbody>\n",
       "</table>\n",
       "</div>"
      ],
      "text/plain": [
       "                                                name  number_offers\n",
       "0  0_English Teacher Abroad _US_unknown_Universit...            295\n",
       "1  0_Graduates: English Teacher Abroad (Conversat...            144\n",
       "2  0_English Teacher Abroad_US_unknown_University...             89\n",
       "3  0_Beauty & Fragrance consultants needed_GB_unk...             58\n",
       "4  0_English Teacher Abroad (Conversational)_US_u...             42\n",
       "5  0_Graduates: English Teacher Abroad _US_unknow...             38\n",
       "6  0_Customer Service Associate _US_unknown_Minim...             31\n",
       "7             0_Entry Level Sales_US_unknown_unknown             26\n",
       "8  0_English Teacher Abroad (Conversational)_US_u...             25\n",
       "9  1_Data Entry Admin/Clerical Positions - Work F...             21"
      ]
     },
     "execution_count": 22,
     "metadata": {},
     "output_type": "execute_result"
    }
   ],
   "source": [
    "\n",
    "job_data_cleaned_cats['name'] = job_data_cleaned_cats['fraudulent'].map(str).str.cat(others=[job_data_cleaned_cats.title, job_data_cleaned_cats.country, job_data_cleaned_cats.department, job_data_cleaned_cats.requirements], sep='_')\n",
    "\n",
    "dups = job_data_cleaned_cats.groupby(['name']).count()[\"job_id\"].sort_values( ascending = False).reset_index()\n",
    "dups.columns = ['name', 'number_offers']\n",
    "dups.head(10)"
   ]
  },
  {
   "cell_type": "code",
   "execution_count": 23,
   "metadata": {
    "scrolled": false
   },
   "outputs": [],
   "source": [
    "#job_data.join(dups.astype(str), on=\"name\", how=\"left\")\n",
    "\n",
    "job_data_cleaned_cats = job_data_cleaned_cats.merge(dups, on = \"name\", how=\"left\")"
   ]
  },
  {
   "cell_type": "code",
   "execution_count": 24,
   "metadata": {},
   "outputs": [
    {
     "name": "stdout",
     "output_type": "stream",
     "text": [
      "After removing duplicates we are left out with 15244 rows.\n"
     ]
    }
   ],
   "source": [
    "job_data_cleaned_cats = job_data_cleaned_cats.drop_duplicates(subset=[\"title\", \"country\", \"department\", \"requirements\"], keep=\"first\")\n",
    "job_data_cleaned_cats = job_data_cleaned_cats.drop(columns=[\"name\"])\n",
    "\n",
    "print(\"After removing duplicates we are left out with\", job_data_cleaned_cats.shape[0], \"rows.\")"
   ]
  },
  {
   "cell_type": "code",
   "execution_count": 25,
   "metadata": {
    "scrolled": true
   },
   "outputs": [
    {
     "data": {
      "text/plain": [
       "number_offers\n",
       "1      14400\n",
       "2        551\n",
       "3        114\n",
       "4         46\n",
       "5         28\n",
       "6         17\n",
       "7         15\n",
       "8          6\n",
       "9          5\n",
       "10        20\n",
       "11        10\n",
       "12         4\n",
       "13         6\n",
       "14         2\n",
       "15         2\n",
       "16         2\n",
       "17         2\n",
       "18         1\n",
       "19         1\n",
       "21         3\n",
       "25         1\n",
       "26         1\n",
       "31         1\n",
       "38         1\n",
       "42         1\n",
       "58         1\n",
       "89         1\n",
       "144        1\n",
       "295        1\n",
       "Name: job_id, dtype: int64"
      ]
     },
     "execution_count": 25,
     "metadata": {},
     "output_type": "execute_result"
    }
   ],
   "source": [
    "job_data_cleaned_cats.groupby([\"number_offers\"]).count()[\"job_id\"].rename({\"job_id\":\"count\"}) \n"
   ]
  },
  {
   "cell_type": "markdown",
   "metadata": {},
   "source": [
    "One job ad was posted 295 times."
   ]
  },
  {
   "cell_type": "code",
   "execution_count": 26,
   "metadata": {
    "scrolled": true
   },
   "outputs": [
    {
     "data": {
      "text/plain": [
       "<matplotlib.axes._subplots.AxesSubplot at 0x7f3fa7fd0150>"
      ]
     },
     "execution_count": 26,
     "metadata": {},
     "output_type": "execute_result"
    },
    {
     "data": {
      "image/png": "[encoded data removed]",
      "text/plain": [
       "<Figure size 432x288 with 1 Axes>"
      ]
     },
     "metadata": {},
     "output_type": "display_data"
    }
   ],
   "source": [
    "sns.boxplot(\"number_offers\", data=job_data_cleaned_cats)"
   ]
  },
  {
   "cell_type": "markdown",
   "metadata": {},
   "source": [
    "c) extract further features"
   ]
  },
  {
   "cell_type": "code",
   "execution_count": 27,
   "metadata": {},
   "outputs": [],
   "source": [
    "job_data_cleaned_cats.drop(columns =[\"location\"], inplace = True)"
   ]
  },
  {
   "cell_type": "markdown",
   "metadata": {},
   "source": [
    "A dictionary to convert currencies to USD, exchange rate as of 10.04.2020\n",
    "> countries (keys in currency_rates): list(job_data[\"country\"].unique())"
   ]
  },
  {
   "cell_type": "code",
   "execution_count": 28,
   "metadata": {},
   "outputs": [],
   "source": [
    "currency_rates = {'US' : 1, 'NZ' : 0.61, 'DE' : 1.09, 'GB' : 1.24, 'AU' : 0.63, 'SG' : 0.71, 'IL' : 0.28, 'AE' : 0.27,\n",
    " 'CA' : 0.72, 'IN' : 0.013, 'EG' : 0.063, 'PL' : 0.24, 'GR' : 1.09, 'PK' : 0.0060, 'BE' : 1.09, 'BR' : 0.20,\n",
    " 'SA' : 0.27, 'DK' : 0.15, 'RU' : 0.014, 'ZA' : 0.055, 'CY' : 1.09, 'HK' : 0.13,  'TR' : 0.15, 'IE' : 1.09,\n",
    " 'LT' : 1.09, 'JP' : 0.0092, 'NL' : 1.09, 'AT' : 1.09, 'KR' : 0.00083, 'FR' : 1.09, 'EE' : 1.09, 'TH' : 0.031,\n",
    " 'PA' : 1.01, 'KE' : 0.00938327, 'MU' : 0.025, 'MX' : 0.043, 'RO' : 0.23, 'MY' : 0.00071, 'FI' : 1.09, 'CN' : 0.14, 'ES' : 1.09,\n",
    " 'SE' : 0.10, 'CL' : 0.0012, 'UA' : 0.037, 'QA' : 0.27, 'IT' : 1.09, 'LV' : 1.09, 'IQ' : 0.00084, 'BG' : 0.56, 'PH' : 0.020, 'CZ' : 0.040, 'VI' : 1,\n",
    " 'MT' : 1.09, 'HU' : 0.0031, 'BD' : 0.012, 'KW' : 3.22, 'LU' : 1.09, 'NG' : 0.0026, 'RS' : 0.0093,\n",
    " 'BY' : 0.40, 'VN' : 0.000043, 'ID' : 0.000063, 'ZM' : 0.054, 'NO' : 0.0977137, 'BH' : 2.65, 'UG' : 0.00027,\n",
    " 'CH' : 1.04, 'TT' : 0.15, 'SD' : 0.018, 'SK' : 1.09, 'AR' : 0.015, 'TW' : 0.033, 'PT' : 1.09, 'PE' : 0.297159,\n",
    " 'CO' : 0.00026, 'IS' : 0.0070, 'SI' : 1.09, 'MA' : 0.0973810, 'AM' : 0.0020, 'TN' : 0.35, 'GH' : 0.17, 'AL' : 0.00860442,\n",
    " 'HR' : 0.14, 'CM' : 0.00164, 'SV' : 0.11, 'NI' : 0.029, 'LK' : 0.0053, 'JM' : 0.0074, 'KZ' : 0.0023, 'KH' : 0.00025}"
   ]
  },
  {
   "cell_type": "code",
   "execution_count": 29,
   "metadata": {},
   "outputs": [],
   "source": [
    "job_data_cleaned_cats[\"description\"] = job_data_cleaned_cats[job_data_cleaned_cats['description'].notnull()][\"description\"].apply(lambda x: x.lower())\n",
    "job_data_cleaned_cats[\"title_length\"] = job_data_cleaned_cats[\"title\"].apply(lambda x: len(x.split()))\n",
    "job_data_cleaned_cats[\"desc_length\"] = job_data_cleaned_cats[job_data_cleaned_cats['description'].notnull()][\"description\"].apply(lambda x: len(x.split()))\n",
    "job_data_cleaned_cats['company_profile_length'] = job_data_cleaned_cats[job_data_cleaned_cats['company_profile'].notnull()][\"company_profile\"].apply(lambda x: len(x.split()))\n",
    "job_data_cleaned_cats['requirements_length'] = job_data_cleaned_cats[job_data_cleaned_cats['requirements'].notnull()][\"requirements\"].apply(lambda x: len(x.split()))\n"
   ]
  },
  {
   "cell_type": "code",
   "execution_count": 30,
   "metadata": {},
   "outputs": [],
   "source": [
    "#split salary_range info into multiple features\n",
    "salary_temp = job_data_cleaned_cats[job_data_cleaned_cats['salary_range'].notnull()][\"salary_range\"].str.split(\"-\", n = 1, expand = True) \n",
    "job_data_cleaned_cats[\"salary_lower_cap\"]  = pd.to_numeric(salary_temp[0], errors='coerce')\n",
    "job_data_cleaned_cats[\"salary_upper_cap\"]  = pd.to_numeric(salary_temp[1], errors='coerce')\n",
    "\n",
    "job_data_cleaned_cats.drop(columns =[\"salary_range\"], inplace = True)\n"
   ]
  },
  {
   "cell_type": "code",
   "execution_count": 31,
   "metadata": {},
   "outputs": [],
   "source": [
    "job_data_cleaned_cats[\"salary_avg\"] =job_data_cleaned_cats[['salary_lower_cap', 'salary_upper_cap']].mean(axis=1).round()"
   ]
  },
  {
   "cell_type": "markdown",
   "metadata": {},
   "source": [
    "Convert the currencies to USD using mapping dictionary from above."
   ]
  },
  {
   "cell_type": "code",
   "execution_count": 32,
   "metadata": {},
   "outputs": [],
   "source": [
    "job_data_cleaned_cats[\"salary_avg_usd\"] = job_data_cleaned_cats[job_data_cleaned_cats['salary_avg'].notnull()][\"salary_avg\"] * job_data_cleaned_cats[job_data_cleaned_cats['salary_avg'].notnull()][\"country\"].map(currency_rates)"
   ]
  },
  {
   "cell_type": "code",
   "execution_count": 33,
   "metadata": {
    "scrolled": false
   },
   "outputs": [],
   "source": [
    "job_data_cleaned_cats[\"salary_spread\"] = (job_data_cleaned_cats[\"salary_upper_cap\"] - job_data_cleaned_cats[\"salary_lower_cap\"])/job_data_cleaned_cats[\"salary_upper_cap\"]\n",
    "job_data_cleaned_cats.drop(columns =[\"salary_upper_cap\", 'salary_lower_cap', 'salary_avg'], inplace = True)\n"
   ]
  },
  {
   "cell_type": "code",
   "execution_count": 34,
   "metadata": {
    "scrolled": true
   },
   "outputs": [
    {
     "data": {
      "text/plain": [
       "count    2478.000000\n",
       "mean        0.280678\n",
       "std         0.200888\n",
       "min         0.000000\n",
       "25%         0.153846\n",
       "50%         0.235294\n",
       "75%         0.357143\n",
       "max         1.000000\n",
       "Name: salary_spread, dtype: float64"
      ]
     },
     "execution_count": 34,
     "metadata": {},
     "output_type": "execute_result"
    }
   ],
   "source": [
    "job_data_cleaned_cats[\"salary_spread\"].describe()"
   ]
  },
  {
   "cell_type": "code",
   "execution_count": 35,
   "metadata": {},
   "outputs": [],
   "source": [
    "job_data_cleaned_cats[\"mentions_benefits\"] = job_data_cleaned_cats[\"benefits\"].apply(lambda x: 0 if pd.isnull(x) else 1)"
   ]
  },
  {
   "cell_type": "code",
   "execution_count": 36,
   "metadata": {},
   "outputs": [],
   "source": [
    "#apply defined functions\n",
    "\n",
    "job_data_cleaned_cats['url_in_desc'] = job_data_cleaned_cats['description'].apply(find_links)\n",
    "job_data_cleaned_cats['email_in_desc'] = job_data_cleaned_cats['description'].apply(find_email)\n",
    "job_data_cleaned_cats['fraudlike_phrases'] = job_data_cleaned_cats['description'].apply(signal_phrases)\n",
    "job_data_cleaned_cats['work_from_home_desc'] = job_data_cleaned_cats['description'].apply(find_work_from_home)\n",
    " "
   ]
  },
  {
   "cell_type": "code",
   "execution_count": 37,
   "metadata": {
    "scrolled": true
   },
   "outputs": [
    {
     "data": {
      "text/plain": [
       "fraudlike_phrases  fraudulent\n",
       "0                  0             96.243220\n",
       "                   1              3.756780\n",
       "1                  0             64.630225\n",
       "                   1             35.369775\n",
       "Name: job_id, dtype: float64"
      ]
     },
     "execution_count": 37,
     "metadata": {},
     "output_type": "execute_result"
    }
   ],
   "source": [
    "job_data_cleaned_cats.groupby([\"fraudlike_phrases\", \"fraudulent\"]).agg(\"count\")[\"job_id\"].groupby(level=0).apply(lambda x:100 * x / float(x.sum()))"
   ]
  },
  {
   "cell_type": "markdown",
   "metadata": {},
   "source": [
    "fraudlike_phrases occur 11 times more frequently in fraudulent job offers than in real offers."
   ]
  },
  {
   "cell_type": "code",
   "execution_count": 38,
   "metadata": {},
   "outputs": [],
   "source": [
    "job_data_cleaned_cats[\"higher_degree_required\"] = job_data_cleaned_cats[\"required_education\"].apply(higher_ed)"
   ]
  },
  {
   "cell_type": "code",
   "execution_count": 39,
   "metadata": {
    "scrolled": true
   },
   "outputs": [
    {
     "data": {
      "text/plain": [
       "higher_degree_required  fraudulent\n",
       "0                       0             9705\n",
       "                        1              558\n",
       "1                       0             4868\n",
       "                        1              113\n",
       "Name: job_id, dtype: int64"
      ]
     },
     "execution_count": 39,
     "metadata": {},
     "output_type": "execute_result"
    }
   ],
   "source": [
    "job_data_cleaned_cats.groupby([\"higher_degree_required\", \"fraudulent\"]).agg(\"count\")[\"job_id\"].rename({\"job_id\":\"count\"})"
   ]
  },
  {
   "cell_type": "markdown",
   "metadata": {},
   "source": [
    "frauds can be over two times more frequently found among jobs that don't require higher degree."
   ]
  },
  {
   "cell_type": "code",
   "execution_count": 40,
   "metadata": {
    "scrolled": false
   },
   "outputs": [
    {
     "data": {
      "text/plain": [
       "job_id                        0\n",
       "title                         0\n",
       "department                    0\n",
       "company_profile               0\n",
       "description                   0\n",
       "requirements                  0\n",
       "benefits                      0\n",
       "telecommuting                 0\n",
       "has_company_logo              0\n",
       "has_questions                 0\n",
       "employment_type               0\n",
       "required_experience           0\n",
       "required_education            0\n",
       "industry                      0\n",
       "function                      0\n",
       "fraudulent                    0\n",
       "country                       0\n",
       "number_offers                 0\n",
       "title_length                  0\n",
       "desc_length                   0\n",
       "company_profile_length        0\n",
       "requirements_length           0\n",
       "salary_avg_usd            12629\n",
       "salary_spread             12766\n",
       "mentions_benefits             0\n",
       "url_in_desc                   0\n",
       "email_in_desc                 0\n",
       "fraudlike_phrases             0\n",
       "work_from_home_desc           0\n",
       "higher_degree_required        0\n",
       "dtype: int64"
      ]
     },
     "execution_count": 40,
     "metadata": {},
     "output_type": "execute_result"
    }
   ],
   "source": [
    "job_data_cleaned_cats.isna().sum()"
   ]
  },
  {
   "cell_type": "code",
   "execution_count": 41,
   "metadata": {},
   "outputs": [
    {
     "data": {
      "text/plain": [
       "title                  11231\n",
       "department              1338\n",
       "company_profile         1708\n",
       "description            14070\n",
       "requirements           11969\n",
       "benefits                6117\n",
       "employment_type            6\n",
       "required_experience        8\n",
       "required_education        14\n",
       "industry                 132\n",
       "function                  38\n",
       "country                   91\n",
       "dtype: int64"
      ]
     },
     "execution_count": 41,
     "metadata": {},
     "output_type": "execute_result"
    }
   ],
   "source": [
    "job_data_cleaned_cats.select_dtypes(include=[\"object\"]).apply(lambda x : len(x.value_counts()))\n"
   ]
  },
  {
   "cell_type": "code",
   "execution_count": 42,
   "metadata": {},
   "outputs": [
    {
     "data": {
      "text/plain": [
       "482"
      ]
     },
     "execution_count": 42,
     "metadata": {},
     "output_type": "execute_result"
    }
   ],
   "source": [
    "sum(job_data_cleaned_cats['function'].map(job_data_cleaned_cats['function'].value_counts(normalize=True)) < 0.005)"
   ]
  },
  {
   "cell_type": "markdown",
   "metadata": {},
   "source": [
    "Encode rare categories as rest to \n",
    "1) Improve readability of aggregations and plots\n",
    "2) prevent overfitting of model\n",
    "3) to impute missing in remaining numerics by the mean of the group the row belongs to.\n"
   ]
  },
  {
   "cell_type": "code",
   "execution_count": 43,
   "metadata": {
    "scrolled": true
   },
   "outputs": [
    {
     "data": {
      "text/plain": [
       "US         8361\n",
       "GB         2192\n",
       "Other      1845\n",
       "GR          927\n",
       "CA          409\n",
       "DE          377\n",
       "unknown     340\n",
       "NZ          321\n",
       "IN          263\n",
       "AU          209\n",
       "Name: country, dtype: int64"
      ]
     },
     "execution_count": 43,
     "metadata": {},
     "output_type": "execute_result"
    }
   ],
   "source": [
    "#encode rare categories as rest to 1) prevent overfitting of model and 2) to impute missing in certain numerics by the mean of the group the row belongs to\n",
    "#handy oneliner by Maya Gilad https://medium.com/gett-engineering/handling-rare-categorical-values-in-pandas-d1e3f17475f0\n",
    "#replace with \"Other\" all the countries that are in less than 0.5% of the dataset\n",
    "job_data_cleaned_cats['country'] = job_data_cleaned_cats['country'].mask(job_data_cleaned_cats['country'].map(job_data_cleaned_cats['country'].value_counts(normalize=True)) < 0.01, 'Other')\n",
    "job_data_cleaned_cats['function'] = job_data_cleaned_cats['function'].mask(job_data_cleaned_cats['function'].map(job_data_cleaned_cats['function'].value_counts(normalize=True)) < 0.01, 'Other')\n",
    "job_data_cleaned_cats['industry'] = job_data_cleaned_cats['industry'].mask(job_data_cleaned_cats['industry'].map(job_data_cleaned_cats['industry'].value_counts(normalize=True)) < 0.01, 'Other')\n",
    "job_data_cleaned_cats['country'].value_counts()\n"
   ]
  },
  {
   "cell_type": "markdown",
   "metadata": {},
   "source": [
    "Most job offers come from the US followed by Great Britain and Greece."
   ]
  },
  {
   "cell_type": "code",
   "execution_count": 44,
   "metadata": {
    "scrolled": true
   },
   "outputs": [
    {
     "data": {
      "text/plain": [
       "unknown                   5059\n",
       "Other                     1848\n",
       "Information Technology    1680\n",
       "Engineering               1291\n",
       "Sales                     1270\n",
       "Customer Service           924\n",
       "Marketing                  785\n",
       "Administrative             554\n",
       "Design                     332\n",
       "Health Care Provider       296\n",
       "Management                 261\n",
       "Business Development       210\n",
       "Accounting/Auditing        207\n",
       "Human Resources            191\n",
       "Project Management         179\n",
       "Finance                    157\n",
       "Name: function, dtype: int64"
      ]
     },
     "execution_count": 44,
     "metadata": {},
     "output_type": "execute_result"
    }
   ],
   "source": [
    "job_data_cleaned_cats['function'].value_counts()\n"
   ]
  },
  {
   "cell_type": "code",
   "execution_count": 45,
   "metadata": {
    "scrolled": false
   },
   "outputs": [
    {
     "data": {
      "text/plain": [
       "unknown                                4288\n",
       "Other                                  4237\n",
       "Information Technology and Services    1633\n",
       "Computer Software                      1273\n",
       "Internet                               1036\n",
       "Marketing and Advertising               731\n",
       "Financial Services                      567\n",
       "Hospital & Health Care                  438\n",
       "Telecommunications                      299\n",
       "Consumer Services                       276\n",
       "Oil & Energy                            254\n",
       "Retail                                  212\n",
       "Name: industry, dtype: int64"
      ]
     },
     "execution_count": 45,
     "metadata": {},
     "output_type": "execute_result"
    }
   ],
   "source": [
    "job_data_cleaned_cats['industry'].value_counts()\n"
   ]
  },
  {
   "cell_type": "code",
   "execution_count": 46,
   "metadata": {
    "scrolled": true
   },
   "outputs": [
    {
     "data": {
      "text/plain": [
       "count       2615.00\n",
       "mean       61282.69\n",
       "std       312852.61\n",
       "min            0.00\n",
       "25%        17765.00\n",
       "50%        40000.00\n",
       "75%        65000.00\n",
       "max      8325000.00\n",
       "Name: salary_avg_usd, dtype: object"
      ]
     },
     "execution_count": 46,
     "metadata": {},
     "output_type": "execute_result"
    }
   ],
   "source": [
    "job_data_cleaned_cats[\"salary_avg_usd\"].describe().apply(\"{0:.2f}\".format)"
   ]
  },
  {
   "cell_type": "code",
   "execution_count": 47,
   "metadata": {},
   "outputs": [
    {
     "data": {
      "text/html": [
       "<div>\n",
       "<style scoped>\n",
       "    .dataframe tbody tr th:only-of-type {\n",
       "        vertical-align: middle;\n",
       "    }\n",
       "\n",
       "    .dataframe tbody tr th {\n",
       "        vertical-align: top;\n",
       "    }\n",
       "\n",
       "    .dataframe thead th {\n",
       "        text-align: right;\n",
       "    }\n",
       "</style>\n",
       "<table border=\"1\" class=\"dataframe\">\n",
       "  <thead>\n",
       "    <tr style=\"text-align: right;\">\n",
       "      <th></th>\n",
       "      <th>job_id</th>\n",
       "      <th>title</th>\n",
       "      <th>department</th>\n",
       "      <th>company_profile</th>\n",
       "      <th>description</th>\n",
       "      <th>requirements</th>\n",
       "      <th>benefits</th>\n",
       "      <th>telecommuting</th>\n",
       "      <th>has_company_logo</th>\n",
       "      <th>has_questions</th>\n",
       "      <th>...</th>\n",
       "      <th>company_profile_length</th>\n",
       "      <th>requirements_length</th>\n",
       "      <th>salary_avg_usd</th>\n",
       "      <th>salary_spread</th>\n",
       "      <th>mentions_benefits</th>\n",
       "      <th>url_in_desc</th>\n",
       "      <th>email_in_desc</th>\n",
       "      <th>fraudlike_phrases</th>\n",
       "      <th>work_from_home_desc</th>\n",
       "      <th>higher_degree_required</th>\n",
       "    </tr>\n",
       "  </thead>\n",
       "  <tbody>\n",
       "    <tr>\n",
       "      <td>7651</td>\n",
       "      <td>7652</td>\n",
       "      <td>Sr. Java Architect</td>\n",
       "      <td>unknown</td>\n",
       "      <td>unknown</td>\n",
       "      <td>as a sr. java architect you will play an impor...</td>\n",
       "      <td>Requirements 10+ years hands on experience wit...</td>\n",
       "      <td>Full Benefits and Bonus. Fast Growing Company.</td>\n",
       "      <td>0</td>\n",
       "      <td>0</td>\n",
       "      <td>0</td>\n",
       "      <td>...</td>\n",
       "      <td>1</td>\n",
       "      <td>71</td>\n",
       "      <td>8325000.0</td>\n",
       "      <td>0.990909</td>\n",
       "      <td>1</td>\n",
       "      <td>0</td>\n",
       "      <td>0</td>\n",
       "      <td>0</td>\n",
       "      <td>0</td>\n",
       "      <td>1</td>\n",
       "    </tr>\n",
       "  </tbody>\n",
       "</table>\n",
       "<p>1 rows × 30 columns</p>\n",
       "</div>"
      ],
      "text/plain": [
       "      job_id               title department company_profile  \\\n",
       "7651    7652  Sr. Java Architect    unknown         unknown   \n",
       "\n",
       "                                            description  \\\n",
       "7651  as a sr. java architect you will play an impor...   \n",
       "\n",
       "                                           requirements  \\\n",
       "7651  Requirements 10+ years hands on experience wit...   \n",
       "\n",
       "                                            benefits  telecommuting  \\\n",
       "7651  Full Benefits and Bonus. Fast Growing Company.              0   \n",
       "\n",
       "      has_company_logo  has_questions  ... company_profile_length  \\\n",
       "7651                 0              0  ...                      1   \n",
       "\n",
       "     requirements_length salary_avg_usd salary_spread mentions_benefits  \\\n",
       "7651                  71      8325000.0      0.990909                 1   \n",
       "\n",
       "      url_in_desc email_in_desc  fraudlike_phrases  work_from_home_desc  \\\n",
       "7651            0             0                  0                    0   \n",
       "\n",
       "      higher_degree_required  \n",
       "7651                       1  \n",
       "\n",
       "[1 rows x 30 columns]"
      ]
     },
     "execution_count": 47,
     "metadata": {},
     "output_type": "execute_result"
    }
   ],
   "source": [
    "job_data_cleaned_cats[job_data_cleaned_cats['salary_avg_usd'] == 8325000.00]"
   ]
  },
  {
   "cell_type": "markdown",
   "metadata": {},
   "source": [
    "Takeaway: Learn Java!\n",
    "\n",
    "On a serious note, this must be an outlier, let's check that via boxplot and then assign missing values to them. "
   ]
  },
  {
   "cell_type": "code",
   "execution_count": 48,
   "metadata": {
    "scrolled": true
   },
   "outputs": [
    {
     "data": {
      "text/plain": [
       "<matplotlib.axes._subplots.AxesSubplot at 0x7f3fa70dc090>"
      ]
     },
     "execution_count": 48,
     "metadata": {},
     "output_type": "execute_result"
    },
    {
     "data": {
      "image/png": "[encoded data removed]",
      "text/plain": [
       "<Figure size 432x288 with 1 Axes>"
      ]
     },
     "metadata": {},
     "output_type": "display_data"
    }
   ],
   "source": [
    "sns.boxplot(x=job_data_cleaned_cats[\"salary_avg_usd\"], showfliers = True)"
   ]
  },
  {
   "cell_type": "markdown",
   "metadata": {},
   "source": [
    "Replace numeric outliers (less than 1000 USD or more than 1 million USD) with NANs, they'll be imputed few code blocks later\n"
   ]
  },
  {
   "cell_type": "code",
   "execution_count": 49,
   "metadata": {},
   "outputs": [],
   "source": [
    "\n",
    "job_data_cleaned_cats[\"salary_avg_usd\"] =job_data_cleaned_cats[\"salary_avg_usd\"].mask((job_data_cleaned_cats[\"salary_avg_usd\"] < 1000 ) | (job_data_cleaned_cats[\"salary_avg_usd\"] > 1000000))\n",
    "job_data_cleaned_cats[\"salary_spread\"] = job_data_cleaned_cats[\"salary_spread\"].mask((job_data_cleaned_cats[\"salary_avg_usd\"] < 1000 ) | (job_data_cleaned_cats[\"salary_avg_usd\"] > 1000000))\n",
    "\n"
   ]
  },
  {
   "cell_type": "code",
   "execution_count": 50,
   "metadata": {
    "scrolled": false
   },
   "outputs": [
    {
     "data": {
      "text/plain": [
       "count      2230.00\n",
       "mean      54280.40\n",
       "std       45842.97\n",
       "min        1000.00\n",
       "25%       27900.00\n",
       "50%       45000.00\n",
       "75%       69300.00\n",
       "max      693600.00\n",
       "Name: salary_avg_usd, dtype: object"
      ]
     },
     "execution_count": 50,
     "metadata": {},
     "output_type": "execute_result"
    }
   ],
   "source": [
    "job_data_cleaned_cats[\"salary_avg_usd\"].describe().apply(\"{0:.2f}\".format)"
   ]
  },
  {
   "cell_type": "markdown",
   "metadata": {},
   "source": [
    "693k sounds like a nice amount..."
   ]
  },
  {
   "cell_type": "code",
   "execution_count": 51,
   "metadata": {},
   "outputs": [
    {
     "data": {
      "text/html": [
       "<div>\n",
       "<style scoped>\n",
       "    .dataframe tbody tr th:only-of-type {\n",
       "        vertical-align: middle;\n",
       "    }\n",
       "\n",
       "    .dataframe tbody tr th {\n",
       "        vertical-align: top;\n",
       "    }\n",
       "\n",
       "    .dataframe thead th {\n",
       "        text-align: right;\n",
       "    }\n",
       "</style>\n",
       "<table border=\"1\" class=\"dataframe\">\n",
       "  <thead>\n",
       "    <tr style=\"text-align: right;\">\n",
       "      <th></th>\n",
       "      <th>title</th>\n",
       "      <th>description</th>\n",
       "      <th>fraudulent</th>\n",
       "    </tr>\n",
       "  </thead>\n",
       "  <tbody>\n",
       "    <tr>\n",
       "      <td>5687</td>\n",
       "      <td>Network Marketing</td>\n",
       "      <td>are you looking to make anywhere from 600-115,...</td>\n",
       "      <td>1</td>\n",
       "    </tr>\n",
       "  </tbody>\n",
       "</table>\n",
       "</div>"
      ],
      "text/plain": [
       "                  title                                        description  \\\n",
       "5687  Network Marketing  are you looking to make anywhere from 600-115,...   \n",
       "\n",
       "      fraudulent  \n",
       "5687           1  "
      ]
     },
     "execution_count": 51,
     "metadata": {},
     "output_type": "execute_result"
    }
   ],
   "source": [
    "job_data_cleaned_cats[job_data_cleaned_cats['salary_avg_usd'] == 693600.00][[\"title\",\"description\", \"fraudulent\"]]"
   ]
  },
  {
   "cell_type": "markdown",
   "metadata": {},
   "source": [
    "It's a fraud!"
   ]
  },
  {
   "cell_type": "code",
   "execution_count": 52,
   "metadata": {
    "scrolled": true
   },
   "outputs": [
    {
     "data": {
      "text/plain": [
       "Text(0.5, 1.0, 'Range of offered salaries')"
      ]
     },
     "execution_count": 52,
     "metadata": {},
     "output_type": "execute_result"
    },
    {
     "data": {
      "image/png": "[encoded data removed]",
      "text/plain": [
       "<Figure size 432x288 with 1 Axes>"
      ]
     },
     "metadata": {},
     "output_type": "display_data"
    }
   ],
   "source": [
    "sns.boxplot(x=job_data_cleaned_cats[\"salary_avg_usd\"], showfliers = True).set_title('Range of offered salaries')"
   ]
  },
  {
   "cell_type": "markdown",
   "metadata": {},
   "source": [
    "Still some outliers left but for the analysis of fraudulent job postings they might be relevant, as maybe it's one of the way scammers want to attract new victims."
   ]
  },
  {
   "cell_type": "code",
   "execution_count": 53,
   "metadata": {
    "scrolled": true
   },
   "outputs": [
    {
     "data": {
      "text/plain": [
       "country  industry           function                fraudulent\n",
       "AU       Computer Software  Information Technology  0             43050.0\n",
       "                            Marketing               0                 NaN\n",
       "                            Project Management      0             69300.0\n",
       "                            Sales                   0                 NaN\n",
       "         Consumer Services  Administrative          1             26775.0\n",
       "                                                                   ...   \n",
       "unknown  unknown            Marketing               0                 NaN\n",
       "                            Other                   0                 NaN\n",
       "                            Sales                   0                 NaN\n",
       "                            unknown                 0                 NaN\n",
       "                                                    1                 NaN\n",
       "Name: salary_avg_usd, Length: 973, dtype: float64"
      ]
     },
     "execution_count": 53,
     "metadata": {},
     "output_type": "execute_result"
    }
   ],
   "source": [
    "job_data_cleaned_cats.groupby([\"country\", \"industry\", \"function\", \"fraudulent\"]).mean()[\"salary_avg_usd\"]"
   ]
  },
  {
   "cell_type": "code",
   "execution_count": 54,
   "metadata": {},
   "outputs": [
    {
     "data": {
      "text/plain": [
       "54280.39708385651"
      ]
     },
     "execution_count": 54,
     "metadata": {},
     "output_type": "execute_result"
    }
   ],
   "source": [
    "job_data_cleaned_cats[\"salary_avg_usd\"].mean()"
   ]
  },
  {
   "cell_type": "markdown",
   "metadata": {},
   "source": [
    "Next, let's impute thousands of missing salary info - as a proxy the average for each combination of country, industry, function, type of employment and fraud-decision the missing observation belongs to. If there was not a group like that from which the data could be used, imputer goes one 'level' higher."
   ]
  },
  {
   "cell_type": "code",
   "execution_count": 55,
   "metadata": {},
   "outputs": [],
   "source": [
    "\n",
    "job_data_cleaned_cats[\"salary_avg_usd\"] = job_data_cleaned_cats.groupby([\"country\", \"industry\",\"function\",\"employment_type\", \"fraudulent\"]).transform(lambda x: x.fillna(x.mean()))[\"salary_avg_usd\"]\n",
    "job_data_cleaned_cats[\"salary_avg_usd\"] = job_data_cleaned_cats.groupby([\"country\", \"industry\",\"employment_type\", \"fraudulent\"]).transform(lambda x: x.fillna(x.mean()))[\"salary_avg_usd\"]\n",
    "job_data_cleaned_cats[\"salary_avg_usd\"] = job_data_cleaned_cats.groupby([\"country\", \"employment_type\", \"fraudulent\"]).transform(lambda x: x.fillna(x.mean()))[\"salary_avg_usd\"]\n",
    "job_data_cleaned_cats[\"salary_avg_usd\"] = job_data_cleaned_cats.groupby([\"country\", \"industry\", \"fraudulent\"]).transform(lambda x: x.fillna(x.mean()))[\"salary_avg_usd\"]\n",
    "job_data_cleaned_cats[\"salary_avg_usd\"] = job_data_cleaned_cats.groupby([\"country\", \"fraudulent\"]).transform(lambda x: x.fillna(x.mean()))[\"salary_avg_usd\"]\n"
   ]
  },
  {
   "cell_type": "code",
   "execution_count": 56,
   "metadata": {},
   "outputs": [
    {
     "data": {
      "text/plain": [
       "343"
      ]
     },
     "execution_count": 56,
     "metadata": {},
     "output_type": "execute_result"
    }
   ],
   "source": [
    "job_data_cleaned_cats[\"salary_avg_usd\"].isna().sum()"
   ]
  },
  {
   "cell_type": "markdown",
   "metadata": {},
   "source": [
    "For 343 rows it was not possible to deduct salary, thus these cases will be removed."
   ]
  },
  {
   "cell_type": "code",
   "execution_count": 57,
   "metadata": {},
   "outputs": [
    {
     "data": {
      "text/plain": [
       "count     14901.000000\n",
       "mean      58919.234484\n",
       "std       44629.317720\n",
       "min        1000.000000\n",
       "25%       30021.802971\n",
       "50%       46318.181818\n",
       "75%       80000.000000\n",
       "max      693600.000000\n",
       "Name: salary_avg_usd, dtype: float64"
      ]
     },
     "execution_count": 57,
     "metadata": {},
     "output_type": "execute_result"
    }
   ],
   "source": [
    "job_data_cleaned_cats[\"salary_avg_usd\"].describe()"
   ]
  },
  {
   "cell_type": "markdown",
   "metadata": {},
   "source": [
    "As a result of imputation based on country, industry and function the median salary offered among all countries rose from 45k to 46.3k."
   ]
  },
  {
   "cell_type": "code",
   "execution_count": 58,
   "metadata": {},
   "outputs": [],
   "source": [
    "#job_data_cleaned_cats= job_data_cleaned_cats.fillna(-1)"
   ]
  },
  {
   "cell_type": "code",
   "execution_count": 59,
   "metadata": {},
   "outputs": [
    {
     "data": {
      "text/plain": [
       "job_id                        0\n",
       "title                         0\n",
       "department                    0\n",
       "company_profile               0\n",
       "description                   0\n",
       "requirements                  0\n",
       "benefits                      0\n",
       "telecommuting                 0\n",
       "has_company_logo              0\n",
       "has_questions                 0\n",
       "employment_type               0\n",
       "required_experience           0\n",
       "required_education            0\n",
       "industry                      0\n",
       "function                      0\n",
       "fraudulent                    0\n",
       "country                       0\n",
       "number_offers                 0\n",
       "title_length                  0\n",
       "desc_length                   0\n",
       "company_profile_length        0\n",
       "requirements_length           0\n",
       "salary_avg_usd              343\n",
       "salary_spread             12766\n",
       "mentions_benefits             0\n",
       "url_in_desc                   0\n",
       "email_in_desc                 0\n",
       "fraudlike_phrases             0\n",
       "work_from_home_desc           0\n",
       "higher_degree_required        0\n",
       "dtype: int64"
      ]
     },
     "execution_count": 59,
     "metadata": {},
     "output_type": "execute_result"
    }
   ],
   "source": [
    "job_data_cleaned_cats.isna().sum()"
   ]
  },
  {
   "cell_type": "code",
   "execution_count": 60,
   "metadata": {},
   "outputs": [
    {
     "name": "stdout",
     "output_type": "stream",
     "text": [
      "Finally we're left out with 14901 job adverts\n"
     ]
    }
   ],
   "source": [
    "job_data_cleaned_cats = job_data_cleaned_cats.dropna(subset=[\"salary_avg_usd\"])\n",
    "print(\"Finally we're left out with\", job_data_cleaned_cats.shape[0],\"job adverts\")"
   ]
  },
  {
   "cell_type": "code",
   "execution_count": 61,
   "metadata": {},
   "outputs": [],
   "source": [
    "#remaining numeric nans (salary spread) to -999\n",
    "job_data_cleaned_cats= job_data_cleaned_cats.fillna(-999)"
   ]
  },
  {
   "cell_type": "code",
   "execution_count": 62,
   "metadata": {
    "scrolled": false
   },
   "outputs": [
    {
     "data": {
      "text/plain": [
       "<matplotlib.axes._subplots.AxesSubplot at 0x7f3fa42d7e50>"
      ]
     },
     "execution_count": 62,
     "metadata": {},
     "output_type": "execute_result"
    },
    {
     "data": {
      "image/png": "[encoded data removed]",
      "text/plain": [
       "<Figure size 432x288 with 1 Axes>"
      ]
     },
     "metadata": {},
     "output_type": "display_data"
    }
   ],
   "source": [
    "job_data_cleaned_cats[job_data_cleaned_cats[\"salary_spread\"] != -999][\"salary_spread\"].hist()"
   ]
  },
  {
   "cell_type": "code",
   "execution_count": 63,
   "metadata": {},
   "outputs": [],
   "source": [
    "#discretizing salary_spread\n",
    "job_data_cleaned_cats[\"salary_spread_cat\"] = ['no spread' if x == 0 else 'low' if x <= 0.20 else 'mid' if x <= 0.40 else 'high' if x <=1 else np.nan for x in job_data_cleaned_cats['salary_spread']]"
   ]
  },
  {
   "cell_type": "markdown",
   "metadata": {},
   "source": [
    "# Analysis"
   ]
  },
  {
   "cell_type": "markdown",
   "metadata": {},
   "source": [
    "### Question 1: Which countries pay the most? (denominated in USD, nominal value, only real offers)"
   ]
  },
  {
   "cell_type": "code",
   "execution_count": 64,
   "metadata": {
    "scrolled": true
   },
   "outputs": [
    {
     "data": {
      "text/html": [
       "<div>\n",
       "<style scoped>\n",
       "    .dataframe tbody tr th:only-of-type {\n",
       "        vertical-align: middle;\n",
       "    }\n",
       "\n",
       "    .dataframe tbody tr th {\n",
       "        vertical-align: top;\n",
       "    }\n",
       "\n",
       "    .dataframe thead th {\n",
       "        text-align: right;\n",
       "    }\n",
       "</style>\n",
       "<table border=\"1\" class=\"dataframe\">\n",
       "  <thead>\n",
       "    <tr style=\"text-align: right;\">\n",
       "      <th></th>\n",
       "      <th>median salary in usd</th>\n",
       "      <th>number of job offers</th>\n",
       "    </tr>\n",
       "    <tr>\n",
       "      <th>country</th>\n",
       "      <th></th>\n",
       "      <th></th>\n",
       "    </tr>\n",
       "  </thead>\n",
       "  <tbody>\n",
       "    <tr>\n",
       "      <td>US</td>\n",
       "      <td>71650.000000</td>\n",
       "      <td>7810</td>\n",
       "    </tr>\n",
       "    <tr>\n",
       "      <td>NZ</td>\n",
       "      <td>49089.858156</td>\n",
       "      <td>321</td>\n",
       "    </tr>\n",
       "    <tr>\n",
       "      <td>DE</td>\n",
       "      <td>46926.736138</td>\n",
       "      <td>377</td>\n",
       "    </tr>\n",
       "    <tr>\n",
       "      <td>AU</td>\n",
       "      <td>45675.000000</td>\n",
       "      <td>171</td>\n",
       "    </tr>\n",
       "    <tr>\n",
       "      <td>CA</td>\n",
       "      <td>37369.163077</td>\n",
       "      <td>398</td>\n",
       "    </tr>\n",
       "    <tr>\n",
       "      <td>GB</td>\n",
       "      <td>33273.333333</td>\n",
       "      <td>2178</td>\n",
       "    </tr>\n",
       "    <tr>\n",
       "      <td>GR</td>\n",
       "      <td>23135.250000</td>\n",
       "      <td>927</td>\n",
       "    </tr>\n",
       "    <tr>\n",
       "      <td>Other</td>\n",
       "      <td>17903.125000</td>\n",
       "      <td>1810</td>\n",
       "    </tr>\n",
       "    <tr>\n",
       "      <td>IN</td>\n",
       "      <td>5634.164364</td>\n",
       "      <td>260</td>\n",
       "    </tr>\n",
       "  </tbody>\n",
       "</table>\n",
       "</div>"
      ],
      "text/plain": [
       "         median salary in usd  number of job offers\n",
       "country                                            \n",
       "US               71650.000000                  7810\n",
       "NZ               49089.858156                   321\n",
       "DE               46926.736138                   377\n",
       "AU               45675.000000                   171\n",
       "CA               37369.163077                   398\n",
       "GB               33273.333333                  2178\n",
       "GR               23135.250000                   927\n",
       "Other            17903.125000                  1810\n",
       "IN                5634.164364                   260"
      ]
     },
     "execution_count": 64,
     "metadata": {},
     "output_type": "execute_result"
    }
   ],
   "source": [
    "job_data_cleaned_cats.where(job_data_cleaned_cats[\"fraudulent\"]==0).groupby(\"country\").agg({\"salary_avg_usd\": \"median\", \"job_id\": \"count\"}).sort_values(\"salary_avg_usd\", ascending = False).rename(columns={\"salary_avg_usd\":\"median salary in usd\", \"job_id\":\"number of job offers\"})"
   ]
  },
  {
   "cell_type": "markdown",
   "metadata": {},
   "source": [
    "Answer: Countries like the US, New Zealand and Germany"
   ]
  },
  {
   "cell_type": "markdown",
   "metadata": {},
   "source": [
    "### Question 2: Which countries have the highest ratio of fake offers?"
   ]
  },
  {
   "cell_type": "code",
   "execution_count": 65,
   "metadata": {},
   "outputs": [
    {
     "data": {
      "text/plain": [
       "<matplotlib.axes._subplots.AxesSubplot at 0x7f3fa422fe50>"
      ]
     },
     "execution_count": 65,
     "metadata": {},
     "output_type": "execute_result"
    },
    {
     "data": {
      "image/png": "[encoded data removed]",
      "text/plain": [
       "<Figure size 432x288 with 1 Axes>"
      ]
     },
     "metadata": {},
     "output_type": "display_data"
    }
   ],
   "source": [
    "\n",
    "job_data_cleaned_cats[job_data_cleaned_cats[\"fraudulent\"]==1].groupby(\"country\")[\"job_id\"].count().plot(kind=\"bar\" )"
   ]
  },
  {
   "cell_type": "code",
   "execution_count": 66,
   "metadata": {},
   "outputs": [
    {
     "data": {
      "text/html": [
       "<div>\n",
       "<style scoped>\n",
       "    .dataframe tbody tr th:only-of-type {\n",
       "        vertical-align: middle;\n",
       "    }\n",
       "\n",
       "    .dataframe tbody tr th {\n",
       "        vertical-align: top;\n",
       "    }\n",
       "\n",
       "    .dataframe thead th {\n",
       "        text-align: right;\n",
       "    }\n",
       "</style>\n",
       "<table border=\"1\" class=\"dataframe\">\n",
       "  <thead>\n",
       "    <tr style=\"text-align: right;\">\n",
       "      <th></th>\n",
       "      <th>country</th>\n",
       "      <th>fraudulent</th>\n",
       "      <th>count</th>\n",
       "    </tr>\n",
       "  </thead>\n",
       "  <tbody>\n",
       "    <tr>\n",
       "      <td>0</td>\n",
       "      <td>AU</td>\n",
       "      <td>0</td>\n",
       "      <td>171</td>\n",
       "    </tr>\n",
       "    <tr>\n",
       "      <td>1</td>\n",
       "      <td>AU</td>\n",
       "      <td>1</td>\n",
       "      <td>38</td>\n",
       "    </tr>\n",
       "    <tr>\n",
       "      <td>2</td>\n",
       "      <td>CA</td>\n",
       "      <td>0</td>\n",
       "      <td>398</td>\n",
       "    </tr>\n",
       "    <tr>\n",
       "      <td>3</td>\n",
       "      <td>CA</td>\n",
       "      <td>1</td>\n",
       "      <td>11</td>\n",
       "    </tr>\n",
       "    <tr>\n",
       "      <td>4</td>\n",
       "      <td>DE</td>\n",
       "      <td>0</td>\n",
       "      <td>377</td>\n",
       "    </tr>\n",
       "    <tr>\n",
       "      <td>5</td>\n",
       "      <td>GB</td>\n",
       "      <td>0</td>\n",
       "      <td>2178</td>\n",
       "    </tr>\n",
       "    <tr>\n",
       "      <td>6</td>\n",
       "      <td>GB</td>\n",
       "      <td>1</td>\n",
       "      <td>14</td>\n",
       "    </tr>\n",
       "    <tr>\n",
       "      <td>7</td>\n",
       "      <td>GR</td>\n",
       "      <td>0</td>\n",
       "      <td>927</td>\n",
       "    </tr>\n",
       "    <tr>\n",
       "      <td>8</td>\n",
       "      <td>IN</td>\n",
       "      <td>0</td>\n",
       "      <td>260</td>\n",
       "    </tr>\n",
       "    <tr>\n",
       "      <td>9</td>\n",
       "      <td>NZ</td>\n",
       "      <td>0</td>\n",
       "      <td>321</td>\n",
       "    </tr>\n",
       "    <tr>\n",
       "      <td>10</td>\n",
       "      <td>Other</td>\n",
       "      <td>0</td>\n",
       "      <td>1810</td>\n",
       "    </tr>\n",
       "    <tr>\n",
       "      <td>11</td>\n",
       "      <td>Other</td>\n",
       "      <td>1</td>\n",
       "      <td>35</td>\n",
       "    </tr>\n",
       "    <tr>\n",
       "      <td>12</td>\n",
       "      <td>US</td>\n",
       "      <td>0</td>\n",
       "      <td>7810</td>\n",
       "    </tr>\n",
       "    <tr>\n",
       "      <td>13</td>\n",
       "      <td>US</td>\n",
       "      <td>1</td>\n",
       "      <td>551</td>\n",
       "    </tr>\n",
       "  </tbody>\n",
       "</table>\n",
       "</div>"
      ],
      "text/plain": [
       "   country  fraudulent  count\n",
       "0       AU           0    171\n",
       "1       AU           1     38\n",
       "2       CA           0    398\n",
       "3       CA           1     11\n",
       "4       DE           0    377\n",
       "5       GB           0   2178\n",
       "6       GB           1     14\n",
       "7       GR           0    927\n",
       "8       IN           0    260\n",
       "9       NZ           0    321\n",
       "10   Other           0   1810\n",
       "11   Other           1     35\n",
       "12      US           0   7810\n",
       "13      US           1    551"
      ]
     },
     "execution_count": 66,
     "metadata": {},
     "output_type": "execute_result"
    }
   ],
   "source": [
    "df = job_data_cleaned_cats.groupby([\"country\", \"fraudulent\"], as_index=False)[\"job_id\"].count().rename(columns={\"job_id\":\"count\"})\n",
    "df"
   ]
  },
  {
   "cell_type": "code",
   "execution_count": 67,
   "metadata": {},
   "outputs": [
    {
     "data": {
      "text/html": [
       "<div>\n",
       "<style scoped>\n",
       "    .dataframe tbody tr th:only-of-type {\n",
       "        vertical-align: middle;\n",
       "    }\n",
       "\n",
       "    .dataframe tbody tr th {\n",
       "        vertical-align: top;\n",
       "    }\n",
       "\n",
       "    .dataframe thead tr th {\n",
       "        text-align: left;\n",
       "    }\n",
       "\n",
       "    .dataframe thead tr:last-of-type th {\n",
       "        text-align: right;\n",
       "    }\n",
       "</style>\n",
       "<table border=\"1\" class=\"dataframe\">\n",
       "  <thead>\n",
       "    <tr>\n",
       "      <th></th>\n",
       "      <th colspan=\"2\" halign=\"left\">count</th>\n",
       "    </tr>\n",
       "    <tr>\n",
       "      <th>fraudulent</th>\n",
       "      <th>0</th>\n",
       "      <th>1</th>\n",
       "    </tr>\n",
       "    <tr>\n",
       "      <th>country</th>\n",
       "      <th></th>\n",
       "      <th></th>\n",
       "    </tr>\n",
       "  </thead>\n",
       "  <tbody>\n",
       "    <tr>\n",
       "      <td>AU</td>\n",
       "      <td>171.0</td>\n",
       "      <td>38.0</td>\n",
       "    </tr>\n",
       "    <tr>\n",
       "      <td>CA</td>\n",
       "      <td>398.0</td>\n",
       "      <td>11.0</td>\n",
       "    </tr>\n",
       "    <tr>\n",
       "      <td>DE</td>\n",
       "      <td>377.0</td>\n",
       "      <td>NaN</td>\n",
       "    </tr>\n",
       "    <tr>\n",
       "      <td>GB</td>\n",
       "      <td>2178.0</td>\n",
       "      <td>14.0</td>\n",
       "    </tr>\n",
       "    <tr>\n",
       "      <td>GR</td>\n",
       "      <td>927.0</td>\n",
       "      <td>NaN</td>\n",
       "    </tr>\n",
       "    <tr>\n",
       "      <td>IN</td>\n",
       "      <td>260.0</td>\n",
       "      <td>NaN</td>\n",
       "    </tr>\n",
       "    <tr>\n",
       "      <td>NZ</td>\n",
       "      <td>321.0</td>\n",
       "      <td>NaN</td>\n",
       "    </tr>\n",
       "    <tr>\n",
       "      <td>Other</td>\n",
       "      <td>1810.0</td>\n",
       "      <td>35.0</td>\n",
       "    </tr>\n",
       "    <tr>\n",
       "      <td>US</td>\n",
       "      <td>7810.0</td>\n",
       "      <td>551.0</td>\n",
       "    </tr>\n",
       "  </tbody>\n",
       "</table>\n",
       "</div>"
      ],
      "text/plain": [
       "             count       \n",
       "fraudulent       0      1\n",
       "country                  \n",
       "AU           171.0   38.0\n",
       "CA           398.0   11.0\n",
       "DE           377.0    NaN\n",
       "GB          2178.0   14.0\n",
       "GR           927.0    NaN\n",
       "IN           260.0    NaN\n",
       "NZ           321.0    NaN\n",
       "Other       1810.0   35.0\n",
       "US          7810.0  551.0"
      ]
     },
     "execution_count": 67,
     "metadata": {},
     "output_type": "execute_result"
    }
   ],
   "source": [
    "pivot = df.pivot_table(index='country',columns='fraudulent',aggfunc=sum)\n",
    "pivot"
   ]
  },
  {
   "cell_type": "code",
   "execution_count": 68,
   "metadata": {},
   "outputs": [],
   "source": [
    "pivot[\"fraud_ratio\"] = (pivot[\"count\"][1]/(pivot[\"count\"][0]+pivot[\"count\"][1])).fillna(0)"
   ]
  },
  {
   "cell_type": "code",
   "execution_count": 69,
   "metadata": {},
   "outputs": [
    {
     "data": {
      "text/html": [
       "<div>\n",
       "<style scoped>\n",
       "    .dataframe tbody tr th:only-of-type {\n",
       "        vertical-align: middle;\n",
       "    }\n",
       "\n",
       "    .dataframe tbody tr th {\n",
       "        vertical-align: top;\n",
       "    }\n",
       "\n",
       "    .dataframe thead tr th {\n",
       "        text-align: left;\n",
       "    }\n",
       "</style>\n",
       "<table border=\"1\" class=\"dataframe\">\n",
       "  <thead>\n",
       "    <tr>\n",
       "      <th></th>\n",
       "      <th>country</th>\n",
       "      <th colspan=\"2\" halign=\"left\">count</th>\n",
       "      <th>fraud_ratio</th>\n",
       "    </tr>\n",
       "    <tr>\n",
       "      <th>fraudulent</th>\n",
       "      <th></th>\n",
       "      <th>0</th>\n",
       "      <th>1</th>\n",
       "      <th></th>\n",
       "    </tr>\n",
       "  </thead>\n",
       "  <tbody>\n",
       "    <tr>\n",
       "      <td>0</td>\n",
       "      <td>AU</td>\n",
       "      <td>171.0</td>\n",
       "      <td>38.0</td>\n",
       "      <td>0.181818</td>\n",
       "    </tr>\n",
       "    <tr>\n",
       "      <td>8</td>\n",
       "      <td>US</td>\n",
       "      <td>7810.0</td>\n",
       "      <td>551.0</td>\n",
       "      <td>0.065901</td>\n",
       "    </tr>\n",
       "    <tr>\n",
       "      <td>1</td>\n",
       "      <td>CA</td>\n",
       "      <td>398.0</td>\n",
       "      <td>11.0</td>\n",
       "      <td>0.026895</td>\n",
       "    </tr>\n",
       "    <tr>\n",
       "      <td>7</td>\n",
       "      <td>Other</td>\n",
       "      <td>1810.0</td>\n",
       "      <td>35.0</td>\n",
       "      <td>0.018970</td>\n",
       "    </tr>\n",
       "    <tr>\n",
       "      <td>3</td>\n",
       "      <td>GB</td>\n",
       "      <td>2178.0</td>\n",
       "      <td>14.0</td>\n",
       "      <td>0.006387</td>\n",
       "    </tr>\n",
       "    <tr>\n",
       "      <td>2</td>\n",
       "      <td>DE</td>\n",
       "      <td>377.0</td>\n",
       "      <td>NaN</td>\n",
       "      <td>0.000000</td>\n",
       "    </tr>\n",
       "    <tr>\n",
       "      <td>4</td>\n",
       "      <td>GR</td>\n",
       "      <td>927.0</td>\n",
       "      <td>NaN</td>\n",
       "      <td>0.000000</td>\n",
       "    </tr>\n",
       "    <tr>\n",
       "      <td>5</td>\n",
       "      <td>IN</td>\n",
       "      <td>260.0</td>\n",
       "      <td>NaN</td>\n",
       "      <td>0.000000</td>\n",
       "    </tr>\n",
       "    <tr>\n",
       "      <td>6</td>\n",
       "      <td>NZ</td>\n",
       "      <td>321.0</td>\n",
       "      <td>NaN</td>\n",
       "      <td>0.000000</td>\n",
       "    </tr>\n",
       "  </tbody>\n",
       "</table>\n",
       "</div>"
      ],
      "text/plain": [
       "           country   count        fraud_ratio\n",
       "fraudulent               0      1            \n",
       "0               AU   171.0   38.0    0.181818\n",
       "8               US  7810.0  551.0    0.065901\n",
       "1               CA   398.0   11.0    0.026895\n",
       "7            Other  1810.0   35.0    0.018970\n",
       "3               GB  2178.0   14.0    0.006387\n",
       "2               DE   377.0    NaN    0.000000\n",
       "4               GR   927.0    NaN    0.000000\n",
       "5               IN   260.0    NaN    0.000000\n",
       "6               NZ   321.0    NaN    0.000000"
      ]
     },
     "execution_count": 69,
     "metadata": {},
     "output_type": "execute_result"
    }
   ],
   "source": [
    "pivot=pivot.reset_index().sort_values(by=\"fraud_ratio\", ascending = False)\n",
    "pivot"
   ]
  },
  {
   "cell_type": "markdown",
   "metadata": {},
   "source": [
    "Almost one in 5 job offers from Australia were fraudulent! \n",
    "The ratio for the United States equals approx. 7%, but the sample size exceeds the other countries combined.\n",
    "\n",
    "Germany, Greece, India and New Zealand all have no fraudulent offers in the dataset."
   ]
  },
  {
   "cell_type": "code",
   "execution_count": 70,
   "metadata": {
    "scrolled": true
   },
   "outputs": [
    {
     "data": {
      "text/plain": [
       "Text(0.5, 1.0, 'Ratio of fraudulent job offers by country')"
      ]
     },
     "execution_count": 70,
     "metadata": {},
     "output_type": "execute_result"
    },
    {
     "data": {
      "image/png": "[encoded data removed]",
      "text/plain": [
       "<Figure size 432x288 with 1 Axes>"
      ]
     },
     "metadata": {},
     "output_type": "display_data"
    }
   ],
   "source": [
    "sns.barplot(x=\"country\", y=\"fraud_ratio\", data=pivot).set_title('Ratio of fraudulent job offers by country')"
   ]
  },
  {
   "cell_type": "markdown",
   "metadata": {},
   "source": [
    "### Question 3: Do fraudulent US job listings offer higher salary than real ones?"
   ]
  },
  {
   "cell_type": "markdown",
   "metadata": {},
   "source": [
    "I'll select just the US because of its frequency in the data, by far exceeding all the other countries."
   ]
  },
  {
   "cell_type": "code",
   "execution_count": 71,
   "metadata": {
    "scrolled": true
   },
   "outputs": [
    {
     "data": {
      "text/plain": [
       "fraudulent\n",
       "0    80920.0\n",
       "1    58401.0\n",
       "Name: salary_avg_usd, dtype: float64"
      ]
     },
     "execution_count": 71,
     "metadata": {},
     "output_type": "execute_result"
    }
   ],
   "source": [
    "job_data_cleaned_cats[job_data_cleaned_cats['country'] ==  \"US\"].groupby(\"fraudulent\").mean()[\"salary_avg_usd\"].round()"
   ]
  },
  {
   "cell_type": "code",
   "execution_count": 72,
   "metadata": {},
   "outputs": [
    {
     "data": {
      "text/plain": [
       "fraudulent\n",
       "0    71650.0\n",
       "1    45385.0\n",
       "Name: salary_avg_usd, dtype: float64"
      ]
     },
     "execution_count": 72,
     "metadata": {},
     "output_type": "execute_result"
    }
   ],
   "source": [
    "job_data_cleaned_cats[job_data_cleaned_cats['country'] ==  \"US\"].groupby(\"fraudulent\").median()[\"salary_avg_usd\"].round()"
   ]
  },
  {
   "cell_type": "markdown",
   "metadata": {},
   "source": [
    "In fact, the opposite is true - the average salary of a fraudulent job is over $22000 lower than for a real job. It can depend also on the various kinds of employment. Let's check that for all available employment types.\n"
   ]
  },
  {
   "cell_type": "code",
   "execution_count": 73,
   "metadata": {
    "scrolled": true
   },
   "outputs": [
    {
     "data": {
      "text/plain": [
       "fraudulent\n",
       "0    31898.617886\n",
       "1    66652.329725\n",
       "Name: salary_avg_usd, dtype: float64"
      ]
     },
     "execution_count": 73,
     "metadata": {},
     "output_type": "execute_result"
    }
   ],
   "source": [
    "job_data_cleaned_cats[(job_data_cleaned_cats['country'] ==  \"US\") & (job_data_cleaned_cats['employment_type'] == \"Other\" )].groupby(\"fraudulent\").mean()[\"salary_avg_usd\"]"
   ]
  },
  {
   "cell_type": "code",
   "execution_count": 74,
   "metadata": {
    "scrolled": true
   },
   "outputs": [
    {
     "name": "stdout",
     "output_type": "stream",
     "text": [
      "Average salary of job offers in the US for Other employment type\n",
      "Real: 31899.0 USD\n",
      "Fraud: 66652.0 USD\n",
      "_____________________________________________________________________________________________\n",
      "Average salary of job offers in the US for Full-time employment type\n",
      "Real: 69833.0 USD\n",
      "Fraud: 63899.0 USD\n",
      "_____________________________________________________________________________________________\n",
      "Average salary of job offers in the US for unknown employment type\n",
      "Real: 150470.0 USD\n",
      "Fraud: 48745.0 USD\n",
      "_____________________________________________________________________________________________\n",
      "Average salary of job offers in the US for Part-time employment type\n",
      "Real: 24616.0 USD\n",
      "Fraud: 24424.0 USD\n",
      "_____________________________________________________________________________________________\n",
      "Average salary of job offers in the US for Contract employment type\n",
      "Real: 72320.0 USD\n",
      "Fraud: 65171.0 USD\n",
      "_____________________________________________________________________________________________\n",
      "Average salary of job offers in the US for Temporary employment type\n",
      "Real: 10755.0 USD\n",
      "Fraud: 34458.0 USD\n",
      "_____________________________________________________________________________________________\n"
     ]
    }
   ],
   "source": [
    "for emptype in job_data_cleaned_cats['employment_type'].unique():\n",
    "    print(\"Average salary of job offers in the US for\", emptype, \"employment type\")\n",
    "    print(\"Real:\", job_data_cleaned_cats[(job_data_cleaned_cats['country'] ==  \"US\") & (job_data_cleaned_cats['employment_type'] == emptype )].groupby(\"fraudulent\").mean()[\"salary_avg_usd\"].round()[0], \"USD\" )\n",
    "    print(\"Fraud:\", job_data_cleaned_cats[(job_data_cleaned_cats['country'] ==  \"US\") & (job_data_cleaned_cats['employment_type'] == emptype )].groupby(\"fraudulent\").mean()[\"salary_avg_usd\"].round()[1], \"USD\" )\n",
    "    print(\"_____________________________________________________________________________________________\")\n"
   ]
  },
  {
   "cell_type": "markdown",
   "metadata": {},
   "source": [
    "Only for \"temprary\" and \"other\" type of employment this rule holds true. Especially huge difference is in case of \"unknown\" employment type (no input in source data), where real job adverts offer salary 3 times as big as the fraudulent ones.\n"
   ]
  },
  {
   "cell_type": "code",
   "execution_count": 75,
   "metadata": {},
   "outputs": [
    {
     "data": {
      "text/html": [
       "<div>\n",
       "<style scoped>\n",
       "    .dataframe tbody tr th:only-of-type {\n",
       "        vertical-align: middle;\n",
       "    }\n",
       "\n",
       "    .dataframe tbody tr th {\n",
       "        vertical-align: top;\n",
       "    }\n",
       "\n",
       "    .dataframe thead th {\n",
       "        text-align: right;\n",
       "    }\n",
       "</style>\n",
       "<table border=\"1\" class=\"dataframe\">\n",
       "  <thead>\n",
       "    <tr style=\"text-align: right;\">\n",
       "      <th></th>\n",
       "      <th>employment_type</th>\n",
       "      <th>fraudulent</th>\n",
       "      <th>salary_avg_usd</th>\n",
       "    </tr>\n",
       "  </thead>\n",
       "  <tbody>\n",
       "    <tr>\n",
       "      <td>0</td>\n",
       "      <td>Contract</td>\n",
       "      <td>0</td>\n",
       "      <td>72320.0</td>\n",
       "    </tr>\n",
       "    <tr>\n",
       "      <td>1</td>\n",
       "      <td>Contract</td>\n",
       "      <td>1</td>\n",
       "      <td>65171.0</td>\n",
       "    </tr>\n",
       "    <tr>\n",
       "      <td>2</td>\n",
       "      <td>Full-time</td>\n",
       "      <td>0</td>\n",
       "      <td>69833.0</td>\n",
       "    </tr>\n",
       "    <tr>\n",
       "      <td>3</td>\n",
       "      <td>Full-time</td>\n",
       "      <td>1</td>\n",
       "      <td>63899.0</td>\n",
       "    </tr>\n",
       "    <tr>\n",
       "      <td>4</td>\n",
       "      <td>Other</td>\n",
       "      <td>0</td>\n",
       "      <td>31899.0</td>\n",
       "    </tr>\n",
       "    <tr>\n",
       "      <td>5</td>\n",
       "      <td>Other</td>\n",
       "      <td>1</td>\n",
       "      <td>66652.0</td>\n",
       "    </tr>\n",
       "    <tr>\n",
       "      <td>6</td>\n",
       "      <td>Part-time</td>\n",
       "      <td>0</td>\n",
       "      <td>24616.0</td>\n",
       "    </tr>\n",
       "    <tr>\n",
       "      <td>7</td>\n",
       "      <td>Part-time</td>\n",
       "      <td>1</td>\n",
       "      <td>24424.0</td>\n",
       "    </tr>\n",
       "    <tr>\n",
       "      <td>8</td>\n",
       "      <td>Temporary</td>\n",
       "      <td>0</td>\n",
       "      <td>10755.0</td>\n",
       "    </tr>\n",
       "    <tr>\n",
       "      <td>9</td>\n",
       "      <td>Temporary</td>\n",
       "      <td>1</td>\n",
       "      <td>34458.0</td>\n",
       "    </tr>\n",
       "    <tr>\n",
       "      <td>10</td>\n",
       "      <td>unknown</td>\n",
       "      <td>0</td>\n",
       "      <td>150470.0</td>\n",
       "    </tr>\n",
       "    <tr>\n",
       "      <td>11</td>\n",
       "      <td>unknown</td>\n",
       "      <td>1</td>\n",
       "      <td>48745.0</td>\n",
       "    </tr>\n",
       "  </tbody>\n",
       "</table>\n",
       "</div>"
      ],
      "text/plain": [
       "   employment_type  fraudulent  salary_avg_usd\n",
       "0         Contract           0         72320.0\n",
       "1         Contract           1         65171.0\n",
       "2        Full-time           0         69833.0\n",
       "3        Full-time           1         63899.0\n",
       "4            Other           0         31899.0\n",
       "5            Other           1         66652.0\n",
       "6        Part-time           0         24616.0\n",
       "7        Part-time           1         24424.0\n",
       "8        Temporary           0         10755.0\n",
       "9        Temporary           1         34458.0\n",
       "10         unknown           0        150470.0\n",
       "11         unknown           1         48745.0"
      ]
     },
     "execution_count": 75,
     "metadata": {},
     "output_type": "execute_result"
    }
   ],
   "source": [
    "df= job_data_cleaned_cats[job_data_cleaned_cats['country'] ==  \"US\"].groupby(['employment_type', 'fraudulent'], as_index=False)[\"salary_avg_usd\"].mean().round()\n",
    "df"
   ]
  },
  {
   "cell_type": "code",
   "execution_count": 76,
   "metadata": {
    "scrolled": true
   },
   "outputs": [
    {
     "data": {
      "text/plain": [
       "Text(0.5, 1, 'Average salary of US jobs by employment type')"
      ]
     },
     "execution_count": 76,
     "metadata": {},
     "output_type": "execute_result"
    },
    {
     "data": {
      "image/png": "[encoded data removed]",
      "text/plain": [
       "<Figure size 493.925x432 with 1 Axes>"
      ]
     },
     "metadata": {},
     "output_type": "display_data"
    }
   ],
   "source": [
    "sns.catplot(x=\"employment_type\", y=\"salary_avg_usd\", hue=\"fraudulent\", data=df,\n",
    "                height=6, kind=\"bar\").set_xlabels(\"employment type\").set_ylabels(\"USD\")\n",
    "plt.title('Average salary of US jobs by employment type')"
   ]
  },
  {
   "cell_type": "code",
   "execution_count": 77,
   "metadata": {},
   "outputs": [
    {
     "data": {
      "text/plain": [
       "Text(0.5, 1, 'Median salary of US jobs by employment type')"
      ]
     },
     "execution_count": 77,
     "metadata": {},
     "output_type": "execute_result"
    },
    {
     "data": {
      "image/png": "[encoded data removed]",
      "text/plain": [
       "<Figure size 493.925x432 with 1 Axes>"
      ]
     },
     "metadata": {},
     "output_type": "display_data"
    }
   ],
   "source": [
    "sns.catplot(x=\"employment_type\", y=\"salary_avg_usd\", hue=\"fraudulent\", data=df,\n",
    "                height=6, kind=\"bar\", estimator = np.median).set_xlabels(\"employment type\").set_ylabels(\"USD\")\n",
    "plt.title('Median salary of US jobs by employment type')\n"
   ]
  },
  {
   "cell_type": "code",
   "execution_count": 78,
   "metadata": {},
   "outputs": [
    {
     "data": {
      "text/plain": [
       "fraudulent\n",
       "0    65491.0\n",
       "1    61061.0\n",
       "Name: salary_avg_usd, dtype: float64"
      ]
     },
     "execution_count": 78,
     "metadata": {},
     "output_type": "execute_result"
    }
   ],
   "source": [
    "job_data_cleaned_cats[(job_data_cleaned_cats['country'] ==  \"US\") & (job_data_cleaned_cats['employment_type'] != \"unknown\")].groupby(\"fraudulent\").mean()[\"salary_avg_usd\"].round()"
   ]
  },
  {
   "cell_type": "code",
   "execution_count": 79,
   "metadata": {},
   "outputs": [
    {
     "data": {
      "text/plain": [
       "fraudulent\n",
       "0    60194.0\n",
       "1    51083.0\n",
       "Name: salary_avg_usd, dtype: float64"
      ]
     },
     "execution_count": 79,
     "metadata": {},
     "output_type": "execute_result"
    }
   ],
   "source": [
    "job_data_cleaned_cats[(job_data_cleaned_cats['country'] ==  \"US\") & (job_data_cleaned_cats['employment_type'] != \"unknown\")].groupby(\"fraudulent\").median()[\"salary_avg_usd\"].round()"
   ]
  },
  {
   "cell_type": "code",
   "execution_count": null,
   "metadata": {},
   "outputs": [],
   "source": []
  },
  {
   "cell_type": "code",
   "execution_count": 80,
   "metadata": {},
   "outputs": [],
   "source": [
    "frauds_us = job_data_cleaned_cats.loc[(job_data_cleaned_cats['fraudulent'] == 1) & (job_data_cleaned_cats['country'] ==  \"US\")]\n",
    "real_us = job_data_cleaned_cats.loc[(job_data_cleaned_cats['fraudulent'] == 0) & (job_data_cleaned_cats['country'] ==  \"US\") ]\n"
   ]
  },
  {
   "cell_type": "code",
   "execution_count": 81,
   "metadata": {},
   "outputs": [
    {
     "name": "stdout",
     "output_type": "stream",
     "text": [
      "There are 7810 real job offers and 551 fake ones from the US.\n"
     ]
    }
   ],
   "source": [
    "print(\"There are\", real_us.shape[0], \"real job offers and\", frauds_us.shape[0], \"fake ones from the US.\")"
   ]
  },
  {
   "cell_type": "code",
   "execution_count": 82,
   "metadata": {},
   "outputs": [
    {
     "data": {
      "image/png": "[encoded data removed]",
      "text/plain": [
       "<Figure size 432x288 with 1 Axes>"
      ]
     },
     "metadata": {},
     "output_type": "display_data"
    }
   ],
   "source": [
    "\n",
    "\n",
    "sns.distplot(real_us[['salary_avg_usd']], hist=True, rug=False, label=\"Real offer\", kde=True, norm_hist=True).set_title('Normalized salary distribution for real and fraudulent offers')\n",
    "sns.distplot(frauds_us[['salary_avg_usd']], hist=True, rug=False, label = \"Fake offer\", kde=True, norm_hist=True).set_xlim(0, 200000)\n",
    "plt.legend()\n",
    "plt.xlabel('Salary')\n",
    "plt.ylabel('probability density')\n",
    "\n",
    "plt.show()\n"
   ]
  },
  {
   "cell_type": "code",
   "execution_count": 83,
   "metadata": {},
   "outputs": [
    {
     "data": {
      "text/plain": [
       "Text(0.5, 1.0, 'Boxplot of salary by the fraud status')"
      ]
     },
     "execution_count": 83,
     "metadata": {},
     "output_type": "execute_result"
    },
    {
     "data": {
      "image/png": "[encoded data removed]",
      "text/plain": [
       "<Figure size 432x288 with 1 Axes>"
      ]
     },
     "metadata": {},
     "output_type": "display_data"
    }
   ],
   "source": [
    "sns.boxplot(x=\"fraudulent\", y=\"salary_avg_usd\",\n",
    "            data=job_data_cleaned_cats, showfliers=False)\n",
    "plt.xlabel(\"Fraudulent job offer\")\n",
    "plt.ylabel(\"Salary in USD\")\n",
    "plt.title(\"Boxplot of salary by the fraud status\")"
   ]
  },
  {
   "cell_type": "markdown",
   "metadata": {},
   "source": [
    "us vs rest of the world\n"
   ]
  },
  {
   "cell_type": "code",
   "execution_count": 84,
   "metadata": {},
   "outputs": [
    {
     "data": {
      "text/plain": [
       "((8361, 31), (6540, 31))"
      ]
     },
     "execution_count": 84,
     "metadata": {},
     "output_type": "execute_result"
    }
   ],
   "source": [
    "us = job_data_cleaned_cats[job_data_cleaned_cats[\"country\"]==\"US\"]\n",
    "rest = job_data_cleaned_cats[job_data_cleaned_cats[\"country\"] !=\"US\"]\n",
    "us.shape, rest.shape"
   ]
  },
  {
   "cell_type": "code",
   "execution_count": 85,
   "metadata": {},
   "outputs": [
    {
     "data": {
      "text/plain": [
       "Text(0.5, 1.0, 'Boxplot of salary for US offers by the fraud status')"
      ]
     },
     "execution_count": 85,
     "metadata": {},
     "output_type": "execute_result"
    },
    {
     "data": {
      "image/png": "[encoded data removed]",
      "text/plain": [
       "<Figure size 432x288 with 1 Axes>"
      ]
     },
     "metadata": {},
     "output_type": "display_data"
    }
   ],
   "source": [
    "sns.boxplot(x=\"fraudulent\", y=\"salary_avg_usd\",\n",
    "            data=us, showfliers=False)\n",
    "plt.xlabel(\"Fraudulent job offer\")\n",
    "plt.ylabel(\"Salary in USD\")\n",
    "plt.title(\"Boxplot of salary for US offers by the fraud status\")"
   ]
  },
  {
   "cell_type": "code",
   "execution_count": 86,
   "metadata": {},
   "outputs": [
    {
     "data": {
      "text/plain": [
       "Text(0.5, 1.0, 'Boxplot of salary for all countries except USA by the fraud status')"
      ]
     },
     "execution_count": 86,
     "metadata": {},
     "output_type": "execute_result"
    },
    {
     "data": {
      "image/png": "[encoded data removed]",
      "text/plain": [
       "<Figure size 432x288 with 1 Axes>"
      ]
     },
     "metadata": {},
     "output_type": "display_data"
    }
   ],
   "source": [
    "sns.boxplot(x=\"fraudulent\", y=\"salary_avg_usd\",\n",
    "            data=rest, showfliers=False)\n",
    "plt.xlabel(\"Fraudulent job offer\")\n",
    "plt.ylabel(\"Salary in USD\")\n",
    "plt.title(\"Boxplot of salary for all countries except USA by the fraud status\")"
   ]
  },
  {
   "cell_type": "code",
   "execution_count": null,
   "metadata": {},
   "outputs": [],
   "source": []
  },
  {
   "cell_type": "code",
   "execution_count": 87,
   "metadata": {},
   "outputs": [],
   "source": [
    "#check if outliers in salary_avg are more prevalent wiht frauds\n",
    "job_data_cleaned_cats[\"high_salary\"] = [1 if x >150000 else 0 for x in job_data_cleaned_cats['salary_avg_usd']]"
   ]
  },
  {
   "cell_type": "code",
   "execution_count": 88,
   "metadata": {},
   "outputs": [
    {
     "data": {
      "text/plain": [
       "high_salary  fraudulent\n",
       "0            0             95.306214\n",
       "             1              4.693786\n",
       "1            0             98.715348\n",
       "             1              1.284652\n",
       "dtype: float64"
      ]
     },
     "execution_count": 88,
     "metadata": {},
     "output_type": "execute_result"
    }
   ],
   "source": [
    "job_data_cleaned_cats.groupby([\"high_salary\", \"fraudulent\"]).count()[\"job_id\"].rename(columns={\"job_id\":\"count\"}).groupby(level=0).apply(lambda x:100 * x / float(x.sum()))"
   ]
  },
  {
   "cell_type": "markdown",
   "metadata": {},
   "source": [
    "High salary doesn't seem to play a role in that case."
   ]
  },
  {
   "cell_type": "markdown",
   "metadata": {},
   "source": [
    "### Question 4: Are there any specific types of employment used more frequent by scammers in their adverts than others?"
   ]
  },
  {
   "cell_type": "code",
   "execution_count": 89,
   "metadata": {},
   "outputs": [
    {
     "data": {
      "text/plain": [
       "employment_type\n",
       "Contract      32\n",
       "Full-time    385\n",
       "Other         10\n",
       "Part-time     68\n",
       "Temporary      2\n",
       "unknown      152\n",
       "dtype: int64"
      ]
     },
     "execution_count": 89,
     "metadata": {},
     "output_type": "execute_result"
    }
   ],
   "source": [
    "job_data_cleaned_cats[job_data_cleaned_cats.fraudulent == 1].groupby([\"employment_type\"]).count()[\"job_id\"].rename(columns={\"job_id\":\"count\"})"
   ]
  },
  {
   "cell_type": "code",
   "execution_count": 90,
   "metadata": {
    "scrolled": false
   },
   "outputs": [
    {
     "data": {
      "text/plain": [
       "employment_type  fraudulent\n",
       "Contract         0             95.844156\n",
       "                 1              4.155844\n",
       "Full-time        0             96.190382\n",
       "                 1              3.809618\n",
       "Other            0             95.000000\n",
       "                 1              5.000000\n",
       "Part-time        0             90.101892\n",
       "                 1              9.898108\n",
       "Temporary        0             99.118943\n",
       "                 1              0.881057\n",
       "unknown          0             94.778427\n",
       "                 1              5.221573\n",
       "dtype: float64"
      ]
     },
     "execution_count": 90,
     "metadata": {},
     "output_type": "execute_result"
    }
   ],
   "source": [
    "job_data_cleaned_cats.groupby([\"employment_type\", \"fraudulent\"]).count()[\"job_id\"].rename(columns={\"job_id\":\"count\"}).groupby(level=0).apply(lambda x: 100 * x / float(x.sum()))"
   ]
  },
  {
   "cell_type": "code",
   "execution_count": 91,
   "metadata": {
    "scrolled": true
   },
   "outputs": [
    {
     "data": {
      "text/html": [
       "<div>\n",
       "<style scoped>\n",
       "    .dataframe tbody tr th:only-of-type {\n",
       "        vertical-align: middle;\n",
       "    }\n",
       "\n",
       "    .dataframe tbody tr th {\n",
       "        vertical-align: top;\n",
       "    }\n",
       "\n",
       "    .dataframe thead th {\n",
       "        text-align: right;\n",
       "    }\n",
       "</style>\n",
       "<table border=\"1\" class=\"dataframe\">\n",
       "  <thead>\n",
       "    <tr style=\"text-align: right;\">\n",
       "      <th></th>\n",
       "      <th>employment_type</th>\n",
       "      <th>fraudulent</th>\n",
       "      <th>count</th>\n",
       "      <th>percent</th>\n",
       "    </tr>\n",
       "  </thead>\n",
       "  <tbody>\n",
       "    <tr>\n",
       "      <td>0</td>\n",
       "      <td>Contract</td>\n",
       "      <td>0</td>\n",
       "      <td>738</td>\n",
       "      <td>95.844156</td>\n",
       "    </tr>\n",
       "    <tr>\n",
       "      <td>1</td>\n",
       "      <td>Contract</td>\n",
       "      <td>1</td>\n",
       "      <td>32</td>\n",
       "      <td>4.155844</td>\n",
       "    </tr>\n",
       "    <tr>\n",
       "      <td>2</td>\n",
       "      <td>Full-time</td>\n",
       "      <td>0</td>\n",
       "      <td>9721</td>\n",
       "      <td>96.190382</td>\n",
       "    </tr>\n",
       "    <tr>\n",
       "      <td>3</td>\n",
       "      <td>Full-time</td>\n",
       "      <td>1</td>\n",
       "      <td>385</td>\n",
       "      <td>3.809618</td>\n",
       "    </tr>\n",
       "    <tr>\n",
       "      <td>4</td>\n",
       "      <td>Other</td>\n",
       "      <td>0</td>\n",
       "      <td>190</td>\n",
       "      <td>95.000000</td>\n",
       "    </tr>\n",
       "    <tr>\n",
       "      <td>5</td>\n",
       "      <td>Other</td>\n",
       "      <td>1</td>\n",
       "      <td>10</td>\n",
       "      <td>5.000000</td>\n",
       "    </tr>\n",
       "    <tr>\n",
       "      <td>6</td>\n",
       "      <td>Part-time</td>\n",
       "      <td>0</td>\n",
       "      <td>619</td>\n",
       "      <td>90.101892</td>\n",
       "    </tr>\n",
       "    <tr>\n",
       "      <td>7</td>\n",
       "      <td>Part-time</td>\n",
       "      <td>1</td>\n",
       "      <td>68</td>\n",
       "      <td>9.898108</td>\n",
       "    </tr>\n",
       "    <tr>\n",
       "      <td>8</td>\n",
       "      <td>Temporary</td>\n",
       "      <td>0</td>\n",
       "      <td>225</td>\n",
       "      <td>99.118943</td>\n",
       "    </tr>\n",
       "    <tr>\n",
       "      <td>9</td>\n",
       "      <td>Temporary</td>\n",
       "      <td>1</td>\n",
       "      <td>2</td>\n",
       "      <td>0.881057</td>\n",
       "    </tr>\n",
       "    <tr>\n",
       "      <td>10</td>\n",
       "      <td>unknown</td>\n",
       "      <td>0</td>\n",
       "      <td>2759</td>\n",
       "      <td>94.778427</td>\n",
       "    </tr>\n",
       "    <tr>\n",
       "      <td>11</td>\n",
       "      <td>unknown</td>\n",
       "      <td>1</td>\n",
       "      <td>152</td>\n",
       "      <td>5.221573</td>\n",
       "    </tr>\n",
       "  </tbody>\n",
       "</table>\n",
       "</div>"
      ],
      "text/plain": [
       "   employment_type  fraudulent  count    percent\n",
       "0         Contract           0    738  95.844156\n",
       "1         Contract           1     32   4.155844\n",
       "2        Full-time           0   9721  96.190382\n",
       "3        Full-time           1    385   3.809618\n",
       "4            Other           0    190  95.000000\n",
       "5            Other           1     10   5.000000\n",
       "6        Part-time           0    619  90.101892\n",
       "7        Part-time           1     68   9.898108\n",
       "8        Temporary           0    225  99.118943\n",
       "9        Temporary           1      2   0.881057\n",
       "10         unknown           0   2759  94.778427\n",
       "11         unknown           1    152   5.221573"
      ]
     },
     "execution_count": 91,
     "metadata": {},
     "output_type": "execute_result"
    }
   ],
   "source": [
    "emp_type_fraud_plot = job_data_cleaned_cats.groupby([\"employment_type\", \"fraudulent\"], as_index=False)[\"job_id\"].count().rename(columns={\"job_id\":\"count\"})\n",
    "emp_type_fraud_plot = pd.DataFrame(job_data_cleaned_cats.groupby([\"employment_type\", \"fraudulent\"])[\"job_id\"].count()).rename(columns={\"job_id\":\"count\"})\n",
    "emp_type_fraud_plot[\"percent\"] = emp_type_fraud_plot.groupby(level=0).apply(\n",
    "     lambda x:  100*(x) / x.sum()\n",
    ")\n",
    "emp_type_fraud_plot = emp_type_fraud_plot.reset_index()\n",
    "emp_type_fraud_plot"
   ]
  },
  {
   "cell_type": "code",
   "execution_count": 92,
   "metadata": {},
   "outputs": [
    {
     "data": {
      "text/plain": [
       "Text(0.5, 1, 'Genuine and fraudulent job offers for each employment type')"
      ]
     },
     "execution_count": 92,
     "metadata": {},
     "output_type": "execute_result"
    },
    {
     "data": {
      "image/png": "[encoded data removed]",
      "text/plain": [
       "<Figure size 493.925x432 with 1 Axes>"
      ]
     },
     "metadata": {},
     "output_type": "display_data"
    }
   ],
   "source": [
    "sns.catplot(x=\"employment_type\", y=\"percent\", hue=\"fraudulent\", data=emp_type_fraud_plot,\n",
    "                height=6, kind=\"bar\").set_xlabels(\"Type of employment\").set_ylabels(\"%\").despine(left=True)\n",
    "\n",
    "plt.title('Genuine and fraudulent job offers for each employment type')"
   ]
  },
  {
   "cell_type": "markdown",
   "metadata": {},
   "source": [
    "9% of all Part-time job listings are classified as fraudulent, which is more than 2 times than in case of Full-time jobs. Temporary jobs turned out to contain the lowest relative number of fraudulent postings."
   ]
  },
  {
   "cell_type": "markdown",
   "metadata": {},
   "source": [
    "### Question 5. In which industries is the best money?"
   ]
  },
  {
   "cell_type": "code",
   "execution_count": 93,
   "metadata": {},
   "outputs": [
    {
     "data": {
      "text/html": [
       "<div>\n",
       "<style scoped>\n",
       "    .dataframe tbody tr th:only-of-type {\n",
       "        vertical-align: middle;\n",
       "    }\n",
       "\n",
       "    .dataframe tbody tr th {\n",
       "        vertical-align: top;\n",
       "    }\n",
       "\n",
       "    .dataframe thead th {\n",
       "        text-align: right;\n",
       "    }\n",
       "</style>\n",
       "<table border=\"1\" class=\"dataframe\">\n",
       "  <thead>\n",
       "    <tr style=\"text-align: right;\">\n",
       "      <th></th>\n",
       "      <th>industry</th>\n",
       "      <th>fraudulent</th>\n",
       "      <th>salary_avg_usd</th>\n",
       "    </tr>\n",
       "  </thead>\n",
       "  <tbody>\n",
       "    <tr>\n",
       "      <td>12</td>\n",
       "      <td>Marketing and Advertising</td>\n",
       "      <td>1</td>\n",
       "      <td>219653.0</td>\n",
       "    </tr>\n",
       "    <tr>\n",
       "      <td>21</td>\n",
       "      <td>unknown</td>\n",
       "      <td>0</td>\n",
       "      <td>125687.0</td>\n",
       "    </tr>\n",
       "    <tr>\n",
       "      <td>13</td>\n",
       "      <td>Oil &amp; Energy</td>\n",
       "      <td>0</td>\n",
       "      <td>117658.0</td>\n",
       "    </tr>\n",
       "    <tr>\n",
       "      <td>9</td>\n",
       "      <td>Information Technology and Services</td>\n",
       "      <td>1</td>\n",
       "      <td>104234.0</td>\n",
       "    </tr>\n",
       "    <tr>\n",
       "      <td>6</td>\n",
       "      <td>Hospital &amp; Health Care</td>\n",
       "      <td>0</td>\n",
       "      <td>92592.0</td>\n",
       "    </tr>\n",
       "    <tr>\n",
       "      <td>8</td>\n",
       "      <td>Information Technology and Services</td>\n",
       "      <td>0</td>\n",
       "      <td>79532.0</td>\n",
       "    </tr>\n",
       "    <tr>\n",
       "      <td>10</td>\n",
       "      <td>Internet</td>\n",
       "      <td>0</td>\n",
       "      <td>78877.0</td>\n",
       "    </tr>\n",
       "    <tr>\n",
       "      <td>5</td>\n",
       "      <td>Financial Services</td>\n",
       "      <td>1</td>\n",
       "      <td>76542.0</td>\n",
       "    </tr>\n",
       "    <tr>\n",
       "      <td>0</td>\n",
       "      <td>Computer Software</td>\n",
       "      <td>0</td>\n",
       "      <td>74456.0</td>\n",
       "    </tr>\n",
       "    <tr>\n",
       "      <td>14</td>\n",
       "      <td>Oil &amp; Energy</td>\n",
       "      <td>1</td>\n",
       "      <td>74188.0</td>\n",
       "    </tr>\n",
       "    <tr>\n",
       "      <td>11</td>\n",
       "      <td>Marketing and Advertising</td>\n",
       "      <td>0</td>\n",
       "      <td>59494.0</td>\n",
       "    </tr>\n",
       "    <tr>\n",
       "      <td>4</td>\n",
       "      <td>Financial Services</td>\n",
       "      <td>0</td>\n",
       "      <td>56108.0</td>\n",
       "    </tr>\n",
       "    <tr>\n",
       "      <td>15</td>\n",
       "      <td>Other</td>\n",
       "      <td>0</td>\n",
       "      <td>54129.0</td>\n",
       "    </tr>\n",
       "    <tr>\n",
       "      <td>19</td>\n",
       "      <td>Telecommunications</td>\n",
       "      <td>0</td>\n",
       "      <td>49315.0</td>\n",
       "    </tr>\n",
       "    <tr>\n",
       "      <td>17</td>\n",
       "      <td>Retail</td>\n",
       "      <td>0</td>\n",
       "      <td>48012.0</td>\n",
       "    </tr>\n",
       "    <tr>\n",
       "      <td>22</td>\n",
       "      <td>unknown</td>\n",
       "      <td>1</td>\n",
       "      <td>45385.0</td>\n",
       "    </tr>\n",
       "    <tr>\n",
       "      <td>16</td>\n",
       "      <td>Other</td>\n",
       "      <td>1</td>\n",
       "      <td>44697.0</td>\n",
       "    </tr>\n",
       "    <tr>\n",
       "      <td>2</td>\n",
       "      <td>Consumer Services</td>\n",
       "      <td>0</td>\n",
       "      <td>37613.0</td>\n",
       "    </tr>\n",
       "    <tr>\n",
       "      <td>18</td>\n",
       "      <td>Retail</td>\n",
       "      <td>1</td>\n",
       "      <td>37567.0</td>\n",
       "    </tr>\n",
       "    <tr>\n",
       "      <td>3</td>\n",
       "      <td>Consumer Services</td>\n",
       "      <td>1</td>\n",
       "      <td>30936.0</td>\n",
       "    </tr>\n",
       "    <tr>\n",
       "      <td>7</td>\n",
       "      <td>Hospital &amp; Health Care</td>\n",
       "      <td>1</td>\n",
       "      <td>26529.0</td>\n",
       "    </tr>\n",
       "    <tr>\n",
       "      <td>1</td>\n",
       "      <td>Computer Software</td>\n",
       "      <td>1</td>\n",
       "      <td>25920.0</td>\n",
       "    </tr>\n",
       "    <tr>\n",
       "      <td>20</td>\n",
       "      <td>Telecommunications</td>\n",
       "      <td>1</td>\n",
       "      <td>24220.0</td>\n",
       "    </tr>\n",
       "  </tbody>\n",
       "</table>\n",
       "</div>"
      ],
      "text/plain": [
       "                               industry  fraudulent  salary_avg_usd\n",
       "12            Marketing and Advertising           1        219653.0\n",
       "21                              unknown           0        125687.0\n",
       "13                         Oil & Energy           0        117658.0\n",
       "9   Information Technology and Services           1        104234.0\n",
       "6                Hospital & Health Care           0         92592.0\n",
       "8   Information Technology and Services           0         79532.0\n",
       "10                             Internet           0         78877.0\n",
       "5                    Financial Services           1         76542.0\n",
       "0                     Computer Software           0         74456.0\n",
       "14                         Oil & Energy           1         74188.0\n",
       "11            Marketing and Advertising           0         59494.0\n",
       "4                    Financial Services           0         56108.0\n",
       "15                                Other           0         54129.0\n",
       "19                   Telecommunications           0         49315.0\n",
       "17                               Retail           0         48012.0\n",
       "22                              unknown           1         45385.0\n",
       "16                                Other           1         44697.0\n",
       "2                     Consumer Services           0         37613.0\n",
       "18                               Retail           1         37567.0\n",
       "3                     Consumer Services           1         30936.0\n",
       "7                Hospital & Health Care           1         26529.0\n",
       "1                     Computer Software           1         25920.0\n",
       "20                   Telecommunications           1         24220.0"
      ]
     },
     "execution_count": 93,
     "metadata": {},
     "output_type": "execute_result"
    }
   ],
   "source": [
    "df = job_data_cleaned_cats[job_data_cleaned_cats[\"country\"] == \"US\"].groupby([\"industry\", \"fraudulent\"], as_index=False)[\"salary_avg_usd\"].mean().round().sort_values(by=\"salary_avg_usd\", ascending=False)\n",
    "df"
   ]
  },
  {
   "cell_type": "code",
   "execution_count": 94,
   "metadata": {
    "scrolled": true
   },
   "outputs": [
    {
     "data": {
      "image/png": "[encoded data removed]",
      "text/plain": [
       "<Figure size 781.925x720 with 1 Axes>"
      ]
     },
     "metadata": {},
     "output_type": "display_data"
    }
   ],
   "source": [
    "sns.catplot(x=\"industry\", y=\"salary_avg_usd\", hue=\"fraudulent\", data=df,\n",
    "               height =10,   kind=\"bar\").set_xlabels(\"Industry\").set_ylabels(\"USD\")\n",
    "plt.title('Average salary of US jobs by industry')\n",
    "plt.xticks(plt.xticks()[0], rotation=90)\n",
    "plt.tight_layout()\n",
    "plt.show()"
   ]
  },
  {
   "cell_type": "code",
   "execution_count": 95,
   "metadata": {},
   "outputs": [
    {
     "data": {
      "image/png": "[encoded data removed]",
      "text/plain": [
       "<Figure size 781.925x720 with 1 Axes>"
      ]
     },
     "metadata": {},
     "output_type": "display_data"
    }
   ],
   "source": [
    "sns.catplot(x=\"industry\", y=\"salary_avg_usd\", hue=\"fraudulent\", data=df,\n",
    "               height =10,   kind=\"bar\", estimator = np.median).set_xlabels(\"Industry\").set_ylabels(\"USD\")\n",
    "plt.title('Median salary of US jobs by industry')\n",
    "plt.xticks(plt.xticks()[0], rotation=90)\n",
    "plt.tight_layout()\n",
    "plt.show()"
   ]
  },
  {
   "cell_type": "markdown",
   "metadata": {},
   "source": [
    "### Modelling part"
   ]
  },
  {
   "cell_type": "code",
   "execution_count": 96,
   "metadata": {},
   "outputs": [],
   "source": [
    "relevant_data  = ['job_id', 'telecommuting', 'has_company_logo',\n",
    "       'has_questions', 'number_offers', 'employment_type', 'required_experience',\n",
    "       'required_education', 'industry', 'function', 'fraudulent', 'country',\n",
    "       'title_length', 'desc_length', 'company_profile_length',\n",
    "       'requirements_length', 'salary_avg_usd', 'salary_spread', 'mentions_benefits',\n",
    "        'url_in_desc', 'email_in_desc', 'fraudlike_phrases', 'work_from_home_desc',\n",
    "       'higher_degree_required', 'high_salary', 'salary_spread_cat']"
   ]
  },
  {
   "cell_type": "code",
   "execution_count": 97,
   "metadata": {},
   "outputs": [],
   "source": [
    "job_data_to_model = job_data_cleaned_cats[relevant_data]"
   ]
  },
  {
   "cell_type": "code",
   "execution_count": 98,
   "metadata": {},
   "outputs": [],
   "source": [
    "categoricals = ['employment_type', 'required_experience',\n",
    "       'required_education', 'industry', 'function', 'country', 'salary_spread_cat']\n",
    "\n",
    "numerics = ['telecommuting', 'has_company_logo', 'has_questions', 'number_offers', 'title_length', 'desc_length',\n",
    "           'company_profile_length','requirements_length', 'salary_avg_usd', 'salary_spread', 'mentions_benefits',\n",
    "           'url_in_desc', 'email_in_desc' 'higher_degree_required', 'high_salary']"
   ]
  },
  {
   "cell_type": "code",
   "execution_count": 99,
   "metadata": {},
   "outputs": [
    {
     "data": {
      "text/plain": [
       "employment_type         6\n",
       "required_experience     8\n",
       "required_education     14\n",
       "industry               12\n",
       "function               16\n",
       "country                 9\n",
       "salary_spread_cat       4\n",
       "dtype: int64"
      ]
     },
     "execution_count": 99,
     "metadata": {},
     "output_type": "execute_result"
    }
   ],
   "source": [
    "job_data_to_model[categoricals].apply(lambda x : len(x.value_counts()))\n"
   ]
  },
  {
   "cell_type": "code",
   "execution_count": 100,
   "metadata": {},
   "outputs": [],
   "source": [
    "job_data_to_model_with_dummies = create_dummy_df(job_data_to_model, categoricals)"
   ]
  },
  {
   "cell_type": "code",
   "execution_count": 101,
   "metadata": {},
   "outputs": [
    {
     "data": {
      "text/plain": [
       "Index(['job_id', 'telecommuting', 'has_company_logo', 'has_questions',\n",
       "       'number_offers', 'fraudulent', 'title_length', 'desc_length',\n",
       "       'company_profile_length', 'requirements_length', 'salary_avg_usd',\n",
       "       'salary_spread', 'mentions_benefits', 'url_in_desc', 'email_in_desc',\n",
       "       'fraudlike_phrases', 'work_from_home_desc', 'higher_degree_required',\n",
       "       'high_salary', 'employment_type_Full-time', 'employment_type_Other',\n",
       "       'employment_type_Part-time', 'employment_type_Temporary',\n",
       "       'employment_type_unknown', 'employment_type_nan',\n",
       "       'required_experience_Director', 'required_experience_Entry level',\n",
       "       'required_experience_Executive', 'required_experience_Internship',\n",
       "       'required_experience_Mid-Senior level',\n",
       "       'required_experience_Not Applicable', 'required_experience_unknown',\n",
       "       'required_experience_nan', 'required_education_Bachelor's Degree',\n",
       "       'required_education_Certification', 'required_education_Doctorate',\n",
       "       'required_education_High School or equivalent',\n",
       "       'required_education_Master's Degree', 'required_education_Professional',\n",
       "       'required_education_Some College Coursework Completed',\n",
       "       'required_education_Some High School Coursework',\n",
       "       'required_education_Unspecified', 'required_education_Vocational',\n",
       "       'required_education_Vocational - Degree',\n",
       "       'required_education_Vocational - HS Diploma',\n",
       "       'required_education_unknown', 'required_education_nan',\n",
       "       'industry_Consumer Services', 'industry_Financial Services',\n",
       "       'industry_Hospital & Health Care',\n",
       "       'industry_Information Technology and Services', 'industry_Internet',\n",
       "       'industry_Marketing and Advertising', 'industry_Oil & Energy',\n",
       "       'industry_Other', 'industry_Retail', 'industry_Telecommunications',\n",
       "       'industry_unknown', 'industry_nan', 'function_Administrative',\n",
       "       'function_Business Development', 'function_Customer Service',\n",
       "       'function_Design', 'function_Engineering', 'function_Finance',\n",
       "       'function_Health Care Provider', 'function_Human Resources',\n",
       "       'function_Information Technology', 'function_Management',\n",
       "       'function_Marketing', 'function_Other', 'function_Project Management',\n",
       "       'function_Sales', 'function_unknown', 'function_nan', 'country_CA',\n",
       "       'country_DE', 'country_GB', 'country_GR', 'country_IN', 'country_NZ',\n",
       "       'country_Other', 'country_US', 'country_nan', 'salary_spread_cat_low',\n",
       "       'salary_spread_cat_mid', 'salary_spread_cat_no spread',\n",
       "       'salary_spread_cat_nan'],\n",
       "      dtype='object')"
      ]
     },
     "execution_count": 101,
     "metadata": {},
     "output_type": "execute_result"
    }
   ],
   "source": [
    "job_data_to_model_with_dummies.columns"
   ]
  },
  {
   "cell_type": "code",
   "execution_count": 102,
   "metadata": {},
   "outputs": [
    {
     "data": {
      "text/html": [
       "<div>\n",
       "<style scoped>\n",
       "    .dataframe tbody tr th:only-of-type {\n",
       "        vertical-align: middle;\n",
       "    }\n",
       "\n",
       "    .dataframe tbody tr th {\n",
       "        vertical-align: top;\n",
       "    }\n",
       "\n",
       "    .dataframe thead th {\n",
       "        text-align: right;\n",
       "    }\n",
       "</style>\n",
       "<table border=\"1\" class=\"dataframe\">\n",
       "  <thead>\n",
       "    <tr style=\"text-align: right;\">\n",
       "      <th></th>\n",
       "      <th>job_id</th>\n",
       "      <th>telecommuting</th>\n",
       "      <th>has_company_logo</th>\n",
       "      <th>has_questions</th>\n",
       "      <th>number_offers</th>\n",
       "      <th>fraudulent</th>\n",
       "      <th>title_length</th>\n",
       "      <th>desc_length</th>\n",
       "      <th>company_profile_length</th>\n",
       "      <th>requirements_length</th>\n",
       "      <th>...</th>\n",
       "      <th>country_GR</th>\n",
       "      <th>country_IN</th>\n",
       "      <th>country_NZ</th>\n",
       "      <th>country_Other</th>\n",
       "      <th>country_US</th>\n",
       "      <th>country_nan</th>\n",
       "      <th>salary_spread_cat_low</th>\n",
       "      <th>salary_spread_cat_mid</th>\n",
       "      <th>salary_spread_cat_no spread</th>\n",
       "      <th>salary_spread_cat_nan</th>\n",
       "    </tr>\n",
       "  </thead>\n",
       "  <tbody>\n",
       "    <tr>\n",
       "      <td>0</td>\n",
       "      <td>1</td>\n",
       "      <td>0</td>\n",
       "      <td>1</td>\n",
       "      <td>0</td>\n",
       "      <td>1</td>\n",
       "      <td>0</td>\n",
       "      <td>2</td>\n",
       "      <td>124</td>\n",
       "      <td>141</td>\n",
       "      <td>115</td>\n",
       "      <td>...</td>\n",
       "      <td>0</td>\n",
       "      <td>0</td>\n",
       "      <td>0</td>\n",
       "      <td>0</td>\n",
       "      <td>1</td>\n",
       "      <td>0</td>\n",
       "      <td>1</td>\n",
       "      <td>0</td>\n",
       "      <td>0</td>\n",
       "      <td>0</td>\n",
       "    </tr>\n",
       "    <tr>\n",
       "      <td>1</td>\n",
       "      <td>2</td>\n",
       "      <td>0</td>\n",
       "      <td>1</td>\n",
       "      <td>0</td>\n",
       "      <td>1</td>\n",
       "      <td>0</td>\n",
       "      <td>6</td>\n",
       "      <td>315</td>\n",
       "      <td>153</td>\n",
       "      <td>200</td>\n",
       "      <td>...</td>\n",
       "      <td>0</td>\n",
       "      <td>0</td>\n",
       "      <td>1</td>\n",
       "      <td>0</td>\n",
       "      <td>0</td>\n",
       "      <td>0</td>\n",
       "      <td>1</td>\n",
       "      <td>0</td>\n",
       "      <td>0</td>\n",
       "      <td>0</td>\n",
       "    </tr>\n",
       "  </tbody>\n",
       "</table>\n",
       "<p>2 rows × 88 columns</p>\n",
       "</div>"
      ],
      "text/plain": [
       "   job_id  telecommuting  has_company_logo  has_questions  number_offers  \\\n",
       "0       1              0                 1              0              1   \n",
       "1       2              0                 1              0              1   \n",
       "\n",
       "   fraudulent  title_length  desc_length  company_profile_length  \\\n",
       "0           0             2          124                     141   \n",
       "1           0             6          315                     153   \n",
       "\n",
       "   requirements_length  ...  country_GR  country_IN  country_NZ  \\\n",
       "0                  115  ...           0           0           0   \n",
       "1                  200  ...           0           0           1   \n",
       "\n",
       "   country_Other  country_US  country_nan  salary_spread_cat_low  \\\n",
       "0              0           1            0                      1   \n",
       "1              0           0            0                      1   \n",
       "\n",
       "   salary_spread_cat_mid  salary_spread_cat_no spread  salary_spread_cat_nan  \n",
       "0                      0                            0                      0  \n",
       "1                      0                            0                      0  \n",
       "\n",
       "[2 rows x 88 columns]"
      ]
     },
     "execution_count": 102,
     "metadata": {},
     "output_type": "execute_result"
    }
   ],
   "source": [
    "job_data_to_model_with_dummies.head(2)"
   ]
  },
  {
   "cell_type": "code",
   "execution_count": 103,
   "metadata": {},
   "outputs": [],
   "source": [
    "X = job_data_to_model_with_dummies[[c for c in job_data_to_model_with_dummies.columns if c not in (\"fraudulent\", \"job_id\")]]"
   ]
  },
  {
   "cell_type": "code",
   "execution_count": 104,
   "metadata": {},
   "outputs": [],
   "source": [
    "y = job_data_to_model_with_dummies[\"fraudulent\"]"
   ]
  },
  {
   "cell_type": "code",
   "execution_count": 105,
   "metadata": {},
   "outputs": [],
   "source": [
    "X_train, X_test, y_train, y_test = train_test_split(X, y, test_size = .30, random_state=42)\n"
   ]
  },
  {
   "cell_type": "code",
   "execution_count": 106,
   "metadata": {
    "scrolled": true
   },
   "outputs": [
    {
     "data": {
      "text/plain": [
       "((10430, 86), (4471, 86), (10430,), (4471,))"
      ]
     },
     "execution_count": 106,
     "metadata": {},
     "output_type": "execute_result"
    }
   ],
   "source": [
    "X_train.shape, X_test.shape, y_train.shape, y_test.shape"
   ]
  },
  {
   "cell_type": "code",
   "execution_count": 107,
   "metadata": {},
   "outputs": [
    {
     "data": {
      "text/plain": [
       "0    9978\n",
       "1     452\n",
       "Name: fraudulent, dtype: int64"
      ]
     },
     "execution_count": 107,
     "metadata": {},
     "output_type": "execute_result"
    }
   ],
   "source": [
    "y_train.value_counts()"
   ]
  },
  {
   "cell_type": "markdown",
   "metadata": {},
   "source": [
    "Model learned on an inbalanced dataset generalizes poorly, that's why sampling techniques are necessary. For example SMOTE\n"
   ]
  },
  {
   "cell_type": "code",
   "execution_count": 108,
   "metadata": {
    "scrolled": true
   },
   "outputs": [],
   "source": [
    "sm = SMOTE(random_state=23)\n",
    "X_train_res, y_train_res = sm.fit_sample(X_train, y_train)"
   ]
  },
  {
   "cell_type": "code",
   "execution_count": 109,
   "metadata": {
    "scrolled": true
   },
   "outputs": [
    {
     "data": {
      "text/plain": [
       "((19956, 86), (19956,))"
      ]
     },
     "execution_count": 109,
     "metadata": {},
     "output_type": "execute_result"
    }
   ],
   "source": [
    "X_train_res.shape, y_train_res.shape"
   ]
  },
  {
   "cell_type": "code",
   "execution_count": 110,
   "metadata": {
    "scrolled": true
   },
   "outputs": [
    {
     "data": {
      "text/plain": [
       "(1    9978\n",
       " 0    9978\n",
       " Name: fraudulent, dtype: int64,)"
      ]
     },
     "execution_count": 110,
     "metadata": {},
     "output_type": "execute_result"
    }
   ],
   "source": [
    "y_train_res.value_counts(), "
   ]
  },
  {
   "cell_type": "code",
   "execution_count": 111,
   "metadata": {},
   "outputs": [
    {
     "data": {
      "text/plain": [
       "0    4274\n",
       "1     197\n",
       "Name: fraudulent, dtype: int64"
      ]
     },
     "execution_count": 111,
     "metadata": {},
     "output_type": "execute_result"
    }
   ],
   "source": [
    "y_test.value_counts()"
   ]
  },
  {
   "cell_type": "code",
   "execution_count": 112,
   "metadata": {},
   "outputs": [
    {
     "data": {
      "text/plain": [
       "RandomForestClassifier(bootstrap=True, ccp_alpha=0.0, class_weight=None,\n",
       "                       criterion='gini', max_depth=None, max_features='sqrt',\n",
       "                       max_leaf_nodes=None, max_samples=None,\n",
       "                       min_impurity_decrease=0.0, min_impurity_split=None,\n",
       "                       min_samples_leaf=1, min_samples_split=2,\n",
       "                       min_weight_fraction_leaf=0.0, n_estimators=1000,\n",
       "                       n_jobs=None, oob_score=False, random_state=23, verbose=0,\n",
       "                       warm_start=False)"
      ]
     },
     "execution_count": 112,
     "metadata": {},
     "output_type": "execute_result"
    }
   ],
   "source": [
    "#Random Forest w/o optimization\n",
    "rf_model = RandomForestClassifier(n_estimators=1000, \n",
    "                               bootstrap = True,\n",
    "                               max_features = 'sqrt', random_state=23)\n",
    "# Fit on training data\n",
    "rf_model.fit(X_train_res, y_train_res)"
   ]
  },
  {
   "cell_type": "code",
   "execution_count": 113,
   "metadata": {},
   "outputs": [],
   "source": [
    "# Actual class predictions\n",
    "rf_predictions = rf_model.predict(X_test)\n"
   ]
  },
  {
   "cell_type": "code",
   "execution_count": 114,
   "metadata": {
    "scrolled": true
   },
   "outputs": [
    {
     "name": "stdout",
     "output_type": "stream",
     "text": [
      "              precision    recall  f1-score   support\n",
      "\n",
      "           0       0.99      0.99      0.99      4274\n",
      "           1       0.86      0.70      0.77       197\n",
      "\n",
      "    accuracy                           0.98      4471\n",
      "   macro avg       0.92      0.85      0.88      4471\n",
      "weighted avg       0.98      0.98      0.98      4471\n",
      "\n"
     ]
    }
   ],
   "source": [
    "classification_report(y_test, rf_predictions)\n",
    "print(classification_report(y_test, rf_predictions))"
   ]
  },
  {
   "cell_type": "markdown",
   "metadata": {},
   "source": [
    "There are 30% of job postings that haven't been recognized.\n",
    "\n",
    "Additionaly, precision 0.86 means one in 6 job postings the model classified as fraudulent are in fact normal ones.\n",
    "\n",
    "In order to achieve better performance more fine tuning of model, additional data, such as E-mail domain, job postings metadata are necessary.\n"
   ]
  },
  {
   "cell_type": "code",
   "execution_count": 115,
   "metadata": {},
   "outputs": [
    {
     "data": {
      "text/plain": [
       "array([[4251,   23],\n",
       "       [  59,  138]])"
      ]
     },
     "execution_count": 115,
     "metadata": {},
     "output_type": "execute_result"
    }
   ],
   "source": [
    "confusion_matrix(y_test, rf_predictions)"
   ]
  },
  {
   "cell_type": "code",
   "execution_count": 116,
   "metadata": {},
   "outputs": [],
   "source": [
    "#plot classification matrix"
   ]
  },
  {
   "cell_type": "code",
   "execution_count": 117,
   "metadata": {},
   "outputs": [],
   "source": [
    "fi = pd.DataFrame({'feature': list(X_train.columns),\n",
    "                   'importance': rf_model.feature_importances_}).\\\n",
    "                    sort_values('importance', ascending = False).reset_index(drop=True)\n"
   ]
  },
  {
   "cell_type": "code",
   "execution_count": 118,
   "metadata": {},
   "outputs": [
    {
     "data": {
      "text/html": [
       "<div>\n",
       "<style scoped>\n",
       "    .dataframe tbody tr th:only-of-type {\n",
       "        vertical-align: middle;\n",
       "    }\n",
       "\n",
       "    .dataframe tbody tr th {\n",
       "        vertical-align: top;\n",
       "    }\n",
       "\n",
       "    .dataframe thead th {\n",
       "        text-align: right;\n",
       "    }\n",
       "</style>\n",
       "<table border=\"1\" class=\"dataframe\">\n",
       "  <thead>\n",
       "    <tr style=\"text-align: right;\">\n",
       "      <th></th>\n",
       "      <th>feature</th>\n",
       "      <th>importance</th>\n",
       "    </tr>\n",
       "  </thead>\n",
       "  <tbody>\n",
       "    <tr>\n",
       "      <td>0</td>\n",
       "      <td>has_company_logo</td>\n",
       "      <td>0.167621</td>\n",
       "    </tr>\n",
       "    <tr>\n",
       "      <td>1</td>\n",
       "      <td>salary_avg_usd</td>\n",
       "      <td>0.115623</td>\n",
       "    </tr>\n",
       "    <tr>\n",
       "      <td>2</td>\n",
       "      <td>company_profile_length</td>\n",
       "      <td>0.100744</td>\n",
       "    </tr>\n",
       "    <tr>\n",
       "      <td>3</td>\n",
       "      <td>has_questions</td>\n",
       "      <td>0.047478</td>\n",
       "    </tr>\n",
       "    <tr>\n",
       "      <td>4</td>\n",
       "      <td>required_education_Bachelor's Degree</td>\n",
       "      <td>0.039642</td>\n",
       "    </tr>\n",
       "    <tr>\n",
       "      <td>5</td>\n",
       "      <td>country_US</td>\n",
       "      <td>0.036939</td>\n",
       "    </tr>\n",
       "    <tr>\n",
       "      <td>6</td>\n",
       "      <td>salary_spread</td>\n",
       "      <td>0.035033</td>\n",
       "    </tr>\n",
       "    <tr>\n",
       "      <td>7</td>\n",
       "      <td>requirements_length</td>\n",
       "      <td>0.033071</td>\n",
       "    </tr>\n",
       "    <tr>\n",
       "      <td>8</td>\n",
       "      <td>higher_degree_required</td>\n",
       "      <td>0.031700</td>\n",
       "    </tr>\n",
       "    <tr>\n",
       "      <td>9</td>\n",
       "      <td>industry_Oil &amp; Energy</td>\n",
       "      <td>0.028235</td>\n",
       "    </tr>\n",
       "  </tbody>\n",
       "</table>\n",
       "</div>"
      ],
      "text/plain": [
       "                                feature  importance\n",
       "0                      has_company_logo    0.167621\n",
       "1                        salary_avg_usd    0.115623\n",
       "2                company_profile_length    0.100744\n",
       "3                         has_questions    0.047478\n",
       "4  required_education_Bachelor's Degree    0.039642\n",
       "5                            country_US    0.036939\n",
       "6                         salary_spread    0.035033\n",
       "7                   requirements_length    0.033071\n",
       "8                higher_degree_required    0.031700\n",
       "9                 industry_Oil & Energy    0.028235"
      ]
     },
     "execution_count": 118,
     "metadata": {},
     "output_type": "execute_result"
    }
   ],
   "source": [
    "fi.head(10)"
   ]
  },
  {
   "cell_type": "code",
   "execution_count": 119,
   "metadata": {},
   "outputs": [
    {
     "data": {
      "text/plain": [
       "has_company_logo  fraudulent\n",
       "0                 0              2419\n",
       "                  1               437\n",
       "1                 0             11833\n",
       "                  1               212\n",
       "Name: job_id, dtype: int64"
      ]
     },
     "execution_count": 119,
     "metadata": {},
     "output_type": "execute_result"
    }
   ],
   "source": [
    "job_data_cleaned_cats.groupby([\"has_company_logo\", \"fraudulent\"])[\"job_id\"].count()"
   ]
  },
  {
   "cell_type": "markdown",
   "metadata": {},
   "source": [
    "------------------------------------------------------------------------------------------------------------------\n",
    "comparison with the \"baseline\" - if country = USA and salary over 140k then fraud or if country != USA and salary over 80k "
   ]
  },
  {
   "cell_type": "code",
   "execution_count": 120,
   "metadata": {},
   "outputs": [],
   "source": [
    "def set_baseline_fraud(df):\n",
    "    if (df.country == \"US\" and df.salary_avg_usd > 140000) | (df.country != \"US\" and df.salary_avg_usd > 80000):\n",
    "        return 1\n",
    "    else:\n",
    "        return 0\n",
    "    "
   ]
  },
  {
   "cell_type": "code",
   "execution_count": 121,
   "metadata": {},
   "outputs": [
    {
     "data": {
      "text/html": [
       "<div>\n",
       "<style scoped>\n",
       "    .dataframe tbody tr th:only-of-type {\n",
       "        vertical-align: middle;\n",
       "    }\n",
       "\n",
       "    .dataframe tbody tr th {\n",
       "        vertical-align: top;\n",
       "    }\n",
       "\n",
       "    .dataframe thead th {\n",
       "        text-align: right;\n",
       "    }\n",
       "</style>\n",
       "<table border=\"1\" class=\"dataframe\">\n",
       "  <thead>\n",
       "    <tr style=\"text-align: right;\">\n",
       "      <th></th>\n",
       "      <th>country</th>\n",
       "      <th>salary_avg_usd</th>\n",
       "      <th>fraudulent</th>\n",
       "    </tr>\n",
       "  </thead>\n",
       "  <tbody>\n",
       "    <tr>\n",
       "      <td>0</td>\n",
       "      <td>US</td>\n",
       "      <td>31898.617886</td>\n",
       "      <td>0</td>\n",
       "    </tr>\n",
       "    <tr>\n",
       "      <td>1</td>\n",
       "      <td>NZ</td>\n",
       "      <td>40585.333333</td>\n",
       "      <td>0</td>\n",
       "    </tr>\n",
       "    <tr>\n",
       "      <td>2</td>\n",
       "      <td>US</td>\n",
       "      <td>154960.000000</td>\n",
       "      <td>0</td>\n",
       "    </tr>\n",
       "    <tr>\n",
       "      <td>3</td>\n",
       "      <td>US</td>\n",
       "      <td>71650.000000</td>\n",
       "      <td>0</td>\n",
       "    </tr>\n",
       "    <tr>\n",
       "      <td>4</td>\n",
       "      <td>US</td>\n",
       "      <td>170000.000000</td>\n",
       "      <td>0</td>\n",
       "    </tr>\n",
       "  </tbody>\n",
       "</table>\n",
       "</div>"
      ],
      "text/plain": [
       "  country  salary_avg_usd  fraudulent\n",
       "0      US    31898.617886           0\n",
       "1      NZ    40585.333333           0\n",
       "2      US   154960.000000           0\n",
       "3      US    71650.000000           0\n",
       "4      US   170000.000000           0"
      ]
     },
     "execution_count": 121,
     "metadata": {},
     "output_type": "execute_result"
    }
   ],
   "source": [
    "baseline_df = job_data_cleaned_cats[[\"country\", \"salary_avg_usd\", \"fraudulent\"]]\n",
    "baseline_df.head()"
   ]
  },
  {
   "cell_type": "code",
   "execution_count": 122,
   "metadata": {},
   "outputs": [
    {
     "name": "stderr",
     "output_type": "stream",
     "text": [
      "/home/jakub/anaconda3/lib/python3.7/site-packages/ipykernel_launcher.py:1: SettingWithCopyWarning: \n",
      "A value is trying to be set on a copy of a slice from a DataFrame.\n",
      "Try using .loc[row_indexer,col_indexer] = value instead\n",
      "\n",
      "See the caveats in the documentation: http://pandas.pydata.org/pandas-docs/stable/user_guide/indexing.html#returning-a-view-versus-a-copy\n",
      "  \"\"\"Entry point for launching an IPython kernel.\n"
     ]
    }
   ],
   "source": [
    "baseline_df[\"baseline_fraud\"]=baseline_df.apply(set_baseline_fraud, axis=1)"
   ]
  },
  {
   "cell_type": "code",
   "execution_count": 123,
   "metadata": {
    "scrolled": true
   },
   "outputs": [
    {
     "data": {
      "text/plain": [
       "fraudulent  baseline_fraud\n",
       "0           0                 12625\n",
       "            1                  1627\n",
       "1           0                   623\n",
       "            1                    26\n",
       "Name: country, dtype: int64"
      ]
     },
     "execution_count": 123,
     "metadata": {},
     "output_type": "execute_result"
    }
   ],
   "source": [
    "baseline_df.groupby([\"fraudulent\", \"baseline_fraud\"])[\"country\"].count()"
   ]
  },
  {
   "cell_type": "code",
   "execution_count": 124,
   "metadata": {},
   "outputs": [
    {
     "name": "stdout",
     "output_type": "stream",
     "text": [
      "              precision    recall  f1-score   support\n",
      "\n",
      "           0       0.95      0.89      0.92     14252\n",
      "           1       0.02      0.04      0.02       649\n",
      "\n",
      "    accuracy                           0.85     14901\n",
      "   macro avg       0.48      0.46      0.47     14901\n",
      "weighted avg       0.91      0.85      0.88     14901\n",
      "\n"
     ]
    }
   ],
   "source": [
    "print(classification_report(baseline_df.fraudulent, baseline_df.baseline_fraud))"
   ]
  },
  {
   "cell_type": "code",
   "execution_count": 125,
   "metadata": {
    "scrolled": true
   },
   "outputs": [
    {
     "data": {
      "text/plain": [
       "array([[12625,  1627],\n",
       "       [  623,    26]])"
      ]
     },
     "execution_count": 125,
     "metadata": {},
     "output_type": "execute_result"
    }
   ],
   "source": [
    "confusion_matrix(baseline_df.fraudulent, baseline_df.baseline_fraud)"
   ]
  }
 ],
 "metadata": {
  "kernelspec": {
   "display_name": "Python 3",
   "language": "python",
   "name": "python3"
  },
  "language_info": {
   "codemirror_mode": {
    "name": "ipython",
    "version": 3
   },
   "file_extension": ".py",
   "mimetype": "text/x-python",
   "name": "python",
   "nbconvert_exporter": "python",
   "pygments_lexer": "ipython3",
   "version": "3.7.4"
  }
 },
 "nbformat": 4,
 "nbformat_minor": 2
}
